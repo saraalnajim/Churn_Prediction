{
 "cells": [
  {
   "cell_type": "markdown",
   "metadata": {
    "id": "tXCZkAYo3kwf"
   },
   "source": [
    "___\n",
    "\n",
    "<p style=\"text-align: center;\"><img src=\"https://docs.google.com/uc?id=1lY0Uj5R04yMY3-ZppPWxqCr5pvBLYPnV\" class=\"img-fluid\" alt=\"CLRSWY\"></p>\n",
    "\n",
    "___"
   ]
  },
  {
   "cell_type": "markdown",
   "metadata": {
    "id": "gAsNz-QL3kwi"
   },
   "source": [
    "<h1 style=\"text-align: center;\">Deep Learning<br><br>Assignment-1 (ANN)<br><br>Churn Prediction for Bank Customer<br><h1>"
   ]
  },
  {
   "cell_type": "markdown",
   "metadata": {
    "id": "F1bS1lCk3kwi"
   },
   "source": [
    "# Dataset Info"
   ]
  },
  {
   "cell_type": "markdown",
   "metadata": {
    "id": "TDj3h5GE3kwi"
   },
   "source": [
    "We have a dataset in which there are details of a bank's customers and the target variable is a binary variable reflecting the fact whether the customer left the bank (closed his account) or he continues to be a customer.\n",
    "\n",
    "The features in the given dataset are:\n",
    "- **rownumber:** Row Numbers from 1 to 10000.\n",
    "- **customerid:** A unique ID that identifies each customer.\n",
    "- **surname:** The customer’s surname.\n",
    "- **creditscore:** A credit score is a number between 300–850 that depicts a consumer's creditworthiness.\n",
    "- **geography:** The country from which the customer belongs to.\n",
    "- **Gender:** The customer’s gender: Male, Female\n",
    "- **Age:** The customer’s current age, in years, at the time of being customer.\n",
    "- **tenure:** The number of years for which the customer has been with the bank.\n",
    "- **balance:** Bank balance of the customer.\n",
    "- **numofproducts:** the number of bank products the customer is utilising.\n",
    "- **hascrcard:** The number of credit cards given to the customer by the bank.\n",
    "- **isactivemember:** Binary Flag for indicating if the client is active or not with the bank before the moment where the client exits the company (recorded in the variable \"exited\")\n",
    "- **exited:** Binary flag 1 if the customer closed account with bank and 0 if the customer is retained."
   ]
  },
  {
   "cell_type": "markdown",
   "metadata": {
    "id": "L2R30Vf_3kwj"
   },
   "source": [
    "# Improt Libraries & Data"
   ]
  },
  {
   "cell_type": "code",
   "execution_count": 1,
   "metadata": {
    "id": "Ya_b1qJz3kwj"
   },
   "outputs": [
    {
     "name": "stderr",
     "output_type": "stream",
     "text": [
      "C:\\Users\\saraa\\anaconda3\\lib\\site-packages\\scipy\\__init__.py:146: UserWarning: A NumPy version >=1.16.5 and <1.23.0 is required for this version of SciPy (detected version 1.26.1\n",
      "  warnings.warn(f\"A NumPy version >={np_minversion} and <{np_maxversion}\"\n"
     ]
    }
   ],
   "source": [
    "import numpy as np\n",
    "import pandas as pd\n",
    "import matplotlib.pyplot as plt\n",
    "import seaborn as sns\n",
    "\n",
    "#ignore warning messages \n",
    "\n",
    "import warnings\n",
    "warnings.filterwarnings(\"ignore\")\n",
    "warnings.warn(\"this will not show\")\n",
    "\n",
    "# to display all columns in the dataset\n",
    "\n",
    "pd.set_option(\"display.max_columns\", None)"
   ]
  },
  {
   "cell_type": "code",
   "execution_count": 2,
   "metadata": {
    "id": "0vU7cCUU3kwk"
   },
   "outputs": [
    {
     "data": {
      "text/html": [
       "<div>\n",
       "<style scoped>\n",
       "    .dataframe tbody tr th:only-of-type {\n",
       "        vertical-align: middle;\n",
       "    }\n",
       "\n",
       "    .dataframe tbody tr th {\n",
       "        vertical-align: top;\n",
       "    }\n",
       "\n",
       "    .dataframe thead th {\n",
       "        text-align: right;\n",
       "    }\n",
       "</style>\n",
       "<table border=\"1\" class=\"dataframe\">\n",
       "  <thead>\n",
       "    <tr style=\"text-align: right;\">\n",
       "      <th></th>\n",
       "      <th>RowNumber</th>\n",
       "      <th>CustomerId</th>\n",
       "      <th>Surname</th>\n",
       "      <th>CreditScore</th>\n",
       "      <th>Geography</th>\n",
       "      <th>Gender</th>\n",
       "      <th>Age</th>\n",
       "      <th>Tenure</th>\n",
       "      <th>Balance</th>\n",
       "      <th>NumOfProducts</th>\n",
       "      <th>HasCrCard</th>\n",
       "      <th>IsActiveMember</th>\n",
       "      <th>EstimatedSalary</th>\n",
       "      <th>Exited</th>\n",
       "    </tr>\n",
       "  </thead>\n",
       "  <tbody>\n",
       "    <tr>\n",
       "      <th>0</th>\n",
       "      <td>1</td>\n",
       "      <td>15634602</td>\n",
       "      <td>Hargrave</td>\n",
       "      <td>619</td>\n",
       "      <td>France</td>\n",
       "      <td>Female</td>\n",
       "      <td>42</td>\n",
       "      <td>2</td>\n",
       "      <td>0.00</td>\n",
       "      <td>1</td>\n",
       "      <td>1</td>\n",
       "      <td>1</td>\n",
       "      <td>101348.88</td>\n",
       "      <td>1</td>\n",
       "    </tr>\n",
       "    <tr>\n",
       "      <th>1</th>\n",
       "      <td>2</td>\n",
       "      <td>15647311</td>\n",
       "      <td>Hill</td>\n",
       "      <td>608</td>\n",
       "      <td>Spain</td>\n",
       "      <td>Female</td>\n",
       "      <td>41</td>\n",
       "      <td>1</td>\n",
       "      <td>83807.86</td>\n",
       "      <td>1</td>\n",
       "      <td>0</td>\n",
       "      <td>1</td>\n",
       "      <td>112542.58</td>\n",
       "      <td>0</td>\n",
       "    </tr>\n",
       "    <tr>\n",
       "      <th>2</th>\n",
       "      <td>3</td>\n",
       "      <td>15619304</td>\n",
       "      <td>Onio</td>\n",
       "      <td>502</td>\n",
       "      <td>France</td>\n",
       "      <td>Female</td>\n",
       "      <td>42</td>\n",
       "      <td>8</td>\n",
       "      <td>159660.80</td>\n",
       "      <td>3</td>\n",
       "      <td>1</td>\n",
       "      <td>0</td>\n",
       "      <td>113931.57</td>\n",
       "      <td>1</td>\n",
       "    </tr>\n",
       "    <tr>\n",
       "      <th>3</th>\n",
       "      <td>4</td>\n",
       "      <td>15701354</td>\n",
       "      <td>Boni</td>\n",
       "      <td>699</td>\n",
       "      <td>France</td>\n",
       "      <td>Female</td>\n",
       "      <td>39</td>\n",
       "      <td>1</td>\n",
       "      <td>0.00</td>\n",
       "      <td>2</td>\n",
       "      <td>0</td>\n",
       "      <td>0</td>\n",
       "      <td>93826.63</td>\n",
       "      <td>0</td>\n",
       "    </tr>\n",
       "    <tr>\n",
       "      <th>4</th>\n",
       "      <td>5</td>\n",
       "      <td>15737888</td>\n",
       "      <td>Mitchell</td>\n",
       "      <td>850</td>\n",
       "      <td>Spain</td>\n",
       "      <td>Female</td>\n",
       "      <td>43</td>\n",
       "      <td>2</td>\n",
       "      <td>125510.82</td>\n",
       "      <td>1</td>\n",
       "      <td>1</td>\n",
       "      <td>1</td>\n",
       "      <td>79084.10</td>\n",
       "      <td>0</td>\n",
       "    </tr>\n",
       "    <tr>\n",
       "      <th>...</th>\n",
       "      <td>...</td>\n",
       "      <td>...</td>\n",
       "      <td>...</td>\n",
       "      <td>...</td>\n",
       "      <td>...</td>\n",
       "      <td>...</td>\n",
       "      <td>...</td>\n",
       "      <td>...</td>\n",
       "      <td>...</td>\n",
       "      <td>...</td>\n",
       "      <td>...</td>\n",
       "      <td>...</td>\n",
       "      <td>...</td>\n",
       "      <td>...</td>\n",
       "    </tr>\n",
       "    <tr>\n",
       "      <th>9995</th>\n",
       "      <td>9996</td>\n",
       "      <td>15606229</td>\n",
       "      <td>Obijiaku</td>\n",
       "      <td>771</td>\n",
       "      <td>France</td>\n",
       "      <td>Male</td>\n",
       "      <td>39</td>\n",
       "      <td>5</td>\n",
       "      <td>0.00</td>\n",
       "      <td>2</td>\n",
       "      <td>1</td>\n",
       "      <td>0</td>\n",
       "      <td>96270.64</td>\n",
       "      <td>0</td>\n",
       "    </tr>\n",
       "    <tr>\n",
       "      <th>9996</th>\n",
       "      <td>9997</td>\n",
       "      <td>15569892</td>\n",
       "      <td>Johnstone</td>\n",
       "      <td>516</td>\n",
       "      <td>France</td>\n",
       "      <td>Male</td>\n",
       "      <td>35</td>\n",
       "      <td>10</td>\n",
       "      <td>57369.61</td>\n",
       "      <td>1</td>\n",
       "      <td>1</td>\n",
       "      <td>1</td>\n",
       "      <td>101699.77</td>\n",
       "      <td>0</td>\n",
       "    </tr>\n",
       "    <tr>\n",
       "      <th>9997</th>\n",
       "      <td>9998</td>\n",
       "      <td>15584532</td>\n",
       "      <td>Liu</td>\n",
       "      <td>709</td>\n",
       "      <td>France</td>\n",
       "      <td>Female</td>\n",
       "      <td>36</td>\n",
       "      <td>7</td>\n",
       "      <td>0.00</td>\n",
       "      <td>1</td>\n",
       "      <td>0</td>\n",
       "      <td>1</td>\n",
       "      <td>42085.58</td>\n",
       "      <td>1</td>\n",
       "    </tr>\n",
       "    <tr>\n",
       "      <th>9998</th>\n",
       "      <td>9999</td>\n",
       "      <td>15682355</td>\n",
       "      <td>Sabbatini</td>\n",
       "      <td>772</td>\n",
       "      <td>Germany</td>\n",
       "      <td>Male</td>\n",
       "      <td>42</td>\n",
       "      <td>3</td>\n",
       "      <td>75075.31</td>\n",
       "      <td>2</td>\n",
       "      <td>1</td>\n",
       "      <td>0</td>\n",
       "      <td>92888.52</td>\n",
       "      <td>1</td>\n",
       "    </tr>\n",
       "    <tr>\n",
       "      <th>9999</th>\n",
       "      <td>10000</td>\n",
       "      <td>15628319</td>\n",
       "      <td>Walker</td>\n",
       "      <td>792</td>\n",
       "      <td>France</td>\n",
       "      <td>Female</td>\n",
       "      <td>28</td>\n",
       "      <td>4</td>\n",
       "      <td>130142.79</td>\n",
       "      <td>1</td>\n",
       "      <td>1</td>\n",
       "      <td>0</td>\n",
       "      <td>38190.78</td>\n",
       "      <td>0</td>\n",
       "    </tr>\n",
       "  </tbody>\n",
       "</table>\n",
       "<p>10000 rows × 14 columns</p>\n",
       "</div>"
      ],
      "text/plain": [
       "      RowNumber  CustomerId    Surname  CreditScore Geography  Gender  Age  \\\n",
       "0             1    15634602   Hargrave          619    France  Female   42   \n",
       "1             2    15647311       Hill          608     Spain  Female   41   \n",
       "2             3    15619304       Onio          502    France  Female   42   \n",
       "3             4    15701354       Boni          699    France  Female   39   \n",
       "4             5    15737888   Mitchell          850     Spain  Female   43   \n",
       "...         ...         ...        ...          ...       ...     ...  ...   \n",
       "9995       9996    15606229   Obijiaku          771    France    Male   39   \n",
       "9996       9997    15569892  Johnstone          516    France    Male   35   \n",
       "9997       9998    15584532        Liu          709    France  Female   36   \n",
       "9998       9999    15682355  Sabbatini          772   Germany    Male   42   \n",
       "9999      10000    15628319     Walker          792    France  Female   28   \n",
       "\n",
       "      Tenure    Balance  NumOfProducts  HasCrCard  IsActiveMember  \\\n",
       "0          2       0.00              1          1               1   \n",
       "1          1   83807.86              1          0               1   \n",
       "2          8  159660.80              3          1               0   \n",
       "3          1       0.00              2          0               0   \n",
       "4          2  125510.82              1          1               1   \n",
       "...      ...        ...            ...        ...             ...   \n",
       "9995       5       0.00              2          1               0   \n",
       "9996      10   57369.61              1          1               1   \n",
       "9997       7       0.00              1          0               1   \n",
       "9998       3   75075.31              2          1               0   \n",
       "9999       4  130142.79              1          1               0   \n",
       "\n",
       "      EstimatedSalary  Exited  \n",
       "0           101348.88       1  \n",
       "1           112542.58       0  \n",
       "2           113931.57       1  \n",
       "3            93826.63       0  \n",
       "4            79084.10       0  \n",
       "...               ...     ...  \n",
       "9995         96270.64       0  \n",
       "9996        101699.77       0  \n",
       "9997         42085.58       1  \n",
       "9998         92888.52       1  \n",
       "9999         38190.78       0  \n",
       "\n",
       "[10000 rows x 14 columns]"
      ]
     },
     "execution_count": 2,
     "metadata": {},
     "output_type": "execute_result"
    }
   ],
   "source": [
    "df = pd.read_csv(\"Churn_Modelling.csv\")\n",
    "df"
   ]
  },
  {
   "cell_type": "markdown",
   "metadata": {
    "id": "fQeujCw83kwk"
   },
   "source": [
    "# Exploratory Data Analysis and Visualization"
   ]
  },
  {
   "cell_type": "markdown",
   "metadata": {
    "id": "brF-HBGT3kwk"
   },
   "source": [
    "1. Implement basic steps to see how is your data looks like\n",
    "2. Check for missing values\n",
    "3. Drop the features that not suitable for modelling\n",
    "4. Implement basic visualization steps such as histogram, countplot, heatmap\n",
    "5. Convert categorical variables to dummy variables"
   ]
  },
  {
   "cell_type": "code",
   "execution_count": 3,
   "metadata": {
    "id": "wz7_4z2b3kwl"
   },
   "outputs": [
    {
     "name": "stdout",
     "output_type": "stream",
     "text": [
      "<class 'pandas.core.frame.DataFrame'>\n",
      "RangeIndex: 10000 entries, 0 to 9999\n",
      "Data columns (total 14 columns):\n",
      " #   Column           Non-Null Count  Dtype  \n",
      "---  ------           --------------  -----  \n",
      " 0   RowNumber        10000 non-null  int64  \n",
      " 1   CustomerId       10000 non-null  int64  \n",
      " 2   Surname          10000 non-null  object \n",
      " 3   CreditScore      10000 non-null  int64  \n",
      " 4   Geography        10000 non-null  object \n",
      " 5   Gender           10000 non-null  object \n",
      " 6   Age              10000 non-null  int64  \n",
      " 7   Tenure           10000 non-null  int64  \n",
      " 8   Balance          10000 non-null  float64\n",
      " 9   NumOfProducts    10000 non-null  int64  \n",
      " 10  HasCrCard        10000 non-null  int64  \n",
      " 11  IsActiveMember   10000 non-null  int64  \n",
      " 12  EstimatedSalary  10000 non-null  float64\n",
      " 13  Exited           10000 non-null  int64  \n",
      "dtypes: float64(2), int64(9), object(3)\n",
      "memory usage: 1.1+ MB\n"
     ]
    }
   ],
   "source": [
    "df.info() # drop unnecessary columns (RowNumber, CustomerId, Surname)- then convert object columns(Geography , Gender )"
   ]
  },
  {
   "cell_type": "code",
   "execution_count": 4,
   "metadata": {},
   "outputs": [
    {
     "data": {
      "text/html": [
       "<div>\n",
       "<style scoped>\n",
       "    .dataframe tbody tr th:only-of-type {\n",
       "        vertical-align: middle;\n",
       "    }\n",
       "\n",
       "    .dataframe tbody tr th {\n",
       "        vertical-align: top;\n",
       "    }\n",
       "\n",
       "    .dataframe thead th {\n",
       "        text-align: right;\n",
       "    }\n",
       "</style>\n",
       "<table border=\"1\" class=\"dataframe\">\n",
       "  <thead>\n",
       "    <tr style=\"text-align: right;\">\n",
       "      <th></th>\n",
       "      <th>RowNumber</th>\n",
       "      <th>CustomerId</th>\n",
       "      <th>CreditScore</th>\n",
       "      <th>Age</th>\n",
       "      <th>Tenure</th>\n",
       "      <th>Balance</th>\n",
       "      <th>NumOfProducts</th>\n",
       "      <th>HasCrCard</th>\n",
       "      <th>IsActiveMember</th>\n",
       "      <th>EstimatedSalary</th>\n",
       "      <th>Exited</th>\n",
       "    </tr>\n",
       "  </thead>\n",
       "  <tbody>\n",
       "    <tr>\n",
       "      <th>count</th>\n",
       "      <td>10000.00000</td>\n",
       "      <td>1.000000e+04</td>\n",
       "      <td>10000.000000</td>\n",
       "      <td>10000.000000</td>\n",
       "      <td>10000.000000</td>\n",
       "      <td>10000.000000</td>\n",
       "      <td>10000.000000</td>\n",
       "      <td>10000.00000</td>\n",
       "      <td>10000.000000</td>\n",
       "      <td>10000.000000</td>\n",
       "      <td>10000.000000</td>\n",
       "    </tr>\n",
       "    <tr>\n",
       "      <th>mean</th>\n",
       "      <td>5000.50000</td>\n",
       "      <td>1.569094e+07</td>\n",
       "      <td>650.528800</td>\n",
       "      <td>38.921800</td>\n",
       "      <td>5.012800</td>\n",
       "      <td>76485.889288</td>\n",
       "      <td>1.530200</td>\n",
       "      <td>0.70550</td>\n",
       "      <td>0.515100</td>\n",
       "      <td>100090.239881</td>\n",
       "      <td>0.203700</td>\n",
       "    </tr>\n",
       "    <tr>\n",
       "      <th>std</th>\n",
       "      <td>2886.89568</td>\n",
       "      <td>7.193619e+04</td>\n",
       "      <td>96.653299</td>\n",
       "      <td>10.487806</td>\n",
       "      <td>2.892174</td>\n",
       "      <td>62397.405202</td>\n",
       "      <td>0.581654</td>\n",
       "      <td>0.45584</td>\n",
       "      <td>0.499797</td>\n",
       "      <td>57510.492818</td>\n",
       "      <td>0.402769</td>\n",
       "    </tr>\n",
       "    <tr>\n",
       "      <th>min</th>\n",
       "      <td>1.00000</td>\n",
       "      <td>1.556570e+07</td>\n",
       "      <td>350.000000</td>\n",
       "      <td>18.000000</td>\n",
       "      <td>0.000000</td>\n",
       "      <td>0.000000</td>\n",
       "      <td>1.000000</td>\n",
       "      <td>0.00000</td>\n",
       "      <td>0.000000</td>\n",
       "      <td>11.580000</td>\n",
       "      <td>0.000000</td>\n",
       "    </tr>\n",
       "    <tr>\n",
       "      <th>25%</th>\n",
       "      <td>2500.75000</td>\n",
       "      <td>1.562853e+07</td>\n",
       "      <td>584.000000</td>\n",
       "      <td>32.000000</td>\n",
       "      <td>3.000000</td>\n",
       "      <td>0.000000</td>\n",
       "      <td>1.000000</td>\n",
       "      <td>0.00000</td>\n",
       "      <td>0.000000</td>\n",
       "      <td>51002.110000</td>\n",
       "      <td>0.000000</td>\n",
       "    </tr>\n",
       "    <tr>\n",
       "      <th>50%</th>\n",
       "      <td>5000.50000</td>\n",
       "      <td>1.569074e+07</td>\n",
       "      <td>652.000000</td>\n",
       "      <td>37.000000</td>\n",
       "      <td>5.000000</td>\n",
       "      <td>97198.540000</td>\n",
       "      <td>1.000000</td>\n",
       "      <td>1.00000</td>\n",
       "      <td>1.000000</td>\n",
       "      <td>100193.915000</td>\n",
       "      <td>0.000000</td>\n",
       "    </tr>\n",
       "    <tr>\n",
       "      <th>75%</th>\n",
       "      <td>7500.25000</td>\n",
       "      <td>1.575323e+07</td>\n",
       "      <td>718.000000</td>\n",
       "      <td>44.000000</td>\n",
       "      <td>7.000000</td>\n",
       "      <td>127644.240000</td>\n",
       "      <td>2.000000</td>\n",
       "      <td>1.00000</td>\n",
       "      <td>1.000000</td>\n",
       "      <td>149388.247500</td>\n",
       "      <td>0.000000</td>\n",
       "    </tr>\n",
       "    <tr>\n",
       "      <th>max</th>\n",
       "      <td>10000.00000</td>\n",
       "      <td>1.581569e+07</td>\n",
       "      <td>850.000000</td>\n",
       "      <td>92.000000</td>\n",
       "      <td>10.000000</td>\n",
       "      <td>250898.090000</td>\n",
       "      <td>4.000000</td>\n",
       "      <td>1.00000</td>\n",
       "      <td>1.000000</td>\n",
       "      <td>199992.480000</td>\n",
       "      <td>1.000000</td>\n",
       "    </tr>\n",
       "  </tbody>\n",
       "</table>\n",
       "</div>"
      ],
      "text/plain": [
       "         RowNumber    CustomerId   CreditScore           Age        Tenure  \\\n",
       "count  10000.00000  1.000000e+04  10000.000000  10000.000000  10000.000000   \n",
       "mean    5000.50000  1.569094e+07    650.528800     38.921800      5.012800   \n",
       "std     2886.89568  7.193619e+04     96.653299     10.487806      2.892174   \n",
       "min        1.00000  1.556570e+07    350.000000     18.000000      0.000000   \n",
       "25%     2500.75000  1.562853e+07    584.000000     32.000000      3.000000   \n",
       "50%     5000.50000  1.569074e+07    652.000000     37.000000      5.000000   \n",
       "75%     7500.25000  1.575323e+07    718.000000     44.000000      7.000000   \n",
       "max    10000.00000  1.581569e+07    850.000000     92.000000     10.000000   \n",
       "\n",
       "             Balance  NumOfProducts    HasCrCard  IsActiveMember  \\\n",
       "count   10000.000000   10000.000000  10000.00000    10000.000000   \n",
       "mean    76485.889288       1.530200      0.70550        0.515100   \n",
       "std     62397.405202       0.581654      0.45584        0.499797   \n",
       "min         0.000000       1.000000      0.00000        0.000000   \n",
       "25%         0.000000       1.000000      0.00000        0.000000   \n",
       "50%     97198.540000       1.000000      1.00000        1.000000   \n",
       "75%    127644.240000       2.000000      1.00000        1.000000   \n",
       "max    250898.090000       4.000000      1.00000        1.000000   \n",
       "\n",
       "       EstimatedSalary        Exited  \n",
       "count     10000.000000  10000.000000  \n",
       "mean     100090.239881      0.203700  \n",
       "std       57510.492818      0.402769  \n",
       "min          11.580000      0.000000  \n",
       "25%       51002.110000      0.000000  \n",
       "50%      100193.915000      0.000000  \n",
       "75%      149388.247500      0.000000  \n",
       "max      199992.480000      1.000000  "
      ]
     },
     "execution_count": 4,
     "metadata": {},
     "output_type": "execute_result"
    }
   ],
   "source": [
    "df.describe() # need scaling"
   ]
  },
  {
   "cell_type": "code",
   "execution_count": 5,
   "metadata": {},
   "outputs": [
    {
     "data": {
      "text/plain": [
       "False"
      ]
     },
     "execution_count": 5,
     "metadata": {},
     "output_type": "execute_result"
    }
   ],
   "source": [
    "df.duplicated().any()"
   ]
  },
  {
   "cell_type": "code",
   "execution_count": 6,
   "metadata": {},
   "outputs": [
    {
     "data": {
      "text/plain": [
       "False"
      ]
     },
     "execution_count": 6,
     "metadata": {},
     "output_type": "execute_result"
    }
   ],
   "source": [
    "df.isnull().sum().any()"
   ]
  },
  {
   "cell_type": "code",
   "execution_count": 7,
   "metadata": {},
   "outputs": [],
   "source": [
    "df = df.drop([\"RowNumber\", \"CustomerId\", \"Surname\"], axis = 1)"
   ]
  },
  {
   "cell_type": "code",
   "execution_count": 8,
   "metadata": {},
   "outputs": [
    {
     "data": {
      "image/png": "[encoded data removed]",
      "text/plain": [
       "<Figure size 720x576 with 1 Axes>"
      ]
     },
     "metadata": {},
     "output_type": "display_data"
    }
   ],
   "source": [
    "labels = 'Exited', 'Retained'\n",
    "sizes = [df.Exited[df['Exited']==1].count(), df.Exited[df['Exited']==0].count()]\n",
    "explode = (0, 0.1)\n",
    "fig1, ax1 = plt.subplots(figsize=(10, 8))\n",
    "ax1.pie(sizes, explode=explode, labels=labels, autopct='%1.1f%%',\n",
    "        shadow=True, startangle=90)\n",
    "ax1.axis('equal')\n",
    "plt.title(\"Proportion of customer Exited and retained\", size = 20)\n",
    "plt.show()"
   ]
  },
  {
   "cell_type": "code",
   "execution_count": 9,
   "metadata": {},
   "outputs": [
    {
     "data": {
      "text/plain": [
       "<AxesSubplot:xlabel='Geography', ylabel='count'>"
      ]
     },
     "execution_count": 9,
     "metadata": {},
     "output_type": "execute_result"
    },
    {
     "data": {
      "image/png": "[encoded data removed]",
      "text/plain": [
       "<Figure size 432x288 with 1 Axes>"
      ]
     },
     "metadata": {
      "needs_background": "light"
     },
     "output_type": "display_data"
    }
   ],
   "source": [
    "sns.countplot(x='Geography', hue = 'Exited',data = df)"
   ]
  },
  {
   "cell_type": "code",
   "execution_count": 10,
   "metadata": {},
   "outputs": [
    {
     "data": {
      "text/plain": [
       "<AxesSubplot:xlabel='IsActiveMember', ylabel='count'>"
      ]
     },
     "execution_count": 10,
     "metadata": {},
     "output_type": "execute_result"
    },
    {
     "data": {
      "image/png": "[encoded data removed]",
      "text/plain": [
       "<Figure size 432x288 with 1 Axes>"
      ]
     },
     "metadata": {
      "needs_background": "light"
     },
     "output_type": "display_data"
    }
   ],
   "source": [
    "sns.countplot(x='IsActiveMember', hue = 'Exited',data = df)"
   ]
  },
  {
   "cell_type": "code",
   "execution_count": 11,
   "metadata": {},
   "outputs": [
    {
     "data": {
      "text/plain": [
       "<AxesSubplot:xlabel='Gender', ylabel='count'>"
      ]
     },
     "execution_count": 11,
     "metadata": {},
     "output_type": "execute_result"
    },
    {
     "data": {
      "image/png": "[encoded data removed]",
      "text/plain": [
       "<Figure size 432x288 with 1 Axes>"
      ]
     },
     "metadata": {
      "needs_background": "light"
     },
     "output_type": "display_data"
    }
   ],
   "source": [
    "sns.countplot(x='Gender', hue = 'Exited',data = df)"
   ]
  },
  {
   "cell_type": "code",
   "execution_count": 12,
   "metadata": {},
   "outputs": [],
   "source": [
    "df2 = df.drop([\"Exited\", \"HasCrCard\", \"IsActiveMember\"], axis = 1) # to create box plot only"
   ]
  },
  {
   "cell_type": "code",
   "execution_count": 13,
   "metadata": {},
   "outputs": [
    {
     "data": {
      "image/png": "[encoded data removed]",
      "text/plain": [
       "<Figure size 2000x2000 with 6 Axes>"
      ]
     },
     "metadata": {
      "needs_background": "light"
     },
     "output_type": "display_data"
    }
   ],
   "source": [
    "fig = plt.figure(figsize=(10,10), dpi=200)\n",
    "\n",
    "for i, col in enumerate(df2.select_dtypes(include=np.number)):\n",
    "        plt.subplot(5,2,i+1)\n",
    "        ax = sns.boxplot(x=df[col])\n",
    "        \n",
    "plt.tight_layout(); # there is outliers in Age, creditScore and NumOfProducts"
   ]
  },
  {
   "cell_type": "code",
   "execution_count": 14,
   "metadata": {},
   "outputs": [
    {
     "name": "stdout",
     "output_type": "stream",
     "text": [
      "<class 'pandas.core.frame.DataFrame'>\n",
      "RangeIndex: 10000 entries, 0 to 9999\n",
      "Data columns (total 11 columns):\n",
      " #   Column           Non-Null Count  Dtype  \n",
      "---  ------           --------------  -----  \n",
      " 0   CreditScore      10000 non-null  int64  \n",
      " 1   Geography        10000 non-null  object \n",
      " 2   Gender           10000 non-null  object \n",
      " 3   Age              10000 non-null  int64  \n",
      " 4   Tenure           10000 non-null  int64  \n",
      " 5   Balance          10000 non-null  float64\n",
      " 6   NumOfProducts    10000 non-null  int64  \n",
      " 7   HasCrCard        10000 non-null  int64  \n",
      " 8   IsActiveMember   10000 non-null  int64  \n",
      " 9   EstimatedSalary  10000 non-null  float64\n",
      " 10  Exited           10000 non-null  int64  \n",
      "dtypes: float64(2), int64(7), object(2)\n",
      "memory usage: 859.5+ KB\n"
     ]
    }
   ],
   "source": [
    "df.info()"
   ]
  },
  {
   "cell_type": "code",
   "execution_count": 15,
   "metadata": {},
   "outputs": [
    {
     "data": {
      "text/html": [
       "<div>\n",
       "<style scoped>\n",
       "    .dataframe tbody tr th:only-of-type {\n",
       "        vertical-align: middle;\n",
       "    }\n",
       "\n",
       "    .dataframe tbody tr th {\n",
       "        vertical-align: top;\n",
       "    }\n",
       "\n",
       "    .dataframe thead th {\n",
       "        text-align: right;\n",
       "    }\n",
       "</style>\n",
       "<table border=\"1\" class=\"dataframe\">\n",
       "  <thead>\n",
       "    <tr style=\"text-align: right;\">\n",
       "      <th></th>\n",
       "      <th>CreditScore</th>\n",
       "      <th>Age</th>\n",
       "      <th>Tenure</th>\n",
       "      <th>Balance</th>\n",
       "      <th>NumOfProducts</th>\n",
       "      <th>HasCrCard</th>\n",
       "      <th>IsActiveMember</th>\n",
       "      <th>EstimatedSalary</th>\n",
       "      <th>Exited</th>\n",
       "      <th>Geography_France</th>\n",
       "      <th>Geography_Germany</th>\n",
       "      <th>Geography_Spain</th>\n",
       "      <th>Gender_Female</th>\n",
       "      <th>Gender_Male</th>\n",
       "    </tr>\n",
       "  </thead>\n",
       "  <tbody>\n",
       "    <tr>\n",
       "      <th>0</th>\n",
       "      <td>619</td>\n",
       "      <td>42</td>\n",
       "      <td>2</td>\n",
       "      <td>0.00</td>\n",
       "      <td>1</td>\n",
       "      <td>1</td>\n",
       "      <td>1</td>\n",
       "      <td>101348.88</td>\n",
       "      <td>1</td>\n",
       "      <td>1</td>\n",
       "      <td>0</td>\n",
       "      <td>0</td>\n",
       "      <td>1</td>\n",
       "      <td>0</td>\n",
       "    </tr>\n",
       "    <tr>\n",
       "      <th>1</th>\n",
       "      <td>608</td>\n",
       "      <td>41</td>\n",
       "      <td>1</td>\n",
       "      <td>83807.86</td>\n",
       "      <td>1</td>\n",
       "      <td>0</td>\n",
       "      <td>1</td>\n",
       "      <td>112542.58</td>\n",
       "      <td>0</td>\n",
       "      <td>0</td>\n",
       "      <td>0</td>\n",
       "      <td>1</td>\n",
       "      <td>1</td>\n",
       "      <td>0</td>\n",
       "    </tr>\n",
       "    <tr>\n",
       "      <th>2</th>\n",
       "      <td>502</td>\n",
       "      <td>42</td>\n",
       "      <td>8</td>\n",
       "      <td>159660.80</td>\n",
       "      <td>3</td>\n",
       "      <td>1</td>\n",
       "      <td>0</td>\n",
       "      <td>113931.57</td>\n",
       "      <td>1</td>\n",
       "      <td>1</td>\n",
       "      <td>0</td>\n",
       "      <td>0</td>\n",
       "      <td>1</td>\n",
       "      <td>0</td>\n",
       "    </tr>\n",
       "    <tr>\n",
       "      <th>3</th>\n",
       "      <td>699</td>\n",
       "      <td>39</td>\n",
       "      <td>1</td>\n",
       "      <td>0.00</td>\n",
       "      <td>2</td>\n",
       "      <td>0</td>\n",
       "      <td>0</td>\n",
       "      <td>93826.63</td>\n",
       "      <td>0</td>\n",
       "      <td>1</td>\n",
       "      <td>0</td>\n",
       "      <td>0</td>\n",
       "      <td>1</td>\n",
       "      <td>0</td>\n",
       "    </tr>\n",
       "    <tr>\n",
       "      <th>4</th>\n",
       "      <td>850</td>\n",
       "      <td>43</td>\n",
       "      <td>2</td>\n",
       "      <td>125510.82</td>\n",
       "      <td>1</td>\n",
       "      <td>1</td>\n",
       "      <td>1</td>\n",
       "      <td>79084.10</td>\n",
       "      <td>0</td>\n",
       "      <td>0</td>\n",
       "      <td>0</td>\n",
       "      <td>1</td>\n",
       "      <td>1</td>\n",
       "      <td>0</td>\n",
       "    </tr>\n",
       "    <tr>\n",
       "      <th>...</th>\n",
       "      <td>...</td>\n",
       "      <td>...</td>\n",
       "      <td>...</td>\n",
       "      <td>...</td>\n",
       "      <td>...</td>\n",
       "      <td>...</td>\n",
       "      <td>...</td>\n",
       "      <td>...</td>\n",
       "      <td>...</td>\n",
       "      <td>...</td>\n",
       "      <td>...</td>\n",
       "      <td>...</td>\n",
       "      <td>...</td>\n",
       "      <td>...</td>\n",
       "    </tr>\n",
       "    <tr>\n",
       "      <th>9995</th>\n",
       "      <td>771</td>\n",
       "      <td>39</td>\n",
       "      <td>5</td>\n",
       "      <td>0.00</td>\n",
       "      <td>2</td>\n",
       "      <td>1</td>\n",
       "      <td>0</td>\n",
       "      <td>96270.64</td>\n",
       "      <td>0</td>\n",
       "      <td>1</td>\n",
       "      <td>0</td>\n",
       "      <td>0</td>\n",
       "      <td>0</td>\n",
       "      <td>1</td>\n",
       "    </tr>\n",
       "    <tr>\n",
       "      <th>9996</th>\n",
       "      <td>516</td>\n",
       "      <td>35</td>\n",
       "      <td>10</td>\n",
       "      <td>57369.61</td>\n",
       "      <td>1</td>\n",
       "      <td>1</td>\n",
       "      <td>1</td>\n",
       "      <td>101699.77</td>\n",
       "      <td>0</td>\n",
       "      <td>1</td>\n",
       "      <td>0</td>\n",
       "      <td>0</td>\n",
       "      <td>0</td>\n",
       "      <td>1</td>\n",
       "    </tr>\n",
       "    <tr>\n",
       "      <th>9997</th>\n",
       "      <td>709</td>\n",
       "      <td>36</td>\n",
       "      <td>7</td>\n",
       "      <td>0.00</td>\n",
       "      <td>1</td>\n",
       "      <td>0</td>\n",
       "      <td>1</td>\n",
       "      <td>42085.58</td>\n",
       "      <td>1</td>\n",
       "      <td>1</td>\n",
       "      <td>0</td>\n",
       "      <td>0</td>\n",
       "      <td>1</td>\n",
       "      <td>0</td>\n",
       "    </tr>\n",
       "    <tr>\n",
       "      <th>9998</th>\n",
       "      <td>772</td>\n",
       "      <td>42</td>\n",
       "      <td>3</td>\n",
       "      <td>75075.31</td>\n",
       "      <td>2</td>\n",
       "      <td>1</td>\n",
       "      <td>0</td>\n",
       "      <td>92888.52</td>\n",
       "      <td>1</td>\n",
       "      <td>0</td>\n",
       "      <td>1</td>\n",
       "      <td>0</td>\n",
       "      <td>0</td>\n",
       "      <td>1</td>\n",
       "    </tr>\n",
       "    <tr>\n",
       "      <th>9999</th>\n",
       "      <td>792</td>\n",
       "      <td>28</td>\n",
       "      <td>4</td>\n",
       "      <td>130142.79</td>\n",
       "      <td>1</td>\n",
       "      <td>1</td>\n",
       "      <td>0</td>\n",
       "      <td>38190.78</td>\n",
       "      <td>0</td>\n",
       "      <td>1</td>\n",
       "      <td>0</td>\n",
       "      <td>0</td>\n",
       "      <td>1</td>\n",
       "      <td>0</td>\n",
       "    </tr>\n",
       "  </tbody>\n",
       "</table>\n",
       "<p>10000 rows × 14 columns</p>\n",
       "</div>"
      ],
      "text/plain": [
       "      CreditScore  Age  Tenure    Balance  NumOfProducts  HasCrCard  \\\n",
       "0             619   42       2       0.00              1          1   \n",
       "1             608   41       1   83807.86              1          0   \n",
       "2             502   42       8  159660.80              3          1   \n",
       "3             699   39       1       0.00              2          0   \n",
       "4             850   43       2  125510.82              1          1   \n",
       "...           ...  ...     ...        ...            ...        ...   \n",
       "9995          771   39       5       0.00              2          1   \n",
       "9996          516   35      10   57369.61              1          1   \n",
       "9997          709   36       7       0.00              1          0   \n",
       "9998          772   42       3   75075.31              2          1   \n",
       "9999          792   28       4  130142.79              1          1   \n",
       "\n",
       "      IsActiveMember  EstimatedSalary  Exited  Geography_France  \\\n",
       "0                  1        101348.88       1                 1   \n",
       "1                  1        112542.58       0                 0   \n",
       "2                  0        113931.57       1                 1   \n",
       "3                  0         93826.63       0                 1   \n",
       "4                  1         79084.10       0                 0   \n",
       "...              ...              ...     ...               ...   \n",
       "9995               0         96270.64       0                 1   \n",
       "9996               1        101699.77       0                 1   \n",
       "9997               1         42085.58       1                 1   \n",
       "9998               0         92888.52       1                 0   \n",
       "9999               0         38190.78       0                 1   \n",
       "\n",
       "      Geography_Germany  Geography_Spain  Gender_Female  Gender_Male  \n",
       "0                     0                0              1            0  \n",
       "1                     0                1              1            0  \n",
       "2                     0                0              1            0  \n",
       "3                     0                0              1            0  \n",
       "4                     0                1              1            0  \n",
       "...                 ...              ...            ...          ...  \n",
       "9995                  0                0              0            1  \n",
       "9996                  0                0              0            1  \n",
       "9997                  0                0              1            0  \n",
       "9998                  1                0              0            1  \n",
       "9999                  0                0              1            0  \n",
       "\n",
       "[10000 rows x 14 columns]"
      ]
     },
     "execution_count": 15,
     "metadata": {},
     "output_type": "execute_result"
    }
   ],
   "source": [
    "df = pd.get_dummies(data=df, dtype='int') #one-hot encoding\n",
    "df"
   ]
  },
  {
   "cell_type": "markdown",
   "metadata": {
    "id": "MuKGlzsQ3kwl"
   },
   "source": [
    "# Preprocessing of Data\n",
    "- Train | Test Split, Scalling"
   ]
  },
  {
   "cell_type": "code",
   "execution_count": 16,
   "metadata": {},
   "outputs": [],
   "source": [
    "from sklearn.model_selection import train_test_split\n",
    "from sklearn.preprocessing import RobustScaler, MinMaxScaler, StandardScaler"
   ]
  },
  {
   "cell_type": "code",
   "execution_count": 17,
   "metadata": {},
   "outputs": [],
   "source": [
    "X= df.drop(\"Exited\",axis=1)\n",
    "y= df[\"Exited\"]"
   ]
  },
  {
   "cell_type": "code",
   "execution_count": 18,
   "metadata": {},
   "outputs": [],
   "source": [
    "X_train, X_test, y_train, y_test = train_test_split(\n",
    "    X, y, stratify=y, test_size=0.20, random_state=42\n",
    ")"
   ]
  },
  {
   "cell_type": "code",
   "execution_count": 19,
   "metadata": {},
   "outputs": [],
   "source": [
    "scaler = StandardScaler()"
   ]
  },
  {
   "cell_type": "code",
   "execution_count": 20,
   "metadata": {},
   "outputs": [],
   "source": [
    "X_train = scaler.fit_transform(X_train)\n",
    "X_test = scaler.transform(X_test)"
   ]
  },
  {
   "cell_type": "markdown",
   "metadata": {
    "id": "Ha9hDt_AoGaE"
   },
   "source": [
    "# Modelling & Model Performance"
   ]
  },
  {
   "cell_type": "markdown",
   "metadata": {
    "id": "WSsjUxLJ3kwm"
   },
   "source": [
    "## without class_weigth"
   ]
  },
  {
   "cell_type": "markdown",
   "metadata": {
    "id": "FNkMrRsv3kwm"
   },
   "source": [
    "### Create The Model"
   ]
  },
  {
   "cell_type": "code",
   "execution_count": 21,
   "metadata": {
    "id": "pnB3siW-3kwm"
   },
   "outputs": [],
   "source": [
    "import tensorflow as tf\n",
    "from tensorflow.keras.models import Sequential\n",
    "from tensorflow.keras.layers import Dense, Activation\n",
    "from sklearn.metrics import classification_report, confusion_matrix\n",
    "from sklearn.metrics import RocCurveDisplay, roc_auc_score, roc_curve\n",
    "from sklearn.model_selection import cross_val_score, cross_validate\n",
    "from sklearn.model_selection import GridSearchCV"
   ]
  },
  {
   "cell_type": "code",
   "execution_count": 22,
   "metadata": {},
   "outputs": [
    {
     "data": {
      "text/plain": [
       "(8000, 13)"
      ]
     },
     "execution_count": 22,
     "metadata": {},
     "output_type": "execute_result"
    }
   ],
   "source": [
    "X_train.shape"
   ]
  },
  {
   "cell_type": "code",
   "execution_count": 23,
   "metadata": {},
   "outputs": [
    {
     "data": {
      "text/plain": [
       "(2000, 13)"
      ]
     },
     "execution_count": 23,
     "metadata": {},
     "output_type": "execute_result"
    }
   ],
   "source": [
    "X_test.shape"
   ]
  },
  {
   "cell_type": "code",
   "execution_count": 24,
   "metadata": {},
   "outputs": [],
   "source": [
    "model = Sequential()\n",
    "\n",
    "model.add(Dense(7, activation=\"relu\", input_dim=X_train.shape[1]))\n",
    "model.add(Dense(7, activation=\"relu\"))\n",
    "model.add(Dense(7, activation=\"relu\"))\n",
    "model.add(Dense(7, activation=\"relu\"))\n",
    "model.add(Dense(7, activation=\"relu\"))\n",
    "model.add(Dense(7, activation=\"relu\"))\n",
    "model.add(Dense(1, activation=\"sigmoid\"))\n",
    "\n",
    "model.compile(optimizer=\"adam\", loss=\"binary_crossentropy\", metrics=[\"accuracy\"])"
   ]
  },
  {
   "cell_type": "code",
   "execution_count": 25,
   "metadata": {},
   "outputs": [
    {
     "name": "stdout",
     "output_type": "stream",
     "text": [
      "Epoch 1/100\n",
      "213/213 [==============================] - 3s 5ms/step - loss: 0.5463 - accuracy: 0.7944 - val_loss: 0.4766 - val_accuracy: 0.8067\n",
      "Epoch 2/100\n",
      "213/213 [==============================] - 1s 3ms/step - loss: 0.4735 - accuracy: 0.7944 - val_loss: 0.4479 - val_accuracy: 0.8067\n",
      "Epoch 3/100\n",
      "213/213 [==============================] - 1s 3ms/step - loss: 0.4487 - accuracy: 0.7944 - val_loss: 0.4319 - val_accuracy: 0.8067\n",
      "Epoch 4/100\n",
      "213/213 [==============================] - 1s 4ms/step - loss: 0.4349 - accuracy: 0.7944 - val_loss: 0.4212 - val_accuracy: 0.8067\n",
      "Epoch 5/100\n",
      "213/213 [==============================] - 1s 3ms/step - loss: 0.4229 - accuracy: 0.7944 - val_loss: 0.4079 - val_accuracy: 0.8067\n",
      "Epoch 6/100\n",
      "213/213 [==============================] - 1s 3ms/step - loss: 0.4112 - accuracy: 0.8038 - val_loss: 0.3971 - val_accuracy: 0.8242\n",
      "Epoch 7/100\n",
      "213/213 [==============================] - 1s 3ms/step - loss: 0.4006 - accuracy: 0.8257 - val_loss: 0.3868 - val_accuracy: 0.8450\n",
      "Epoch 8/100\n",
      "213/213 [==============================] - 1s 3ms/step - loss: 0.3918 - accuracy: 0.8360 - val_loss: 0.3800 - val_accuracy: 0.8467\n",
      "Epoch 9/100\n",
      "213/213 [==============================] - 1s 4ms/step - loss: 0.3857 - accuracy: 0.8428 - val_loss: 0.3757 - val_accuracy: 0.8467\n",
      "Epoch 10/100\n",
      "213/213 [==============================] - 1s 3ms/step - loss: 0.3825 - accuracy: 0.8416 - val_loss: 0.3713 - val_accuracy: 0.8492\n",
      "Epoch 11/100\n",
      "213/213 [==============================] - 1s 3ms/step - loss: 0.3795 - accuracy: 0.8444 - val_loss: 0.3679 - val_accuracy: 0.8500\n",
      "Epoch 12/100\n",
      "213/213 [==============================] - 1s 4ms/step - loss: 0.3772 - accuracy: 0.8449 - val_loss: 0.3637 - val_accuracy: 0.8517\n",
      "Epoch 13/100\n",
      "213/213 [==============================] - 1s 3ms/step - loss: 0.3753 - accuracy: 0.8457 - val_loss: 0.3635 - val_accuracy: 0.8533\n",
      "Epoch 14/100\n",
      "213/213 [==============================] - 1s 3ms/step - loss: 0.3730 - accuracy: 0.8496 - val_loss: 0.3591 - val_accuracy: 0.8542\n",
      "Epoch 15/100\n",
      "213/213 [==============================] - 1s 3ms/step - loss: 0.3705 - accuracy: 0.8521 - val_loss: 0.3578 - val_accuracy: 0.8517\n",
      "Epoch 16/100\n",
      "213/213 [==============================] - 1s 4ms/step - loss: 0.3685 - accuracy: 0.8521 - val_loss: 0.3583 - val_accuracy: 0.8525\n",
      "Epoch 17/100\n",
      "213/213 [==============================] - 1s 4ms/step - loss: 0.3664 - accuracy: 0.8551 - val_loss: 0.3559 - val_accuracy: 0.8542\n",
      "Epoch 18/100\n",
      "213/213 [==============================] - 1s 3ms/step - loss: 0.3652 - accuracy: 0.8529 - val_loss: 0.3542 - val_accuracy: 0.8567\n",
      "Epoch 19/100\n",
      "213/213 [==============================] - 1s 3ms/step - loss: 0.3639 - accuracy: 0.8560 - val_loss: 0.3500 - val_accuracy: 0.8575\n",
      "Epoch 20/100\n",
      "213/213 [==============================] - 1s 6ms/step - loss: 0.3623 - accuracy: 0.8563 - val_loss: 0.3504 - val_accuracy: 0.8575\n",
      "Epoch 21/100\n",
      "213/213 [==============================] - 1s 4ms/step - loss: 0.3602 - accuracy: 0.8575 - val_loss: 0.3491 - val_accuracy: 0.8575\n",
      "Epoch 22/100\n",
      "213/213 [==============================] - 1s 4ms/step - loss: 0.3592 - accuracy: 0.8569 - val_loss: 0.3468 - val_accuracy: 0.8558\n",
      "Epoch 23/100\n",
      "213/213 [==============================] - 1s 4ms/step - loss: 0.3580 - accuracy: 0.8576 - val_loss: 0.3452 - val_accuracy: 0.8575\n",
      "Epoch 24/100\n",
      "213/213 [==============================] - 1s 5ms/step - loss: 0.3569 - accuracy: 0.8562 - val_loss: 0.3437 - val_accuracy: 0.8625\n",
      "Epoch 25/100\n",
      "213/213 [==============================] - 1s 4ms/step - loss: 0.3545 - accuracy: 0.8582 - val_loss: 0.3467 - val_accuracy: 0.8617\n",
      "Epoch 26/100\n",
      "213/213 [==============================] - 1s 5ms/step - loss: 0.3544 - accuracy: 0.8581 - val_loss: 0.3417 - val_accuracy: 0.8592\n",
      "Epoch 27/100\n",
      "213/213 [==============================] - 2s 10ms/step - loss: 0.3526 - accuracy: 0.8587 - val_loss: 0.3415 - val_accuracy: 0.8617\n",
      "Epoch 28/100\n",
      "213/213 [==============================] - 2s 10ms/step - loss: 0.3515 - accuracy: 0.8571 - val_loss: 0.3390 - val_accuracy: 0.8625\n",
      "Epoch 29/100\n",
      "213/213 [==============================] - 1s 6ms/step - loss: 0.3502 - accuracy: 0.8615 - val_loss: 0.3398 - val_accuracy: 0.8600\n",
      "Epoch 30/100\n",
      "213/213 [==============================] - 2s 9ms/step - loss: 0.3498 - accuracy: 0.8624 - val_loss: 0.3400 - val_accuracy: 0.8617\n",
      "Epoch 31/100\n",
      "213/213 [==============================] - 1s 6ms/step - loss: 0.3497 - accuracy: 0.8596 - val_loss: 0.3380 - val_accuracy: 0.8650\n",
      "Epoch 32/100\n",
      "213/213 [==============================] - 1s 6ms/step - loss: 0.3485 - accuracy: 0.8603 - val_loss: 0.3379 - val_accuracy: 0.8608\n",
      "Epoch 33/100\n",
      "213/213 [==============================] - 1s 6ms/step - loss: 0.3486 - accuracy: 0.8604 - val_loss: 0.3372 - val_accuracy: 0.8650\n",
      "Epoch 34/100\n",
      "213/213 [==============================] - 2s 7ms/step - loss: 0.3481 - accuracy: 0.8599 - val_loss: 0.3367 - val_accuracy: 0.8625\n",
      "Epoch 35/100\n",
      "213/213 [==============================] - 2s 9ms/step - loss: 0.3471 - accuracy: 0.8612 - val_loss: 0.3352 - val_accuracy: 0.8633\n",
      "Epoch 36/100\n",
      "213/213 [==============================] - 2s 8ms/step - loss: 0.3470 - accuracy: 0.8606 - val_loss: 0.3344 - val_accuracy: 0.8633\n",
      "Epoch 37/100\n",
      "213/213 [==============================] - 1s 5ms/step - loss: 0.3461 - accuracy: 0.8606 - val_loss: 0.3357 - val_accuracy: 0.8608\n",
      "Epoch 38/100\n",
      "213/213 [==============================] - 1s 5ms/step - loss: 0.3457 - accuracy: 0.8646 - val_loss: 0.3348 - val_accuracy: 0.8642\n",
      "Epoch 39/100\n",
      "213/213 [==============================] - 1s 5ms/step - loss: 0.3455 - accuracy: 0.8629 - val_loss: 0.3343 - val_accuracy: 0.8583\n",
      "Epoch 40/100\n",
      "213/213 [==============================] - 1s 5ms/step - loss: 0.3444 - accuracy: 0.8624 - val_loss: 0.3344 - val_accuracy: 0.8608\n",
      "Epoch 41/100\n",
      "213/213 [==============================] - 1s 6ms/step - loss: 0.3444 - accuracy: 0.8621 - val_loss: 0.3389 - val_accuracy: 0.8617\n",
      "Epoch 42/100\n",
      "213/213 [==============================] - 1s 5ms/step - loss: 0.3443 - accuracy: 0.8625 - val_loss: 0.3330 - val_accuracy: 0.8675\n",
      "Epoch 43/100\n",
      "213/213 [==============================] - 1s 3ms/step - loss: 0.3439 - accuracy: 0.8626 - val_loss: 0.3334 - val_accuracy: 0.8625\n",
      "Epoch 44/100\n",
      "213/213 [==============================] - 1s 3ms/step - loss: 0.3430 - accuracy: 0.8637 - val_loss: 0.3324 - val_accuracy: 0.8683\n",
      "Epoch 45/100\n",
      "213/213 [==============================] - 1s 4ms/step - loss: 0.3443 - accuracy: 0.8632 - val_loss: 0.3330 - val_accuracy: 0.8683\n",
      "Epoch 46/100\n",
      "213/213 [==============================] - 1s 5ms/step - loss: 0.3439 - accuracy: 0.8607 - val_loss: 0.3320 - val_accuracy: 0.8617\n",
      "Epoch 47/100\n",
      "213/213 [==============================] - 1s 4ms/step - loss: 0.3429 - accuracy: 0.8616 - val_loss: 0.3314 - val_accuracy: 0.8658\n",
      "Epoch 48/100\n",
      "213/213 [==============================] - 1s 4ms/step - loss: 0.3419 - accuracy: 0.8619 - val_loss: 0.3346 - val_accuracy: 0.8608\n",
      "Epoch 49/100\n",
      "213/213 [==============================] - 1s 3ms/step - loss: 0.3417 - accuracy: 0.8631 - val_loss: 0.3294 - val_accuracy: 0.8667\n",
      "Epoch 50/100\n",
      "213/213 [==============================] - 1s 3ms/step - loss: 0.3419 - accuracy: 0.8615 - val_loss: 0.3308 - val_accuracy: 0.8633\n",
      "Epoch 51/100\n",
      "213/213 [==============================] - 1s 3ms/step - loss: 0.3411 - accuracy: 0.8635 - val_loss: 0.3294 - val_accuracy: 0.8617\n",
      "Epoch 52/100\n",
      "213/213 [==============================] - 1s 7ms/step - loss: 0.3419 - accuracy: 0.8635 - val_loss: 0.3295 - val_accuracy: 0.8617\n",
      "Epoch 53/100\n",
      "213/213 [==============================] - 1s 4ms/step - loss: 0.3409 - accuracy: 0.8628 - val_loss: 0.3290 - val_accuracy: 0.8667\n",
      "Epoch 54/100\n",
      "213/213 [==============================] - 1s 5ms/step - loss: 0.3413 - accuracy: 0.8650 - val_loss: 0.3287 - val_accuracy: 0.8667\n",
      "Epoch 55/100\n",
      "213/213 [==============================] - 1s 5ms/step - loss: 0.3402 - accuracy: 0.8626 - val_loss: 0.3257 - val_accuracy: 0.8708\n",
      "Epoch 56/100\n",
      "213/213 [==============================] - 1s 3ms/step - loss: 0.3407 - accuracy: 0.8638 - val_loss: 0.3282 - val_accuracy: 0.8667\n",
      "Epoch 57/100\n",
      "213/213 [==============================] - 1s 3ms/step - loss: 0.3390 - accuracy: 0.8649 - val_loss: 0.3257 - val_accuracy: 0.8658\n"
     ]
    },
    {
     "name": "stdout",
     "output_type": "stream",
     "text": [
      "Epoch 58/100\n",
      "213/213 [==============================] - 1s 3ms/step - loss: 0.3394 - accuracy: 0.8629 - val_loss: 0.3271 - val_accuracy: 0.8675\n",
      "Epoch 59/100\n",
      "213/213 [==============================] - 2s 8ms/step - loss: 0.3384 - accuracy: 0.8632 - val_loss: 0.3240 - val_accuracy: 0.8733\n",
      "Epoch 60/100\n",
      "213/213 [==============================] - 3s 13ms/step - loss: 0.3383 - accuracy: 0.8635 - val_loss: 0.3249 - val_accuracy: 0.8692\n",
      "Epoch 61/100\n",
      "213/213 [==============================] - 2s 8ms/step - loss: 0.3385 - accuracy: 0.8641 - val_loss: 0.3278 - val_accuracy: 0.8708\n",
      "Epoch 62/100\n",
      "213/213 [==============================] - 1s 5ms/step - loss: 0.3397 - accuracy: 0.8637 - val_loss: 0.3244 - val_accuracy: 0.8742\n",
      "Epoch 63/100\n",
      "213/213 [==============================] - 1s 4ms/step - loss: 0.3381 - accuracy: 0.8625 - val_loss: 0.3310 - val_accuracy: 0.8675\n",
      "Epoch 64/100\n",
      "213/213 [==============================] - 1s 4ms/step - loss: 0.3378 - accuracy: 0.8649 - val_loss: 0.3246 - val_accuracy: 0.8700\n",
      "Epoch 65/100\n",
      "213/213 [==============================] - 1s 5ms/step - loss: 0.3372 - accuracy: 0.8653 - val_loss: 0.3248 - val_accuracy: 0.8708\n",
      "Epoch 66/100\n",
      "213/213 [==============================] - 1s 5ms/step - loss: 0.3373 - accuracy: 0.8622 - val_loss: 0.3232 - val_accuracy: 0.8742\n",
      "Epoch 67/100\n",
      "213/213 [==============================] - 1s 4ms/step - loss: 0.3362 - accuracy: 0.8641 - val_loss: 0.3268 - val_accuracy: 0.8700\n",
      "Epoch 68/100\n",
      "213/213 [==============================] - 1s 3ms/step - loss: 0.3377 - accuracy: 0.8637 - val_loss: 0.3251 - val_accuracy: 0.8692\n",
      "Epoch 69/100\n",
      "213/213 [==============================] - 1s 3ms/step - loss: 0.3362 - accuracy: 0.8646 - val_loss: 0.3258 - val_accuracy: 0.8708\n",
      "Epoch 70/100\n",
      "213/213 [==============================] - 1s 3ms/step - loss: 0.3353 - accuracy: 0.8634 - val_loss: 0.3231 - val_accuracy: 0.8733\n",
      "Epoch 71/100\n",
      "213/213 [==============================] - 1s 3ms/step - loss: 0.3360 - accuracy: 0.8618 - val_loss: 0.3249 - val_accuracy: 0.8683\n",
      "Epoch 72/100\n",
      "213/213 [==============================] - 1s 4ms/step - loss: 0.3372 - accuracy: 0.8625 - val_loss: 0.3233 - val_accuracy: 0.8692\n",
      "Epoch 73/100\n",
      "213/213 [==============================] - 1s 4ms/step - loss: 0.3357 - accuracy: 0.8625 - val_loss: 0.3241 - val_accuracy: 0.8717\n",
      "Epoch 74/100\n",
      "213/213 [==============================] - 1s 5ms/step - loss: 0.3348 - accuracy: 0.8641 - val_loss: 0.3269 - val_accuracy: 0.8700\n",
      "Epoch 75/100\n",
      "213/213 [==============================] - 1s 3ms/step - loss: 0.3345 - accuracy: 0.8656 - val_loss: 0.3229 - val_accuracy: 0.8733\n",
      "Epoch 76/100\n",
      "213/213 [==============================] - 1s 3ms/step - loss: 0.3345 - accuracy: 0.8653 - val_loss: 0.3246 - val_accuracy: 0.8708\n",
      "Epoch 77/100\n",
      "213/213 [==============================] - 1s 3ms/step - loss: 0.3339 - accuracy: 0.8640 - val_loss: 0.3285 - val_accuracy: 0.8708\n",
      "Epoch 78/100\n",
      "213/213 [==============================] - 1s 3ms/step - loss: 0.3336 - accuracy: 0.8650 - val_loss: 0.3282 - val_accuracy: 0.8758\n",
      "Epoch 79/100\n",
      "213/213 [==============================] - 1s 3ms/step - loss: 0.3342 - accuracy: 0.8659 - val_loss: 0.3264 - val_accuracy: 0.8667\n",
      "Epoch 80/100\n",
      "213/213 [==============================] - 1s 4ms/step - loss: 0.3333 - accuracy: 0.8635 - val_loss: 0.3289 - val_accuracy: 0.8725\n",
      "Epoch 81/100\n",
      "213/213 [==============================] - 1s 5ms/step - loss: 0.3345 - accuracy: 0.8641 - val_loss: 0.3271 - val_accuracy: 0.8717\n",
      "Epoch 82/100\n",
      "213/213 [==============================] - 1s 4ms/step - loss: 0.3338 - accuracy: 0.8660 - val_loss: 0.3269 - val_accuracy: 0.8692\n",
      "Epoch 83/100\n",
      "213/213 [==============================] - 1s 3ms/step - loss: 0.3320 - accuracy: 0.8656 - val_loss: 0.3264 - val_accuracy: 0.8667\n",
      "Epoch 84/100\n",
      "213/213 [==============================] - 1s 5ms/step - loss: 0.3330 - accuracy: 0.8647 - val_loss: 0.3294 - val_accuracy: 0.8658\n",
      "Epoch 85/100\n",
      "213/213 [==============================] - 1s 3ms/step - loss: 0.3323 - accuracy: 0.8643 - val_loss: 0.3294 - val_accuracy: 0.8708\n",
      "Epoch 86/100\n",
      "213/213 [==============================] - 1s 4ms/step - loss: 0.3335 - accuracy: 0.8647 - val_loss: 0.3236 - val_accuracy: 0.8733\n",
      "Epoch 87/100\n",
      "213/213 [==============================] - 1s 4ms/step - loss: 0.3318 - accuracy: 0.8641 - val_loss: 0.3255 - val_accuracy: 0.8708\n",
      "Epoch 88/100\n",
      "213/213 [==============================] - 1s 6ms/step - loss: 0.3319 - accuracy: 0.8647 - val_loss: 0.3275 - val_accuracy: 0.8692\n",
      "Epoch 89/100\n",
      "213/213 [==============================] - 1s 5ms/step - loss: 0.3324 - accuracy: 0.8649 - val_loss: 0.3283 - val_accuracy: 0.8700\n",
      "Epoch 90/100\n",
      "213/213 [==============================] - 1s 5ms/step - loss: 0.3321 - accuracy: 0.8637 - val_loss: 0.3275 - val_accuracy: 0.8658\n",
      "Epoch 91/100\n",
      "213/213 [==============================] - 1s 5ms/step - loss: 0.3312 - accuracy: 0.8653 - val_loss: 0.3267 - val_accuracy: 0.8725\n",
      "Epoch 92/100\n",
      "213/213 [==============================] - 1s 6ms/step - loss: 0.3313 - accuracy: 0.8651 - val_loss: 0.3258 - val_accuracy: 0.8692\n",
      "Epoch 93/100\n",
      "213/213 [==============================] - 2s 9ms/step - loss: 0.3306 - accuracy: 0.8644 - val_loss: 0.3255 - val_accuracy: 0.8717\n",
      "Epoch 94/100\n",
      "213/213 [==============================] - 1s 6ms/step - loss: 0.3312 - accuracy: 0.8644 - val_loss: 0.3290 - val_accuracy: 0.8733\n",
      "Epoch 95/100\n",
      "213/213 [==============================] - 1s 4ms/step - loss: 0.3300 - accuracy: 0.8657 - val_loss: 0.3298 - val_accuracy: 0.8758\n",
      "Epoch 96/100\n",
      "213/213 [==============================] - 1s 4ms/step - loss: 0.3308 - accuracy: 0.8650 - val_loss: 0.3331 - val_accuracy: 0.8708\n",
      "Epoch 97/100\n",
      "213/213 [==============================] - 1s 5ms/step - loss: 0.3311 - accuracy: 0.8665 - val_loss: 0.3262 - val_accuracy: 0.8742\n",
      "Epoch 98/100\n",
      "213/213 [==============================] - 1s 4ms/step - loss: 0.3305 - accuracy: 0.8665 - val_loss: 0.3287 - val_accuracy: 0.8683\n",
      "Epoch 99/100\n",
      "213/213 [==============================] - 1s 6ms/step - loss: 0.3310 - accuracy: 0.8651 - val_loss: 0.3266 - val_accuracy: 0.8667\n",
      "Epoch 100/100\n",
      "213/213 [==============================] - 1s 4ms/step - loss: 0.3309 - accuracy: 0.8643 - val_loss: 0.3279 - val_accuracy: 0.8750\n"
     ]
    },
    {
     "data": {
      "text/plain": [
       "<keras.src.callbacks.History at 0x27e60791cd0>"
      ]
     },
     "execution_count": 25,
     "metadata": {},
     "output_type": "execute_result"
    }
   ],
   "source": [
    "model.fit(\n",
    "    x=X_train, y=y_train, validation_split=0.15, batch_size=32, epochs=100, verbose=1\n",
    ")"
   ]
  },
  {
   "cell_type": "code",
   "execution_count": 26,
   "metadata": {},
   "outputs": [
    {
     "name": "stdout",
     "output_type": "stream",
     "text": [
      "Model: \"sequential\"\n",
      "_________________________________________________________________\n",
      " Layer (type)                Output Shape              Param #   \n",
      "=================================================================\n",
      " dense (Dense)               (None, 7)                 98        \n",
      "                                                                 \n",
      " dense_1 (Dense)             (None, 7)                 56        \n",
      "                                                                 \n",
      " dense_2 (Dense)             (None, 7)                 56        \n",
      "                                                                 \n",
      " dense_3 (Dense)             (None, 7)                 56        \n",
      "                                                                 \n",
      " dense_4 (Dense)             (None, 7)                 56        \n",
      "                                                                 \n",
      " dense_5 (Dense)             (None, 7)                 56        \n",
      "                                                                 \n",
      " dense_6 (Dense)             (None, 1)                 8         \n",
      "                                                                 \n",
      "=================================================================\n",
      "Total params: 386 (1.51 KB)\n",
      "Trainable params: 386 (1.51 KB)\n",
      "Non-trainable params: 0 (0.00 Byte)\n",
      "_________________________________________________________________\n"
     ]
    }
   ],
   "source": [
    "model.summary()"
   ]
  },
  {
   "cell_type": "markdown",
   "metadata": {
    "id": "PE_8RcH93kwn"
   },
   "source": [
    "### Evaluate The Model\n",
    "\n",
    "- Plot the model history to observe the changing of metrics\n",
    "- Make prediction to see \"confusion matrix\" and \"classification report\"\n",
    "- Check ROC (Receiver Operating Curve) and AUC (Area Under Curve) for the model"
   ]
  },
  {
   "cell_type": "code",
   "execution_count": 27,
   "metadata": {
    "id": "-QXCNrSn3kwn"
   },
   "outputs": [
    {
     "data": {
      "text/html": [
       "<div>\n",
       "<style scoped>\n",
       "    .dataframe tbody tr th:only-of-type {\n",
       "        vertical-align: middle;\n",
       "    }\n",
       "\n",
       "    .dataframe tbody tr th {\n",
       "        vertical-align: top;\n",
       "    }\n",
       "\n",
       "    .dataframe thead th {\n",
       "        text-align: right;\n",
       "    }\n",
       "</style>\n",
       "<table border=\"1\" class=\"dataframe\">\n",
       "  <thead>\n",
       "    <tr style=\"text-align: right;\">\n",
       "      <th></th>\n",
       "      <th>loss</th>\n",
       "      <th>accuracy</th>\n",
       "      <th>val_loss</th>\n",
       "      <th>val_accuracy</th>\n",
       "    </tr>\n",
       "  </thead>\n",
       "  <tbody>\n",
       "    <tr>\n",
       "      <th>0</th>\n",
       "      <td>0.546302</td>\n",
       "      <td>0.794412</td>\n",
       "      <td>0.476631</td>\n",
       "      <td>0.806667</td>\n",
       "    </tr>\n",
       "    <tr>\n",
       "      <th>1</th>\n",
       "      <td>0.473529</td>\n",
       "      <td>0.794412</td>\n",
       "      <td>0.447936</td>\n",
       "      <td>0.806667</td>\n",
       "    </tr>\n",
       "    <tr>\n",
       "      <th>2</th>\n",
       "      <td>0.448720</td>\n",
       "      <td>0.794412</td>\n",
       "      <td>0.431921</td>\n",
       "      <td>0.806667</td>\n",
       "    </tr>\n",
       "    <tr>\n",
       "      <th>3</th>\n",
       "      <td>0.434857</td>\n",
       "      <td>0.794412</td>\n",
       "      <td>0.421240</td>\n",
       "      <td>0.806667</td>\n",
       "    </tr>\n",
       "    <tr>\n",
       "      <th>4</th>\n",
       "      <td>0.422924</td>\n",
       "      <td>0.794412</td>\n",
       "      <td>0.407864</td>\n",
       "      <td>0.806667</td>\n",
       "    </tr>\n",
       "  </tbody>\n",
       "</table>\n",
       "</div>"
      ],
      "text/plain": [
       "       loss  accuracy  val_loss  val_accuracy\n",
       "0  0.546302  0.794412  0.476631      0.806667\n",
       "1  0.473529  0.794412  0.447936      0.806667\n",
       "2  0.448720  0.794412  0.431921      0.806667\n",
       "3  0.434857  0.794412  0.421240      0.806667\n",
       "4  0.422924  0.794412  0.407864      0.806667"
      ]
     },
     "execution_count": 27,
     "metadata": {},
     "output_type": "execute_result"
    }
   ],
   "source": [
    "loss_df = pd.DataFrame(model.history.history)\n",
    "loss_df.head()"
   ]
  },
  {
   "cell_type": "code",
   "execution_count": 28,
   "metadata": {},
   "outputs": [
    {
     "data": {
      "image/png": "[encoded data removed]",
      "text/plain": [
       "<Figure size 432x288 with 1 Axes>"
      ]
     },
     "metadata": {
      "needs_background": "light"
     },
     "output_type": "display_data"
    }
   ],
   "source": [
    "loss_df.plot()\n",
    "plt.show()"
   ]
  },
  {
   "cell_type": "code",
   "execution_count": 29,
   "metadata": {},
   "outputs": [
    {
     "data": {
      "text/plain": [
       "[0.3454541563987732, 0.8629999756813049]"
      ]
     },
     "execution_count": 29,
     "metadata": {},
     "output_type": "execute_result"
    }
   ],
   "source": [
    "model.evaluate(X_test, y_test, verbose=0)"
   ]
  },
  {
   "cell_type": "code",
   "execution_count": 30,
   "metadata": {},
   "outputs": [
    {
     "name": "stdout",
     "output_type": "stream",
     "text": [
      "loss:  0.3454541563987732\n",
      "accuracy:  0.8629999756813049\n"
     ]
    }
   ],
   "source": [
    "loss, accuracy = model.evaluate(X_test, y_test, verbose=0)\n",
    "print(\"loss: \", loss)\n",
    "print(\"accuracy: \", accuracy)"
   ]
  },
  {
   "cell_type": "code",
   "execution_count": 31,
   "metadata": {},
   "outputs": [
    {
     "name": "stdout",
     "output_type": "stream",
     "text": [
      "63/63 [==============================] - 0s 2ms/step\n",
      "[[1528   65]\n",
      " [ 209  198]]\n",
      "              precision    recall  f1-score   support\n",
      "\n",
      "           0       0.88      0.96      0.92      1593\n",
      "           1       0.75      0.49      0.59       407\n",
      "\n",
      "    accuracy                           0.86      2000\n",
      "   macro avg       0.82      0.72      0.75      2000\n",
      "weighted avg       0.85      0.86      0.85      2000\n",
      "\n"
     ]
    }
   ],
   "source": [
    "y_pred = model.predict(X_test) > 0.5\n",
    "print(confusion_matrix(y_test, y_pred))\n",
    "print(classification_report(y_test, y_pred))"
   ]
  },
  {
   "cell_type": "code",
   "execution_count": 32,
   "metadata": {},
   "outputs": [
    {
     "name": "stdout",
     "output_type": "stream",
     "text": [
      "63/63 [==============================] - 0s 2ms/step\n"
     ]
    },
    {
     "data": {
      "text/plain": [
       "<sklearn.metrics._plot.roc_curve.RocCurveDisplay at 0x27e61eb3340>"
      ]
     },
     "execution_count": 32,
     "metadata": {},
     "output_type": "execute_result"
    },
    {
     "data": {
      "image/png": "[encoded data removed]",
      "text/plain": [
       "<Figure size 432x288 with 1 Axes>"
      ]
     },
     "metadata": {
      "needs_background": "light"
     },
     "output_type": "display_data"
    }
   ],
   "source": [
    "y_pred_proba = model.predict(X_test)\n",
    "RocCurveDisplay.from_predictions(y_test, y_pred_proba)"
   ]
  },
  {
   "cell_type": "markdown",
   "metadata": {
    "id": "tqs44oFl3kwn"
   },
   "source": [
    "## with class_weigth\n",
    "\n",
    "Investigate how the \"class_weight\" hyper-parameter is used in a Neural Network."
   ]
  },
  {
   "cell_type": "markdown",
   "metadata": {
    "id": "ieASzJz53kwn"
   },
   "source": [
    "### Create The Model"
   ]
  },
  {
   "cell_type": "code",
   "execution_count": 33,
   "metadata": {},
   "outputs": [],
   "source": [
    "from sklearn.utils import class_weight"
   ]
  },
  {
   "cell_type": "code",
   "execution_count": 34,
   "metadata": {
    "id": "euESK0Up3kwn"
   },
   "outputs": [],
   "source": [
    "model_cw = Sequential()\n",
    "\n",
    "model_cw.add(Dense(7, activation=\"relu\", input_dim=X_train.shape[1]))\n",
    "model_cw.add(Dense(7, activation=\"relu\"))\n",
    "model_cw.add(Dense(7, activation=\"relu\"))\n",
    "model_cw.add(Dense(7, activation=\"relu\"))\n",
    "model_cw.add(Dense(7, activation=\"relu\"))\n",
    "model_cw.add(Dense(7, activation=\"relu\"))\n",
    "model_cw.add(Dense(1, activation=\"sigmoid\"))\n",
    "\n",
    "model_cw.compile(optimizer=\"adam\", loss=\"binary_crossentropy\", metrics=[\"accuracy\"])"
   ]
  },
  {
   "cell_type": "code",
   "execution_count": 35,
   "metadata": {},
   "outputs": [
    {
     "data": {
      "text/plain": [
       "{0: 0.6279434850863422, 1: 2.4539877300613497}"
      ]
     },
     "execution_count": 35,
     "metadata": {},
     "output_type": "execute_result"
    }
   ],
   "source": [
    "class_weights = class_weight.compute_class_weight(\n",
    "                                        class_weight = \"balanced\",\n",
    "                                        classes = np.unique(y_train),\n",
    "                                        y = y_train                                                    \n",
    "                                    )\n",
    "class_weights = dict(zip(np.unique(y_train), class_weights))\n",
    "class_weights"
   ]
  },
  {
   "cell_type": "code",
   "execution_count": 36,
   "metadata": {},
   "outputs": [
    {
     "name": "stdout",
     "output_type": "stream",
     "text": [
      "Epoch 1/100\n",
      "213/213 [==============================] - 3s 8ms/step - loss: 0.6769 - accuracy: 0.4121 - val_loss: 0.7122 - val_accuracy: 0.6033\n",
      "Epoch 2/100\n",
      "213/213 [==============================] - 1s 4ms/step - loss: 0.6069 - accuracy: 0.6810 - val_loss: 0.6445 - val_accuracy: 0.6733\n",
      "Epoch 3/100\n",
      "213/213 [==============================] - 1s 4ms/step - loss: 0.5705 - accuracy: 0.7132 - val_loss: 0.5533 - val_accuracy: 0.7325\n",
      "Epoch 4/100\n",
      "213/213 [==============================] - 1s 5ms/step - loss: 0.5492 - accuracy: 0.7288 - val_loss: 0.5672 - val_accuracy: 0.7100\n",
      "Epoch 5/100\n",
      "213/213 [==============================] - 1s 4ms/step - loss: 0.5341 - accuracy: 0.7375 - val_loss: 0.5424 - val_accuracy: 0.7250\n",
      "Epoch 6/100\n",
      "213/213 [==============================] - 1s 4ms/step - loss: 0.5216 - accuracy: 0.7418 - val_loss: 0.5430 - val_accuracy: 0.7208\n",
      "Epoch 7/100\n",
      "213/213 [==============================] - 2s 8ms/step - loss: 0.5068 - accuracy: 0.7496 - val_loss: 0.4713 - val_accuracy: 0.7750\n",
      "Epoch 8/100\n",
      "213/213 [==============================] - 1s 6ms/step - loss: 0.4993 - accuracy: 0.7601 - val_loss: 0.5291 - val_accuracy: 0.7292\n",
      "Epoch 9/100\n",
      "213/213 [==============================] - 1s 5ms/step - loss: 0.4930 - accuracy: 0.7572 - val_loss: 0.4582 - val_accuracy: 0.7850\n",
      "Epoch 10/100\n",
      "213/213 [==============================] - 1s 6ms/step - loss: 0.4890 - accuracy: 0.7641 - val_loss: 0.4506 - val_accuracy: 0.7825\n",
      "Epoch 11/100\n",
      "213/213 [==============================] - 1s 5ms/step - loss: 0.4846 - accuracy: 0.7675 - val_loss: 0.5023 - val_accuracy: 0.7533\n",
      "Epoch 12/100\n",
      "213/213 [==============================] - 2s 10ms/step - loss: 0.4826 - accuracy: 0.7684 - val_loss: 0.4475 - val_accuracy: 0.7900\n",
      "Epoch 13/100\n",
      "213/213 [==============================] - 1s 5ms/step - loss: 0.4802 - accuracy: 0.7793 - val_loss: 0.4736 - val_accuracy: 0.7700\n",
      "Epoch 14/100\n",
      "213/213 [==============================] - 1s 6ms/step - loss: 0.4800 - accuracy: 0.7784 - val_loss: 0.4923 - val_accuracy: 0.7550\n",
      "Epoch 15/100\n",
      "213/213 [==============================] - 1s 5ms/step - loss: 0.4760 - accuracy: 0.7794 - val_loss: 0.5152 - val_accuracy: 0.7475\n",
      "Epoch 16/100\n",
      "213/213 [==============================] - 1s 4ms/step - loss: 0.4748 - accuracy: 0.7799 - val_loss: 0.4658 - val_accuracy: 0.7783\n",
      "Epoch 17/100\n",
      "213/213 [==============================] - 1s 6ms/step - loss: 0.4727 - accuracy: 0.7803 - val_loss: 0.4641 - val_accuracy: 0.7792\n",
      "Epoch 18/100\n",
      "213/213 [==============================] - 1s 6ms/step - loss: 0.4727 - accuracy: 0.7837 - val_loss: 0.4528 - val_accuracy: 0.7908\n",
      "Epoch 19/100\n",
      "213/213 [==============================] - 2s 7ms/step - loss: 0.4714 - accuracy: 0.7841 - val_loss: 0.4465 - val_accuracy: 0.7975\n",
      "Epoch 20/100\n",
      "213/213 [==============================] - 1s 4ms/step - loss: 0.4690 - accuracy: 0.7885 - val_loss: 0.4556 - val_accuracy: 0.7867\n",
      "Epoch 21/100\n",
      "213/213 [==============================] - 1s 4ms/step - loss: 0.4693 - accuracy: 0.7851 - val_loss: 0.4617 - val_accuracy: 0.7783\n",
      "Epoch 22/100\n",
      "213/213 [==============================] - 1s 5ms/step - loss: 0.4682 - accuracy: 0.7829 - val_loss: 0.4653 - val_accuracy: 0.7817\n",
      "Epoch 23/100\n",
      "213/213 [==============================] - 1s 6ms/step - loss: 0.4672 - accuracy: 0.7893 - val_loss: 0.4553 - val_accuracy: 0.7883\n",
      "Epoch 24/100\n",
      "213/213 [==============================] - 1s 4ms/step - loss: 0.4669 - accuracy: 0.7890 - val_loss: 0.4780 - val_accuracy: 0.7733\n",
      "Epoch 25/100\n",
      "213/213 [==============================] - 1s 6ms/step - loss: 0.4643 - accuracy: 0.7890 - val_loss: 0.4550 - val_accuracy: 0.7817\n",
      "Epoch 26/100\n",
      "213/213 [==============================] - 1s 4ms/step - loss: 0.4631 - accuracy: 0.7907 - val_loss: 0.4701 - val_accuracy: 0.7792\n",
      "Epoch 27/100\n",
      "213/213 [==============================] - 1s 4ms/step - loss: 0.4628 - accuracy: 0.7868 - val_loss: 0.4654 - val_accuracy: 0.7808\n",
      "Epoch 28/100\n",
      "213/213 [==============================] - 1s 5ms/step - loss: 0.4617 - accuracy: 0.7875 - val_loss: 0.4784 - val_accuracy: 0.7725\n",
      "Epoch 29/100\n",
      "213/213 [==============================] - 2s 7ms/step - loss: 0.4610 - accuracy: 0.7941 - val_loss: 0.4685 - val_accuracy: 0.7758\n",
      "Epoch 30/100\n",
      "213/213 [==============================] - 1s 6ms/step - loss: 0.4597 - accuracy: 0.7894 - val_loss: 0.4666 - val_accuracy: 0.7817\n",
      "Epoch 31/100\n",
      "213/213 [==============================] - 1s 6ms/step - loss: 0.4591 - accuracy: 0.7918 - val_loss: 0.4811 - val_accuracy: 0.7683\n",
      "Epoch 32/100\n",
      "213/213 [==============================] - 1s 5ms/step - loss: 0.4595 - accuracy: 0.7896 - val_loss: 0.4468 - val_accuracy: 0.7917\n",
      "Epoch 33/100\n",
      "213/213 [==============================] - 1s 5ms/step - loss: 0.4585 - accuracy: 0.7938 - val_loss: 0.4509 - val_accuracy: 0.7858\n",
      "Epoch 34/100\n",
      "213/213 [==============================] - 1s 6ms/step - loss: 0.4565 - accuracy: 0.7929 - val_loss: 0.4613 - val_accuracy: 0.7750\n",
      "Epoch 35/100\n",
      "213/213 [==============================] - 1s 7ms/step - loss: 0.4570 - accuracy: 0.7951 - val_loss: 0.4402 - val_accuracy: 0.7933\n",
      "Epoch 36/100\n",
      "213/213 [==============================] - 2s 8ms/step - loss: 0.4562 - accuracy: 0.7931 - val_loss: 0.4418 - val_accuracy: 0.7900\n",
      "Epoch 37/100\n",
      "213/213 [==============================] - 1s 5ms/step - loss: 0.4549 - accuracy: 0.7941 - val_loss: 0.4282 - val_accuracy: 0.7983\n",
      "Epoch 38/100\n",
      "213/213 [==============================] - 2s 7ms/step - loss: 0.4560 - accuracy: 0.7928 - val_loss: 0.4400 - val_accuracy: 0.7950\n",
      "Epoch 39/100\n",
      "213/213 [==============================] - 1s 5ms/step - loss: 0.4543 - accuracy: 0.7974 - val_loss: 0.4820 - val_accuracy: 0.7658\n",
      "Epoch 40/100\n",
      "213/213 [==============================] - 1s 6ms/step - loss: 0.4557 - accuracy: 0.7915 - val_loss: 0.4370 - val_accuracy: 0.8050\n",
      "Epoch 41/100\n",
      "213/213 [==============================] - 1s 6ms/step - loss: 0.4547 - accuracy: 0.7951 - val_loss: 0.4581 - val_accuracy: 0.7842\n",
      "Epoch 42/100\n",
      "213/213 [==============================] - 1s 4ms/step - loss: 0.4543 - accuracy: 0.7934 - val_loss: 0.4211 - val_accuracy: 0.8133\n",
      "Epoch 43/100\n",
      "213/213 [==============================] - 1s 5ms/step - loss: 0.4547 - accuracy: 0.7960 - val_loss: 0.4620 - val_accuracy: 0.7767\n",
      "Epoch 44/100\n",
      "213/213 [==============================] - 1s 5ms/step - loss: 0.4531 - accuracy: 0.7919 - val_loss: 0.4547 - val_accuracy: 0.7908\n",
      "Epoch 45/100\n",
      "213/213 [==============================] - 1s 4ms/step - loss: 0.4536 - accuracy: 0.7981 - val_loss: 0.4306 - val_accuracy: 0.8033\n",
      "Epoch 46/100\n",
      "213/213 [==============================] - 1s 4ms/step - loss: 0.4548 - accuracy: 0.7946 - val_loss: 0.4410 - val_accuracy: 0.7942\n",
      "Epoch 47/100\n",
      "213/213 [==============================] - 1s 3ms/step - loss: 0.4531 - accuracy: 0.7978 - val_loss: 0.4473 - val_accuracy: 0.7892\n",
      "Epoch 48/100\n",
      "213/213 [==============================] - 1s 3ms/step - loss: 0.4524 - accuracy: 0.7949 - val_loss: 0.4621 - val_accuracy: 0.7783\n",
      "Epoch 49/100\n",
      "213/213 [==============================] - 1s 3ms/step - loss: 0.4517 - accuracy: 0.7974 - val_loss: 0.4412 - val_accuracy: 0.7942\n",
      "Epoch 50/100\n",
      "213/213 [==============================] - 1s 5ms/step - loss: 0.4528 - accuracy: 0.7975 - val_loss: 0.4804 - val_accuracy: 0.7742\n",
      "Epoch 51/100\n",
      "213/213 [==============================] - 1s 4ms/step - loss: 0.4518 - accuracy: 0.7956 - val_loss: 0.4552 - val_accuracy: 0.7858\n",
      "Epoch 52/100\n",
      "213/213 [==============================] - 1s 3ms/step - loss: 0.4507 - accuracy: 0.7978 - val_loss: 0.4382 - val_accuracy: 0.8017\n",
      "Epoch 53/100\n",
      "213/213 [==============================] - 1s 5ms/step - loss: 0.4517 - accuracy: 0.8000 - val_loss: 0.4949 - val_accuracy: 0.7675\n",
      "Epoch 54/100\n",
      "213/213 [==============================] - 1s 4ms/step - loss: 0.4496 - accuracy: 0.7979 - val_loss: 0.4472 - val_accuracy: 0.7950\n",
      "Epoch 55/100\n",
      "213/213 [==============================] - 1s 3ms/step - loss: 0.4504 - accuracy: 0.7953 - val_loss: 0.4642 - val_accuracy: 0.7800\n",
      "Epoch 56/100\n",
      "213/213 [==============================] - 1s 3ms/step - loss: 0.4505 - accuracy: 0.7966 - val_loss: 0.4655 - val_accuracy: 0.7775\n",
      "Epoch 57/100\n",
      "213/213 [==============================] - 1s 4ms/step - loss: 0.4518 - accuracy: 0.7999 - val_loss: 0.4756 - val_accuracy: 0.7742\n"
     ]
    },
    {
     "name": "stdout",
     "output_type": "stream",
     "text": [
      "Epoch 58/100\n",
      "213/213 [==============================] - 1s 5ms/step - loss: 0.4498 - accuracy: 0.7962 - val_loss: 0.4525 - val_accuracy: 0.7850\n",
      "Epoch 59/100\n",
      "213/213 [==============================] - 1s 3ms/step - loss: 0.4499 - accuracy: 0.7959 - val_loss: 0.4668 - val_accuracy: 0.7808\n",
      "Epoch 60/100\n",
      "213/213 [==============================] - 1s 5ms/step - loss: 0.4493 - accuracy: 0.7971 - val_loss: 0.4379 - val_accuracy: 0.8008\n",
      "Epoch 61/100\n",
      "213/213 [==============================] - 1s 3ms/step - loss: 0.4501 - accuracy: 0.7966 - val_loss: 0.4574 - val_accuracy: 0.7875\n",
      "Epoch 62/100\n",
      "213/213 [==============================] - 1s 3ms/step - loss: 0.4505 - accuracy: 0.7971 - val_loss: 0.4535 - val_accuracy: 0.7833\n",
      "Epoch 63/100\n",
      "213/213 [==============================] - 1s 3ms/step - loss: 0.4492 - accuracy: 0.7990 - val_loss: 0.4493 - val_accuracy: 0.7883\n",
      "Epoch 64/100\n",
      "213/213 [==============================] - 1s 3ms/step - loss: 0.4486 - accuracy: 0.7960 - val_loss: 0.4368 - val_accuracy: 0.8008\n",
      "Epoch 65/100\n",
      "213/213 [==============================] - 1s 5ms/step - loss: 0.4485 - accuracy: 0.7969 - val_loss: 0.4519 - val_accuracy: 0.7892\n",
      "Epoch 66/100\n",
      "213/213 [==============================] - 1s 3ms/step - loss: 0.4490 - accuracy: 0.7968 - val_loss: 0.4447 - val_accuracy: 0.7967\n",
      "Epoch 67/100\n",
      "213/213 [==============================] - 1s 4ms/step - loss: 0.4485 - accuracy: 0.7956 - val_loss: 0.4609 - val_accuracy: 0.7842\n",
      "Epoch 68/100\n",
      "213/213 [==============================] - 1s 3ms/step - loss: 0.4499 - accuracy: 0.7968 - val_loss: 0.4725 - val_accuracy: 0.7708\n",
      "Epoch 69/100\n",
      "213/213 [==============================] - 1s 3ms/step - loss: 0.4470 - accuracy: 0.7985 - val_loss: 0.4373 - val_accuracy: 0.8025\n",
      "Epoch 70/100\n",
      "213/213 [==============================] - 1s 3ms/step - loss: 0.4476 - accuracy: 0.8006 - val_loss: 0.4816 - val_accuracy: 0.7742\n",
      "Epoch 71/100\n",
      "213/213 [==============================] - 1s 3ms/step - loss: 0.4471 - accuracy: 0.7956 - val_loss: 0.4542 - val_accuracy: 0.7858\n",
      "Epoch 72/100\n",
      "213/213 [==============================] - 1s 5ms/step - loss: 0.4463 - accuracy: 0.8024 - val_loss: 0.4610 - val_accuracy: 0.7767\n",
      "Epoch 73/100\n",
      "213/213 [==============================] - 1s 4ms/step - loss: 0.4477 - accuracy: 0.7947 - val_loss: 0.4517 - val_accuracy: 0.7867\n",
      "Epoch 74/100\n",
      "213/213 [==============================] - 1s 4ms/step - loss: 0.4469 - accuracy: 0.7972 - val_loss: 0.4602 - val_accuracy: 0.7800\n",
      "Epoch 75/100\n",
      "213/213 [==============================] - 1s 4ms/step - loss: 0.4479 - accuracy: 0.7974 - val_loss: 0.4710 - val_accuracy: 0.7792\n",
      "Epoch 76/100\n",
      "213/213 [==============================] - 1s 3ms/step - loss: 0.4470 - accuracy: 0.7982 - val_loss: 0.4726 - val_accuracy: 0.7725\n",
      "Epoch 77/100\n",
      "213/213 [==============================] - 1s 3ms/step - loss: 0.4470 - accuracy: 0.7924 - val_loss: 0.4528 - val_accuracy: 0.7875\n",
      "Epoch 78/100\n",
      "213/213 [==============================] - 1s 3ms/step - loss: 0.4469 - accuracy: 0.7985 - val_loss: 0.4390 - val_accuracy: 0.8025\n",
      "Epoch 79/100\n",
      "213/213 [==============================] - 1s 4ms/step - loss: 0.4460 - accuracy: 0.7969 - val_loss: 0.4395 - val_accuracy: 0.7992\n",
      "Epoch 80/100\n",
      "213/213 [==============================] - 1s 5ms/step - loss: 0.4462 - accuracy: 0.7966 - val_loss: 0.4312 - val_accuracy: 0.8008\n",
      "Epoch 81/100\n",
      "213/213 [==============================] - 1s 4ms/step - loss: 0.4457 - accuracy: 0.7966 - val_loss: 0.4600 - val_accuracy: 0.7817\n",
      "Epoch 82/100\n",
      "213/213 [==============================] - 1s 4ms/step - loss: 0.4463 - accuracy: 0.7962 - val_loss: 0.4573 - val_accuracy: 0.7808\n",
      "Epoch 83/100\n",
      "213/213 [==============================] - 1s 3ms/step - loss: 0.4453 - accuracy: 0.7956 - val_loss: 0.4115 - val_accuracy: 0.8183\n",
      "Epoch 84/100\n",
      "213/213 [==============================] - 1s 4ms/step - loss: 0.4460 - accuracy: 0.7959 - val_loss: 0.4328 - val_accuracy: 0.8042\n",
      "Epoch 85/100\n",
      "213/213 [==============================] - 1s 3ms/step - loss: 0.4460 - accuracy: 0.7947 - val_loss: 0.4252 - val_accuracy: 0.8050\n",
      "Epoch 86/100\n",
      "213/213 [==============================] - 1s 3ms/step - loss: 0.4453 - accuracy: 0.7944 - val_loss: 0.4617 - val_accuracy: 0.7842\n",
      "Epoch 87/100\n",
      "213/213 [==============================] - 1s 6ms/step - loss: 0.4451 - accuracy: 0.7943 - val_loss: 0.4206 - val_accuracy: 0.8067\n",
      "Epoch 88/100\n",
      "213/213 [==============================] - 1s 4ms/step - loss: 0.4443 - accuracy: 0.7946 - val_loss: 0.4382 - val_accuracy: 0.7950\n",
      "Epoch 89/100\n",
      "213/213 [==============================] - 1s 4ms/step - loss: 0.4432 - accuracy: 0.7947 - val_loss: 0.4114 - val_accuracy: 0.8225\n",
      "Epoch 90/100\n",
      "213/213 [==============================] - 1s 3ms/step - loss: 0.4437 - accuracy: 0.7971 - val_loss: 0.4305 - val_accuracy: 0.8017\n",
      "Epoch 91/100\n",
      "213/213 [==============================] - 1s 3ms/step - loss: 0.4443 - accuracy: 0.7954 - val_loss: 0.4818 - val_accuracy: 0.7683\n",
      "Epoch 92/100\n",
      "213/213 [==============================] - 1s 3ms/step - loss: 0.4441 - accuracy: 0.7966 - val_loss: 0.4610 - val_accuracy: 0.7817\n",
      "Epoch 93/100\n",
      "213/213 [==============================] - 1s 3ms/step - loss: 0.4436 - accuracy: 0.7966 - val_loss: 0.5008 - val_accuracy: 0.7542\n",
      "Epoch 94/100\n",
      "213/213 [==============================] - 1s 5ms/step - loss: 0.4441 - accuracy: 0.7910 - val_loss: 0.4568 - val_accuracy: 0.7842\n",
      "Epoch 95/100\n",
      "213/213 [==============================] - 1s 4ms/step - loss: 0.4441 - accuracy: 0.7949 - val_loss: 0.4206 - val_accuracy: 0.8100\n",
      "Epoch 96/100\n",
      "213/213 [==============================] - 1s 4ms/step - loss: 0.4451 - accuracy: 0.7941 - val_loss: 0.4588 - val_accuracy: 0.7817\n",
      "Epoch 97/100\n",
      "213/213 [==============================] - 1s 3ms/step - loss: 0.4431 - accuracy: 0.7990 - val_loss: 0.4453 - val_accuracy: 0.7925\n",
      "Epoch 98/100\n",
      "213/213 [==============================] - 1s 3ms/step - loss: 0.4432 - accuracy: 0.7924 - val_loss: 0.4453 - val_accuracy: 0.7950\n",
      "Epoch 99/100\n",
      "213/213 [==============================] - 1s 3ms/step - loss: 0.4435 - accuracy: 0.7940 - val_loss: 0.4781 - val_accuracy: 0.7733\n",
      "Epoch 100/100\n",
      "213/213 [==============================] - 1s 3ms/step - loss: 0.4431 - accuracy: 0.7924 - val_loss: 0.4562 - val_accuracy: 0.7908\n"
     ]
    },
    {
     "data": {
      "text/plain": [
       "<keras.src.callbacks.History at 0x27e61f4b3a0>"
      ]
     },
     "execution_count": 36,
     "metadata": {},
     "output_type": "execute_result"
    }
   ],
   "source": [
    "model_cw.fit(\n",
    "    x=X_train, y=y_train, validation_split=0.15, batch_size=32, class_weight=class_weights, epochs=100, verbose=1\n",
    ")"
   ]
  },
  {
   "cell_type": "code",
   "execution_count": 37,
   "metadata": {},
   "outputs": [
    {
     "name": "stdout",
     "output_type": "stream",
     "text": [
      "Model: \"sequential_1\"\n",
      "_________________________________________________________________\n",
      " Layer (type)                Output Shape              Param #   \n",
      "=================================================================\n",
      " dense_7 (Dense)             (None, 7)                 98        \n",
      "                                                                 \n",
      " dense_8 (Dense)             (None, 7)                 56        \n",
      "                                                                 \n",
      " dense_9 (Dense)             (None, 7)                 56        \n",
      "                                                                 \n",
      " dense_10 (Dense)            (None, 7)                 56        \n",
      "                                                                 \n",
      " dense_11 (Dense)            (None, 7)                 56        \n",
      "                                                                 \n",
      " dense_12 (Dense)            (None, 7)                 56        \n",
      "                                                                 \n",
      " dense_13 (Dense)            (None, 1)                 8         \n",
      "                                                                 \n",
      "=================================================================\n",
      "Total params: 386 (1.51 KB)\n",
      "Trainable params: 386 (1.51 KB)\n",
      "Non-trainable params: 0 (0.00 Byte)\n",
      "_________________________________________________________________\n"
     ]
    }
   ],
   "source": [
    "model_cw.summary()"
   ]
  },
  {
   "cell_type": "markdown",
   "metadata": {
    "id": "7IT-dFDt3kwn"
   },
   "source": [
    "### Evaluate The Model\n",
    "\n",
    "- Plot the model history to observe the changing of metrics\n",
    "- Make prediction to see \"confusion matrix\" and \"classification report\"\n",
    "- Check ROC (Receiver Operating Curve) and AUC (Area Under Curve) for the model"
   ]
  },
  {
   "cell_type": "code",
   "execution_count": 38,
   "metadata": {
    "id": "rEr15Bn33kwn"
   },
   "outputs": [
    {
     "data": {
      "text/html": [
       "<div>\n",
       "<style scoped>\n",
       "    .dataframe tbody tr th:only-of-type {\n",
       "        vertical-align: middle;\n",
       "    }\n",
       "\n",
       "    .dataframe tbody tr th {\n",
       "        vertical-align: top;\n",
       "    }\n",
       "\n",
       "    .dataframe thead th {\n",
       "        text-align: right;\n",
       "    }\n",
       "</style>\n",
       "<table border=\"1\" class=\"dataframe\">\n",
       "  <thead>\n",
       "    <tr style=\"text-align: right;\">\n",
       "      <th></th>\n",
       "      <th>loss</th>\n",
       "      <th>accuracy</th>\n",
       "      <th>val_loss</th>\n",
       "      <th>val_accuracy</th>\n",
       "    </tr>\n",
       "  </thead>\n",
       "  <tbody>\n",
       "    <tr>\n",
       "      <th>0</th>\n",
       "      <td>0.676921</td>\n",
       "      <td>0.412059</td>\n",
       "      <td>0.712188</td>\n",
       "      <td>0.603333</td>\n",
       "    </tr>\n",
       "    <tr>\n",
       "      <th>1</th>\n",
       "      <td>0.606947</td>\n",
       "      <td>0.681029</td>\n",
       "      <td>0.644523</td>\n",
       "      <td>0.673333</td>\n",
       "    </tr>\n",
       "    <tr>\n",
       "      <th>2</th>\n",
       "      <td>0.570463</td>\n",
       "      <td>0.713235</td>\n",
       "      <td>0.553339</td>\n",
       "      <td>0.732500</td>\n",
       "    </tr>\n",
       "    <tr>\n",
       "      <th>3</th>\n",
       "      <td>0.549203</td>\n",
       "      <td>0.728824</td>\n",
       "      <td>0.567231</td>\n",
       "      <td>0.710000</td>\n",
       "    </tr>\n",
       "    <tr>\n",
       "      <th>4</th>\n",
       "      <td>0.534113</td>\n",
       "      <td>0.737500</td>\n",
       "      <td>0.542441</td>\n",
       "      <td>0.725000</td>\n",
       "    </tr>\n",
       "  </tbody>\n",
       "</table>\n",
       "</div>"
      ],
      "text/plain": [
       "       loss  accuracy  val_loss  val_accuracy\n",
       "0  0.676921  0.412059  0.712188      0.603333\n",
       "1  0.606947  0.681029  0.644523      0.673333\n",
       "2  0.570463  0.713235  0.553339      0.732500\n",
       "3  0.549203  0.728824  0.567231      0.710000\n",
       "4  0.534113  0.737500  0.542441      0.725000"
      ]
     },
     "execution_count": 38,
     "metadata": {},
     "output_type": "execute_result"
    }
   ],
   "source": [
    "loss_df = pd.DataFrame(model_cw.history.history)\n",
    "loss_df.head()"
   ]
  },
  {
   "cell_type": "code",
   "execution_count": 39,
   "metadata": {},
   "outputs": [
    {
     "data": {
      "image/png": "[encoded data removed]",
      "text/plain": [
       "<Figure size 432x288 with 1 Axes>"
      ]
     },
     "metadata": {
      "needs_background": "light"
     },
     "output_type": "display_data"
    }
   ],
   "source": [
    "loss_df.plot()\n",
    "plt.show()"
   ]
  },
  {
   "cell_type": "code",
   "execution_count": 40,
   "metadata": {},
   "outputs": [
    {
     "data": {
      "text/plain": [
       "[0.4625414311885834, 0.7720000147819519]"
      ]
     },
     "execution_count": 40,
     "metadata": {},
     "output_type": "execute_result"
    }
   ],
   "source": [
    "model_cw.evaluate(X_test, y_test, verbose=0)"
   ]
  },
  {
   "cell_type": "code",
   "execution_count": 41,
   "metadata": {},
   "outputs": [
    {
     "name": "stdout",
     "output_type": "stream",
     "text": [
      "loss:  0.4625414311885834\n",
      "accuracy:  0.7720000147819519\n"
     ]
    }
   ],
   "source": [
    "loss, accuracy = model_cw.evaluate(X_test, y_test, verbose=0)\n",
    "print(\"loss: \", loss)\n",
    "print(\"accuracy: \", accuracy)"
   ]
  },
  {
   "cell_type": "code",
   "execution_count": 42,
   "metadata": {},
   "outputs": [
    {
     "name": "stdout",
     "output_type": "stream",
     "text": [
      "63/63 [==============================] - 0s 2ms/step\n",
      "[[1237  356]\n",
      " [ 100  307]]\n",
      "              precision    recall  f1-score   support\n",
      "\n",
      "           0       0.93      0.78      0.84      1593\n",
      "           1       0.46      0.75      0.57       407\n",
      "\n",
      "    accuracy                           0.77      2000\n",
      "   macro avg       0.69      0.77      0.71      2000\n",
      "weighted avg       0.83      0.77      0.79      2000\n",
      "\n"
     ]
    }
   ],
   "source": [
    "y_pred = model_cw.predict(X_test) > 0.5\n",
    "print(confusion_matrix(y_test, y_pred))\n",
    "print(classification_report(y_test, y_pred))"
   ]
  },
  {
   "cell_type": "code",
   "execution_count": 43,
   "metadata": {},
   "outputs": [
    {
     "name": "stdout",
     "output_type": "stream",
     "text": [
      "63/63 [==============================] - 0s 2ms/step\n"
     ]
    },
    {
     "data": {
      "text/plain": [
       "<sklearn.metrics._plot.roc_curve.RocCurveDisplay at 0x27e64a05340>"
      ]
     },
     "execution_count": 43,
     "metadata": {},
     "output_type": "execute_result"
    },
    {
     "data": {
      "image/png": "[encoded data removed]",
      "text/plain": [
       "<Figure size 432x288 with 1 Axes>"
      ]
     },
     "metadata": {
      "needs_background": "light"
     },
     "output_type": "display_data"
    }
   ],
   "source": [
    "y_pred_proba = model_cw.predict(X_test)\n",
    "RocCurveDisplay.from_predictions(y_test, y_pred_proba)"
   ]
  },
  {
   "cell_type": "markdown",
   "metadata": {
    "id": "GA7NcjOn3kwn"
   },
   "source": [
    "## Implementation Different Methods to Develop The Model\n",
    "\n",
    "- Implement the following methods on model creating with \"class_weight\" parameter\n",
    "- Create and evaluate model for each method"
   ]
  },
  {
   "cell_type": "markdown",
   "metadata": {
    "id": "ObNhy2gn3kwo"
   },
   "source": [
    "### Increase The Learning Rate and Observe The Results"
   ]
  },
  {
   "cell_type": "code",
   "execution_count": 44,
   "metadata": {},
   "outputs": [],
   "source": [
    "from tensorflow.keras.optimizers import Adam"
   ]
  },
  {
   "cell_type": "code",
   "execution_count": 45,
   "metadata": {
    "id": "N-IS1sc-3kwo"
   },
   "outputs": [],
   "source": [
    "model_lr = Sequential()\n",
    "\n",
    "model_lr.add(Dense(7, activation=\"relu\", input_dim=X_train.shape[1]))\n",
    "model_lr.add(Dense(7, activation=\"relu\"))\n",
    "model_lr.add(Dense(7, activation=\"relu\"))\n",
    "model_lr.add(Dense(7, activation=\"relu\"))\n",
    "model_lr.add(Dense(7, activation=\"relu\"))\n",
    "model_lr.add(Dense(7, activation=\"relu\"))\n",
    "model_lr.add(Dense(1, activation=\"sigmoid\"))\n",
    "\n",
    "opt= opt = Adam(learning_rate=0.005)\n",
    "\n",
    "model_lr.compile(optimizer=opt, loss=\"binary_crossentropy\", metrics=[\"accuracy\"])"
   ]
  },
  {
   "cell_type": "code",
   "execution_count": 46,
   "metadata": {},
   "outputs": [
    {
     "name": "stdout",
     "output_type": "stream",
     "text": [
      "Epoch 1/100\n",
      "213/213 [==============================] - 3s 4ms/step - loss: 0.6313 - accuracy: 0.6071 - val_loss: 0.6765 - val_accuracy: 0.6792\n",
      "Epoch 2/100\n",
      "213/213 [==============================] - 1s 3ms/step - loss: 0.5321 - accuracy: 0.7629 - val_loss: 0.5001 - val_accuracy: 0.7975\n",
      "Epoch 3/100\n",
      "213/213 [==============================] - 1s 4ms/step - loss: 0.5082 - accuracy: 0.7754 - val_loss: 0.4777 - val_accuracy: 0.7992\n",
      "Epoch 4/100\n",
      "213/213 [==============================] - 1s 5ms/step - loss: 0.4980 - accuracy: 0.7738 - val_loss: 0.4443 - val_accuracy: 0.8208\n",
      "Epoch 5/100\n",
      "213/213 [==============================] - 1s 5ms/step - loss: 0.4934 - accuracy: 0.7806 - val_loss: 0.4923 - val_accuracy: 0.7675\n",
      "Epoch 6/100\n",
      "213/213 [==============================] - 1s 3ms/step - loss: 0.4894 - accuracy: 0.7774 - val_loss: 0.4574 - val_accuracy: 0.7917\n",
      "Epoch 7/100\n",
      "213/213 [==============================] - 1s 3ms/step - loss: 0.4900 - accuracy: 0.7797 - val_loss: 0.4502 - val_accuracy: 0.8050\n",
      "Epoch 8/100\n",
      "213/213 [==============================] - 1s 3ms/step - loss: 0.4833 - accuracy: 0.7850 - val_loss: 0.4533 - val_accuracy: 0.7850\n",
      "Epoch 9/100\n",
      "213/213 [==============================] - 1s 3ms/step - loss: 0.4818 - accuracy: 0.7799 - val_loss: 0.5022 - val_accuracy: 0.7375\n",
      "Epoch 10/100\n",
      "213/213 [==============================] - 1s 3ms/step - loss: 0.4803 - accuracy: 0.7812 - val_loss: 0.4328 - val_accuracy: 0.7983\n",
      "Epoch 11/100\n",
      "213/213 [==============================] - 1s 6ms/step - loss: 0.4767 - accuracy: 0.7812 - val_loss: 0.4188 - val_accuracy: 0.7975\n",
      "Epoch 12/100\n",
      "213/213 [==============================] - 1s 5ms/step - loss: 0.4766 - accuracy: 0.7804 - val_loss: 0.4432 - val_accuracy: 0.7975\n",
      "Epoch 13/100\n",
      "213/213 [==============================] - 1s 3ms/step - loss: 0.4755 - accuracy: 0.7868 - val_loss: 0.4671 - val_accuracy: 0.7700\n",
      "Epoch 14/100\n",
      "213/213 [==============================] - 1s 3ms/step - loss: 0.4746 - accuracy: 0.7829 - val_loss: 0.4529 - val_accuracy: 0.7717\n",
      "Epoch 15/100\n",
      "213/213 [==============================] - 1s 3ms/step - loss: 0.4731 - accuracy: 0.7849 - val_loss: 0.4785 - val_accuracy: 0.7567\n",
      "Epoch 16/100\n",
      "213/213 [==============================] - 1s 3ms/step - loss: 0.4734 - accuracy: 0.7854 - val_loss: 0.4580 - val_accuracy: 0.7725\n",
      "Epoch 17/100\n",
      "213/213 [==============================] - 1s 3ms/step - loss: 0.4736 - accuracy: 0.7894 - val_loss: 0.5092 - val_accuracy: 0.7425\n",
      "Epoch 18/100\n",
      "213/213 [==============================] - 1s 5ms/step - loss: 0.4727 - accuracy: 0.7818 - val_loss: 0.4390 - val_accuracy: 0.7917\n",
      "Epoch 19/100\n",
      "213/213 [==============================] - 1s 5ms/step - loss: 0.4710 - accuracy: 0.7875 - val_loss: 0.4000 - val_accuracy: 0.8208\n",
      "Epoch 20/100\n",
      "213/213 [==============================] - 1s 4ms/step - loss: 0.4718 - accuracy: 0.7879 - val_loss: 0.4316 - val_accuracy: 0.7925\n",
      "Epoch 21/100\n",
      "213/213 [==============================] - 1s 3ms/step - loss: 0.4722 - accuracy: 0.7893 - val_loss: 0.4582 - val_accuracy: 0.7808\n",
      "Epoch 22/100\n",
      "213/213 [==============================] - 1s 4ms/step - loss: 0.4699 - accuracy: 0.7882 - val_loss: 0.4792 - val_accuracy: 0.7717\n",
      "Epoch 23/100\n",
      "213/213 [==============================] - 1s 3ms/step - loss: 0.4698 - accuracy: 0.7916 - val_loss: 0.4271 - val_accuracy: 0.8025\n",
      "Epoch 24/100\n",
      "213/213 [==============================] - 1s 4ms/step - loss: 0.4728 - accuracy: 0.7879 - val_loss: 0.4494 - val_accuracy: 0.7892\n",
      "Epoch 25/100\n",
      "213/213 [==============================] - 1s 5ms/step - loss: 0.4687 - accuracy: 0.7915 - val_loss: 0.4857 - val_accuracy: 0.7667\n",
      "Epoch 26/100\n",
      "213/213 [==============================] - 1s 5ms/step - loss: 0.4661 - accuracy: 0.7865 - val_loss: 0.4307 - val_accuracy: 0.7875\n",
      "Epoch 27/100\n",
      "213/213 [==============================] - 1s 4ms/step - loss: 0.4684 - accuracy: 0.7915 - val_loss: 0.4834 - val_accuracy: 0.7725\n",
      "Epoch 28/100\n",
      "213/213 [==============================] - 1s 4ms/step - loss: 0.4688 - accuracy: 0.7871 - val_loss: 0.4321 - val_accuracy: 0.8092\n",
      "Epoch 29/100\n",
      "213/213 [==============================] - 1s 3ms/step - loss: 0.4661 - accuracy: 0.7893 - val_loss: 0.4784 - val_accuracy: 0.7692\n",
      "Epoch 30/100\n",
      "213/213 [==============================] - 1s 3ms/step - loss: 0.4682 - accuracy: 0.7909 - val_loss: 0.4344 - val_accuracy: 0.7925\n",
      "Epoch 31/100\n",
      "213/213 [==============================] - 1s 4ms/step - loss: 0.4667 - accuracy: 0.7872 - val_loss: 0.4463 - val_accuracy: 0.7867\n",
      "Epoch 32/100\n",
      "213/213 [==============================] - 1s 6ms/step - loss: 0.4650 - accuracy: 0.7872 - val_loss: 0.4426 - val_accuracy: 0.7783\n",
      "Epoch 33/100\n",
      "213/213 [==============================] - 1s 5ms/step - loss: 0.4676 - accuracy: 0.7828 - val_loss: 0.4255 - val_accuracy: 0.7875\n",
      "Epoch 34/100\n",
      "213/213 [==============================] - 1s 4ms/step - loss: 0.4664 - accuracy: 0.7906 - val_loss: 0.4787 - val_accuracy: 0.7600\n",
      "Epoch 35/100\n",
      "213/213 [==============================] - 1s 3ms/step - loss: 0.4650 - accuracy: 0.7879 - val_loss: 0.3871 - val_accuracy: 0.8283\n",
      "Epoch 36/100\n",
      "213/213 [==============================] - 1s 3ms/step - loss: 0.4671 - accuracy: 0.7903 - val_loss: 0.4499 - val_accuracy: 0.7942\n",
      "Epoch 37/100\n",
      "213/213 [==============================] - 1s 3ms/step - loss: 0.4644 - accuracy: 0.7869 - val_loss: 0.4586 - val_accuracy: 0.7733\n",
      "Epoch 38/100\n",
      "213/213 [==============================] - 1s 5ms/step - loss: 0.4639 - accuracy: 0.7897 - val_loss: 0.4271 - val_accuracy: 0.7950\n",
      "Epoch 39/100\n",
      "213/213 [==============================] - 1s 6ms/step - loss: 0.4634 - accuracy: 0.7903 - val_loss: 0.4597 - val_accuracy: 0.7833\n",
      "Epoch 40/100\n",
      "213/213 [==============================] - 1s 4ms/step - loss: 0.4624 - accuracy: 0.7846 - val_loss: 0.4244 - val_accuracy: 0.8000\n",
      "Epoch 41/100\n",
      "213/213 [==============================] - 1s 3ms/step - loss: 0.4651 - accuracy: 0.7941 - val_loss: 0.3772 - val_accuracy: 0.8300\n",
      "Epoch 42/100\n",
      "213/213 [==============================] - 1s 3ms/step - loss: 0.4626 - accuracy: 0.7913 - val_loss: 0.4403 - val_accuracy: 0.7858\n",
      "Epoch 43/100\n",
      "213/213 [==============================] - 1s 4ms/step - loss: 0.4626 - accuracy: 0.7929 - val_loss: 0.4502 - val_accuracy: 0.7842\n",
      "Epoch 44/100\n",
      "213/213 [==============================] - 1s 3ms/step - loss: 0.4612 - accuracy: 0.7931 - val_loss: 0.4500 - val_accuracy: 0.7817\n",
      "Epoch 45/100\n",
      "213/213 [==============================] - 1s 4ms/step - loss: 0.4602 - accuracy: 0.7893 - val_loss: 0.4910 - val_accuracy: 0.7650\n",
      "Epoch 46/100\n",
      "213/213 [==============================] - 1s 6ms/step - loss: 0.4624 - accuracy: 0.7916 - val_loss: 0.4794 - val_accuracy: 0.7658\n",
      "Epoch 47/100\n",
      "213/213 [==============================] - 1s 4ms/step - loss: 0.4598 - accuracy: 0.7915 - val_loss: 0.4402 - val_accuracy: 0.7975\n",
      "Epoch 48/100\n",
      "213/213 [==============================] - 1s 4ms/step - loss: 0.4642 - accuracy: 0.7899 - val_loss: 0.3918 - val_accuracy: 0.8333\n",
      "Epoch 49/100\n",
      "213/213 [==============================] - 1s 4ms/step - loss: 0.4606 - accuracy: 0.7869 - val_loss: 0.4426 - val_accuracy: 0.7783\n",
      "Epoch 50/100\n",
      "213/213 [==============================] - 1s 3ms/step - loss: 0.4606 - accuracy: 0.7907 - val_loss: 0.4234 - val_accuracy: 0.8150\n",
      "Epoch 51/100\n",
      "213/213 [==============================] - 1s 3ms/step - loss: 0.4597 - accuracy: 0.7903 - val_loss: 0.4825 - val_accuracy: 0.7708\n",
      "Epoch 52/100\n",
      "213/213 [==============================] - 1s 4ms/step - loss: 0.4622 - accuracy: 0.7954 - val_loss: 0.4309 - val_accuracy: 0.7958\n",
      "Epoch 53/100\n",
      "213/213 [==============================] - 1s 6ms/step - loss: 0.4607 - accuracy: 0.7919 - val_loss: 0.4283 - val_accuracy: 0.7975\n",
      "Epoch 54/100\n",
      "213/213 [==============================] - 1s 4ms/step - loss: 0.4583 - accuracy: 0.7943 - val_loss: 0.4896 - val_accuracy: 0.7717\n",
      "Epoch 55/100\n",
      "213/213 [==============================] - 1s 4ms/step - loss: 0.4586 - accuracy: 0.7874 - val_loss: 0.4256 - val_accuracy: 0.8067\n",
      "Epoch 56/100\n",
      "213/213 [==============================] - 1s 4ms/step - loss: 0.4580 - accuracy: 0.7860 - val_loss: 0.4623 - val_accuracy: 0.7800\n",
      "Epoch 57/100\n",
      "213/213 [==============================] - 1s 4ms/step - loss: 0.4606 - accuracy: 0.7906 - val_loss: 0.4423 - val_accuracy: 0.7900\n"
     ]
    },
    {
     "name": "stdout",
     "output_type": "stream",
     "text": [
      "Epoch 58/100\n",
      "213/213 [==============================] - 1s 3ms/step - loss: 0.4578 - accuracy: 0.7918 - val_loss: 0.4700 - val_accuracy: 0.7808\n",
      "Epoch 59/100\n",
      "213/213 [==============================] - 1s 4ms/step - loss: 0.4559 - accuracy: 0.7901 - val_loss: 0.4522 - val_accuracy: 0.7817\n",
      "Epoch 60/100\n",
      "213/213 [==============================] - 1s 5ms/step - loss: 0.4579 - accuracy: 0.7832 - val_loss: 0.4104 - val_accuracy: 0.8017\n",
      "Epoch 61/100\n",
      "213/213 [==============================] - 1s 3ms/step - loss: 0.4569 - accuracy: 0.7875 - val_loss: 0.4731 - val_accuracy: 0.7633\n",
      "Epoch 62/100\n",
      "213/213 [==============================] - 1s 3ms/step - loss: 0.4587 - accuracy: 0.7844 - val_loss: 0.4518 - val_accuracy: 0.7825\n",
      "Epoch 63/100\n",
      "213/213 [==============================] - 1s 3ms/step - loss: 0.4566 - accuracy: 0.7844 - val_loss: 0.5097 - val_accuracy: 0.7467\n",
      "Epoch 64/100\n",
      "213/213 [==============================] - 1s 4ms/step - loss: 0.4566 - accuracy: 0.7832 - val_loss: 0.4307 - val_accuracy: 0.7992\n",
      "Epoch 65/100\n",
      "213/213 [==============================] - 1s 3ms/step - loss: 0.4552 - accuracy: 0.7885 - val_loss: 0.4758 - val_accuracy: 0.7733\n",
      "Epoch 66/100\n",
      "213/213 [==============================] - 1s 4ms/step - loss: 0.4557 - accuracy: 0.7928 - val_loss: 0.4484 - val_accuracy: 0.7808\n",
      "Epoch 67/100\n",
      "213/213 [==============================] - 1s 6ms/step - loss: 0.4558 - accuracy: 0.7838 - val_loss: 0.4623 - val_accuracy: 0.7850\n",
      "Epoch 68/100\n",
      "213/213 [==============================] - 1s 3ms/step - loss: 0.4583 - accuracy: 0.7874 - val_loss: 0.4343 - val_accuracy: 0.7917\n",
      "Epoch 69/100\n",
      "213/213 [==============================] - 1s 3ms/step - loss: 0.4558 - accuracy: 0.7899 - val_loss: 0.4755 - val_accuracy: 0.7758\n",
      "Epoch 70/100\n",
      "213/213 [==============================] - 1s 3ms/step - loss: 0.4529 - accuracy: 0.7875 - val_loss: 0.4241 - val_accuracy: 0.8008\n",
      "Epoch 71/100\n",
      "213/213 [==============================] - 1s 3ms/step - loss: 0.4529 - accuracy: 0.7872 - val_loss: 0.4164 - val_accuracy: 0.8050\n",
      "Epoch 72/100\n",
      "213/213 [==============================] - 1s 4ms/step - loss: 0.4554 - accuracy: 0.7875 - val_loss: 0.4750 - val_accuracy: 0.7542\n",
      "Epoch 73/100\n",
      "213/213 [==============================] - 1s 4ms/step - loss: 0.4561 - accuracy: 0.7785 - val_loss: 0.4134 - val_accuracy: 0.8000\n",
      "Epoch 74/100\n",
      "213/213 [==============================] - 1s 6ms/step - loss: 0.4567 - accuracy: 0.7768 - val_loss: 0.4378 - val_accuracy: 0.7892\n",
      "Epoch 75/100\n",
      "213/213 [==============================] - 1s 4ms/step - loss: 0.4526 - accuracy: 0.7807 - val_loss: 0.4186 - val_accuracy: 0.7933\n",
      "Epoch 76/100\n",
      "213/213 [==============================] - 1s 3ms/step - loss: 0.4561 - accuracy: 0.7818 - val_loss: 0.4624 - val_accuracy: 0.7658\n",
      "Epoch 77/100\n",
      "213/213 [==============================] - 1s 3ms/step - loss: 0.4556 - accuracy: 0.7796 - val_loss: 0.4428 - val_accuracy: 0.7717\n",
      "Epoch 78/100\n",
      "213/213 [==============================] - 1s 3ms/step - loss: 0.4582 - accuracy: 0.7800 - val_loss: 0.4544 - val_accuracy: 0.7658\n",
      "Epoch 79/100\n",
      "213/213 [==============================] - 1s 3ms/step - loss: 0.4544 - accuracy: 0.7851 - val_loss: 0.5191 - val_accuracy: 0.7342\n",
      "Epoch 80/100\n",
      "213/213 [==============================] - 1s 4ms/step - loss: 0.4531 - accuracy: 0.7812 - val_loss: 0.4223 - val_accuracy: 0.7967\n",
      "Epoch 81/100\n",
      "213/213 [==============================] - 1s 6ms/step - loss: 0.4551 - accuracy: 0.7853 - val_loss: 0.4776 - val_accuracy: 0.7675\n",
      "Epoch 82/100\n",
      "213/213 [==============================] - 1s 4ms/step - loss: 0.4571 - accuracy: 0.7876 - val_loss: 0.4463 - val_accuracy: 0.7842\n",
      "Epoch 83/100\n",
      "213/213 [==============================] - 1s 4ms/step - loss: 0.4548 - accuracy: 0.7838 - val_loss: 0.4403 - val_accuracy: 0.7867\n",
      "Epoch 84/100\n",
      "213/213 [==============================] - 1s 3ms/step - loss: 0.4558 - accuracy: 0.7834 - val_loss: 0.4707 - val_accuracy: 0.7733\n",
      "Epoch 85/100\n",
      "213/213 [==============================] - 1s 3ms/step - loss: 0.4529 - accuracy: 0.7940 - val_loss: 0.4636 - val_accuracy: 0.7633\n",
      "Epoch 86/100\n",
      "213/213 [==============================] - 1s 3ms/step - loss: 0.4540 - accuracy: 0.7863 - val_loss: 0.4592 - val_accuracy: 0.7817\n",
      "Epoch 87/100\n",
      "213/213 [==============================] - 1s 4ms/step - loss: 0.4529 - accuracy: 0.7899 - val_loss: 0.4628 - val_accuracy: 0.7750\n",
      "Epoch 88/100\n",
      "213/213 [==============================] - 1s 6ms/step - loss: 0.4539 - accuracy: 0.7916 - val_loss: 0.4680 - val_accuracy: 0.7567\n",
      "Epoch 89/100\n",
      "213/213 [==============================] - 1s 4ms/step - loss: 0.4537 - accuracy: 0.7890 - val_loss: 0.4865 - val_accuracy: 0.7667\n",
      "Epoch 90/100\n",
      "213/213 [==============================] - 1s 4ms/step - loss: 0.4544 - accuracy: 0.7901 - val_loss: 0.4219 - val_accuracy: 0.8017\n",
      "Epoch 91/100\n",
      "213/213 [==============================] - 1s 4ms/step - loss: 0.4526 - accuracy: 0.7931 - val_loss: 0.4515 - val_accuracy: 0.7842\n",
      "Epoch 92/100\n",
      "213/213 [==============================] - 1s 3ms/step - loss: 0.4543 - accuracy: 0.7918 - val_loss: 0.4304 - val_accuracy: 0.7950\n",
      "Epoch 93/100\n",
      "213/213 [==============================] - 1s 3ms/step - loss: 0.4534 - accuracy: 0.7846 - val_loss: 0.4781 - val_accuracy: 0.7700\n",
      "Epoch 94/100\n",
      "213/213 [==============================] - 1s 4ms/step - loss: 0.4520 - accuracy: 0.7885 - val_loss: 0.4497 - val_accuracy: 0.7792\n",
      "Epoch 95/100\n",
      "213/213 [==============================] - 1s 6ms/step - loss: 0.4523 - accuracy: 0.7882 - val_loss: 0.4467 - val_accuracy: 0.7683\n",
      "Epoch 96/100\n",
      "213/213 [==============================] - 1s 4ms/step - loss: 0.4550 - accuracy: 0.7844 - val_loss: 0.4746 - val_accuracy: 0.7717\n",
      "Epoch 97/100\n",
      "213/213 [==============================] - 1s 3ms/step - loss: 0.4529 - accuracy: 0.7890 - val_loss: 0.4545 - val_accuracy: 0.7808\n",
      "Epoch 98/100\n",
      "213/213 [==============================] - 1s 3ms/step - loss: 0.4521 - accuracy: 0.7872 - val_loss: 0.4650 - val_accuracy: 0.7792\n",
      "Epoch 99/100\n",
      "213/213 [==============================] - 1s 4ms/step - loss: 0.4531 - accuracy: 0.7871 - val_loss: 0.4378 - val_accuracy: 0.7883\n",
      "Epoch 100/100\n",
      "213/213 [==============================] - 1s 3ms/step - loss: 0.4539 - accuracy: 0.7860 - val_loss: 0.4257 - val_accuracy: 0.7950\n"
     ]
    },
    {
     "data": {
      "text/plain": [
       "<keras.src.callbacks.History at 0x27e649c62b0>"
      ]
     },
     "execution_count": 46,
     "metadata": {},
     "output_type": "execute_result"
    }
   ],
   "source": [
    "model_lr.fit(\n",
    "    x=X_train, y=y_train, validation_split=0.15, batch_size=32, class_weight=class_weights, epochs=100, verbose=1\n",
    ")"
   ]
  },
  {
   "cell_type": "code",
   "execution_count": 47,
   "metadata": {},
   "outputs": [
    {
     "data": {
      "text/html": [
       "<div>\n",
       "<style scoped>\n",
       "    .dataframe tbody tr th:only-of-type {\n",
       "        vertical-align: middle;\n",
       "    }\n",
       "\n",
       "    .dataframe tbody tr th {\n",
       "        vertical-align: top;\n",
       "    }\n",
       "\n",
       "    .dataframe thead th {\n",
       "        text-align: right;\n",
       "    }\n",
       "</style>\n",
       "<table border=\"1\" class=\"dataframe\">\n",
       "  <thead>\n",
       "    <tr style=\"text-align: right;\">\n",
       "      <th></th>\n",
       "      <th>loss</th>\n",
       "      <th>accuracy</th>\n",
       "      <th>val_loss</th>\n",
       "      <th>val_accuracy</th>\n",
       "    </tr>\n",
       "  </thead>\n",
       "  <tbody>\n",
       "    <tr>\n",
       "      <th>0</th>\n",
       "      <td>0.631280</td>\n",
       "      <td>0.607059</td>\n",
       "      <td>0.676469</td>\n",
       "      <td>0.679167</td>\n",
       "    </tr>\n",
       "    <tr>\n",
       "      <th>1</th>\n",
       "      <td>0.532078</td>\n",
       "      <td>0.762941</td>\n",
       "      <td>0.500113</td>\n",
       "      <td>0.797500</td>\n",
       "    </tr>\n",
       "    <tr>\n",
       "      <th>2</th>\n",
       "      <td>0.508207</td>\n",
       "      <td>0.775441</td>\n",
       "      <td>0.477705</td>\n",
       "      <td>0.799167</td>\n",
       "    </tr>\n",
       "    <tr>\n",
       "      <th>3</th>\n",
       "      <td>0.498013</td>\n",
       "      <td>0.773823</td>\n",
       "      <td>0.444288</td>\n",
       "      <td>0.820833</td>\n",
       "    </tr>\n",
       "    <tr>\n",
       "      <th>4</th>\n",
       "      <td>0.493358</td>\n",
       "      <td>0.780588</td>\n",
       "      <td>0.492339</td>\n",
       "      <td>0.767500</td>\n",
       "    </tr>\n",
       "  </tbody>\n",
       "</table>\n",
       "</div>"
      ],
      "text/plain": [
       "       loss  accuracy  val_loss  val_accuracy\n",
       "0  0.631280  0.607059  0.676469      0.679167\n",
       "1  0.532078  0.762941  0.500113      0.797500\n",
       "2  0.508207  0.775441  0.477705      0.799167\n",
       "3  0.498013  0.773823  0.444288      0.820833\n",
       "4  0.493358  0.780588  0.492339      0.767500"
      ]
     },
     "execution_count": 47,
     "metadata": {},
     "output_type": "execute_result"
    }
   ],
   "source": [
    "loss_df = pd.DataFrame(model_lr.history.history)\n",
    "loss_df.head()"
   ]
  },
  {
   "cell_type": "code",
   "execution_count": 48,
   "metadata": {},
   "outputs": [
    {
     "data": {
      "image/png": "[encoded data removed]",
      "text/plain": [
       "<Figure size 432x288 with 1 Axes>"
      ]
     },
     "metadata": {
      "needs_background": "light"
     },
     "output_type": "display_data"
    }
   ],
   "source": [
    "loss_df.plot()\n",
    "plt.show()"
   ]
  },
  {
   "cell_type": "code",
   "execution_count": 49,
   "metadata": {},
   "outputs": [
    {
     "data": {
      "text/plain": [
       "[0.4469735026359558, 0.781499981880188]"
      ]
     },
     "execution_count": 49,
     "metadata": {},
     "output_type": "execute_result"
    }
   ],
   "source": [
    "model_lr.evaluate(X_test, y_test, verbose=0)"
   ]
  },
  {
   "cell_type": "code",
   "execution_count": 50,
   "metadata": {},
   "outputs": [
    {
     "name": "stdout",
     "output_type": "stream",
     "text": [
      "loss:  0.4469735026359558\n",
      "accuracy:  0.781499981880188\n"
     ]
    }
   ],
   "source": [
    "loss, accuracy = model_lr.evaluate(X_test, y_test, verbose=0)\n",
    "print(\"loss: \", loss)\n",
    "print(\"accuracy: \", accuracy)"
   ]
  },
  {
   "cell_type": "code",
   "execution_count": 51,
   "metadata": {},
   "outputs": [
    {
     "name": "stdout",
     "output_type": "stream",
     "text": [
      "63/63 [==============================] - 1s 4ms/step\n",
      "[[1260  333]\n",
      " [ 104  303]]\n",
      "              precision    recall  f1-score   support\n",
      "\n",
      "           0       0.92      0.79      0.85      1593\n",
      "           1       0.48      0.74      0.58       407\n",
      "\n",
      "    accuracy                           0.78      2000\n",
      "   macro avg       0.70      0.77      0.72      2000\n",
      "weighted avg       0.83      0.78      0.80      2000\n",
      "\n"
     ]
    }
   ],
   "source": [
    "y_pred = model_lr.predict(X_test) > 0.5\n",
    "print(confusion_matrix(y_test, y_pred))\n",
    "print(classification_report(y_test, y_pred))"
   ]
  },
  {
   "cell_type": "code",
   "execution_count": 52,
   "metadata": {},
   "outputs": [
    {
     "name": "stdout",
     "output_type": "stream",
     "text": [
      "63/63 [==============================] - 0s 3ms/step\n"
     ]
    },
    {
     "data": {
      "text/plain": [
       "<sklearn.metrics._plot.roc_curve.RocCurveDisplay at 0x27e649e36a0>"
      ]
     },
     "execution_count": 52,
     "metadata": {},
     "output_type": "execute_result"
    },
    {
     "data": {
      "image/png": "[encoded data removed]",
      "text/plain": [
       "<Figure size 432x288 with 1 Axes>"
      ]
     },
     "metadata": {
      "needs_background": "light"
     },
     "output_type": "display_data"
    }
   ],
   "source": [
    "y_pred_proba = model_lr.predict(X_test)\n",
    "RocCurveDisplay.from_predictions(y_test, y_pred_proba)"
   ]
  },
  {
   "cell_type": "markdown",
   "metadata": {
    "id": "wbZaPx8D3kwo"
   },
   "source": [
    "### Add Dropout Layer"
   ]
  },
  {
   "cell_type": "code",
   "execution_count": 53,
   "metadata": {
    "id": "US1kbYHu3kwo"
   },
   "outputs": [],
   "source": [
    "from tensorflow.keras.layers import Dropout"
   ]
  },
  {
   "cell_type": "code",
   "execution_count": 54,
   "metadata": {},
   "outputs": [],
   "source": [
    "model_dl = Sequential()\n",
    "\n",
    "model_dl.add(Dense(7, activation=\"relu\", input_dim=X_train.shape[1]))\n",
    "model_dl.add(Dropout(0.2))\n",
    "model_dl.add(Dense(7, activation=\"relu\"))\n",
    "model_dl.add(Dropout(0.2))\n",
    "model_dl.add(Dense(7, activation=\"relu\"))\n",
    "model_dl.add(Dropout(0.2))\n",
    "model_dl.add(Dense(7, activation=\"relu\"))\n",
    "model_dl.add(Dropout(0.2))\n",
    "model_dl.add(Dense(7, activation=\"relu\"))\n",
    "model_dl.add(Dropout(0.2))\n",
    "model_dl.add(Dense(7, activation=\"relu\"))\n",
    "model_dl.add(Dropout(0.2))\n",
    "model_dl.add(Dense(1, activation=\"sigmoid\"))\n",
    "\n",
    "opt= opt = Adam(learning_rate=0.005)\n",
    "\n",
    "model_dl.compile(optimizer=opt, loss=\"binary_crossentropy\", metrics=[\"accuracy\"])"
   ]
  },
  {
   "cell_type": "code",
   "execution_count": 55,
   "metadata": {},
   "outputs": [
    {
     "name": "stdout",
     "output_type": "stream",
     "text": [
      "Epoch 1/100\n",
      "213/213 [==============================] - 3s 5ms/step - loss: 0.6844 - accuracy: 0.5088 - val_loss: 0.7315 - val_accuracy: 0.3233\n",
      "Epoch 2/100\n",
      "213/213 [==============================] - 1s 4ms/step - loss: 0.6520 - accuracy: 0.5206 - val_loss: 0.5918 - val_accuracy: 0.6592\n",
      "Epoch 3/100\n",
      "213/213 [==============================] - 1s 7ms/step - loss: 0.6305 - accuracy: 0.6335 - val_loss: 0.5755 - val_accuracy: 0.6992\n",
      "Epoch 4/100\n",
      "213/213 [==============================] - 1s 4ms/step - loss: 0.6171 - accuracy: 0.6662 - val_loss: 0.5953 - val_accuracy: 0.6917\n",
      "Epoch 5/100\n",
      "213/213 [==============================] - 1s 4ms/step - loss: 0.6102 - accuracy: 0.6966 - val_loss: 0.5559 - val_accuracy: 0.7167\n",
      "Epoch 6/100\n",
      "213/213 [==============================] - 1s 4ms/step - loss: 0.6057 - accuracy: 0.6681 - val_loss: 0.5592 - val_accuracy: 0.7033\n",
      "Epoch 7/100\n",
      "213/213 [==============================] - 1s 4ms/step - loss: 0.5935 - accuracy: 0.7074 - val_loss: 0.5867 - val_accuracy: 0.7258\n",
      "Epoch 8/100\n",
      "213/213 [==============================] - 1s 4ms/step - loss: 0.5981 - accuracy: 0.7053 - val_loss: 0.5460 - val_accuracy: 0.7250\n",
      "Epoch 9/100\n",
      "213/213 [==============================] - 1s 5ms/step - loss: 0.6021 - accuracy: 0.6938 - val_loss: 0.5751 - val_accuracy: 0.7358\n",
      "Epoch 10/100\n",
      "213/213 [==============================] - 1s 6ms/step - loss: 0.5961 - accuracy: 0.6841 - val_loss: 0.5568 - val_accuracy: 0.6992\n",
      "Epoch 11/100\n",
      "213/213 [==============================] - 1s 4ms/step - loss: 0.5933 - accuracy: 0.7137 - val_loss: 0.6021 - val_accuracy: 0.7050\n",
      "Epoch 12/100\n",
      "213/213 [==============================] - 1s 4ms/step - loss: 0.5863 - accuracy: 0.7019 - val_loss: 0.5775 - val_accuracy: 0.7317\n",
      "Epoch 13/100\n",
      "213/213 [==============================] - 1s 4ms/step - loss: 0.5854 - accuracy: 0.7071 - val_loss: 0.5990 - val_accuracy: 0.7642\n",
      "Epoch 14/100\n",
      "213/213 [==============================] - 1s 4ms/step - loss: 0.5796 - accuracy: 0.7247 - val_loss: 0.5493 - val_accuracy: 0.7567\n",
      "Epoch 15/100\n",
      "213/213 [==============================] - 1s 6ms/step - loss: 0.5751 - accuracy: 0.7299 - val_loss: 0.6046 - val_accuracy: 0.7592\n",
      "Epoch 16/100\n",
      "213/213 [==============================] - 2s 10ms/step - loss: 0.5710 - accuracy: 0.7218 - val_loss: 0.5693 - val_accuracy: 0.7375\n",
      "Epoch 17/100\n",
      "213/213 [==============================] - 1s 5ms/step - loss: 0.5752 - accuracy: 0.7291 - val_loss: 0.5704 - val_accuracy: 0.7783\n",
      "Epoch 18/100\n",
      "213/213 [==============================] - 1s 5ms/step - loss: 0.5701 - accuracy: 0.7193 - val_loss: 0.5635 - val_accuracy: 0.7475\n",
      "Epoch 19/100\n",
      "213/213 [==============================] - 1s 5ms/step - loss: 0.5659 - accuracy: 0.7360 - val_loss: 0.5590 - val_accuracy: 0.7608\n",
      "Epoch 20/100\n",
      "213/213 [==============================] - 1s 5ms/step - loss: 0.5676 - accuracy: 0.7338 - val_loss: 0.5453 - val_accuracy: 0.7875\n",
      "Epoch 21/100\n",
      "213/213 [==============================] - 1s 6ms/step - loss: 0.5655 - accuracy: 0.7196 - val_loss: 0.5082 - val_accuracy: 0.7800\n",
      "Epoch 22/100\n",
      "213/213 [==============================] - 1s 5ms/step - loss: 0.5638 - accuracy: 0.7400 - val_loss: 0.5243 - val_accuracy: 0.7975\n",
      "Epoch 23/100\n",
      "213/213 [==============================] - 1s 5ms/step - loss: 0.5607 - accuracy: 0.7369 - val_loss: 0.5491 - val_accuracy: 0.7542\n",
      "Epoch 24/100\n",
      "213/213 [==============================] - 2s 8ms/step - loss: 0.5556 - accuracy: 0.7204 - val_loss: 0.5293 - val_accuracy: 0.7242\n",
      "Epoch 25/100\n",
      "213/213 [==============================] - 1s 6ms/step - loss: 0.5602 - accuracy: 0.7226 - val_loss: 0.5500 - val_accuracy: 0.7008\n",
      "Epoch 26/100\n",
      "213/213 [==============================] - 2s 11ms/step - loss: 0.5584 - accuracy: 0.7282 - val_loss: 0.5448 - val_accuracy: 0.7200\n",
      "Epoch 27/100\n",
      "213/213 [==============================] - 5s 25ms/step - loss: 0.5584 - accuracy: 0.7091 - val_loss: 0.4429 - val_accuracy: 0.7800\n",
      "Epoch 28/100\n",
      "213/213 [==============================] - 4s 17ms/step - loss: 0.5558 - accuracy: 0.7232 - val_loss: 0.5146 - val_accuracy: 0.7158\n",
      "Epoch 29/100\n",
      "213/213 [==============================] - 1s 6ms/step - loss: 0.5523 - accuracy: 0.7253 - val_loss: 0.5304 - val_accuracy: 0.7308\n",
      "Epoch 30/100\n",
      "213/213 [==============================] - 1s 5ms/step - loss: 0.5462 - accuracy: 0.7176 - val_loss: 0.5423 - val_accuracy: 0.7092\n",
      "Epoch 31/100\n",
      "213/213 [==============================] - 1s 4ms/step - loss: 0.5517 - accuracy: 0.7137 - val_loss: 0.5570 - val_accuracy: 0.7117\n",
      "Epoch 32/100\n",
      "213/213 [==============================] - 1s 4ms/step - loss: 0.5561 - accuracy: 0.7129 - val_loss: 0.4512 - val_accuracy: 0.7558\n",
      "Epoch 33/100\n",
      "213/213 [==============================] - 1s 6ms/step - loss: 0.5497 - accuracy: 0.7197 - val_loss: 0.4868 - val_accuracy: 0.7658\n",
      "Epoch 34/100\n",
      "213/213 [==============================] - 1s 6ms/step - loss: 0.5507 - accuracy: 0.7210 - val_loss: 0.4915 - val_accuracy: 0.7283\n",
      "Epoch 35/100\n",
      "213/213 [==============================] - 1s 4ms/step - loss: 0.5422 - accuracy: 0.7004 - val_loss: 0.5007 - val_accuracy: 0.7125\n",
      "Epoch 36/100\n",
      "213/213 [==============================] - 1s 5ms/step - loss: 0.5505 - accuracy: 0.6925 - val_loss: 0.4772 - val_accuracy: 0.7192\n",
      "Epoch 37/100\n",
      "213/213 [==============================] - 1s 5ms/step - loss: 0.5526 - accuracy: 0.7026 - val_loss: 0.4963 - val_accuracy: 0.7067\n",
      "Epoch 38/100\n",
      "213/213 [==============================] - 3s 14ms/step - loss: 0.5456 - accuracy: 0.7324 - val_loss: 0.5110 - val_accuracy: 0.7133\n",
      "Epoch 39/100\n",
      "213/213 [==============================] - 3s 14ms/step - loss: 0.5408 - accuracy: 0.7249 - val_loss: 0.4834 - val_accuracy: 0.7592\n",
      "Epoch 40/100\n",
      "213/213 [==============================] - 2s 8ms/step - loss: 0.5534 - accuracy: 0.7094 - val_loss: 0.4954 - val_accuracy: 0.7167\n",
      "Epoch 41/100\n",
      "213/213 [==============================] - 2s 7ms/step - loss: 0.5561 - accuracy: 0.7099 - val_loss: 0.5222 - val_accuracy: 0.7100\n",
      "Epoch 42/100\n",
      "213/213 [==============================] - 3s 13ms/step - loss: 0.5516 - accuracy: 0.7316 - val_loss: 0.5042 - val_accuracy: 0.7350\n",
      "Epoch 43/100\n",
      "213/213 [==============================] - 2s 9ms/step - loss: 0.5460 - accuracy: 0.7256 - val_loss: 0.4953 - val_accuracy: 0.7200\n",
      "Epoch 44/100\n",
      "213/213 [==============================] - 2s 7ms/step - loss: 0.5480 - accuracy: 0.7178 - val_loss: 0.4675 - val_accuracy: 0.7700\n",
      "Epoch 45/100\n",
      "213/213 [==============================] - 2s 9ms/step - loss: 0.5491 - accuracy: 0.7241 - val_loss: 0.5188 - val_accuracy: 0.6817\n",
      "Epoch 46/100\n",
      "213/213 [==============================] - 2s 10ms/step - loss: 0.5482 - accuracy: 0.7115 - val_loss: 0.5473 - val_accuracy: 0.6842\n",
      "Epoch 47/100\n",
      "213/213 [==============================] - 1s 7ms/step - loss: 0.5495 - accuracy: 0.7172 - val_loss: 0.4617 - val_accuracy: 0.7742\n",
      "Epoch 48/100\n",
      "213/213 [==============================] - 2s 8ms/step - loss: 0.5504 - accuracy: 0.7397 - val_loss: 0.5171 - val_accuracy: 0.7658\n",
      "Epoch 49/100\n",
      "213/213 [==============================] - 2s 8ms/step - loss: 0.5501 - accuracy: 0.7472 - val_loss: 0.4681 - val_accuracy: 0.7783\n",
      "Epoch 50/100\n",
      "213/213 [==============================] - 1s 5ms/step - loss: 0.5491 - accuracy: 0.7491 - val_loss: 0.5167 - val_accuracy: 0.8008\n",
      "Epoch 51/100\n",
      "213/213 [==============================] - 1s 6ms/step - loss: 0.5531 - accuracy: 0.7209 - val_loss: 0.5041 - val_accuracy: 0.7325\n",
      "Epoch 52/100\n",
      "213/213 [==============================] - 1s 5ms/step - loss: 0.5431 - accuracy: 0.7121 - val_loss: 0.5173 - val_accuracy: 0.7442\n",
      "Epoch 53/100\n",
      "213/213 [==============================] - 2s 8ms/step - loss: 0.5473 - accuracy: 0.7163 - val_loss: 0.4860 - val_accuracy: 0.7892\n",
      "Epoch 54/100\n",
      "213/213 [==============================] - 2s 7ms/step - loss: 0.5459 - accuracy: 0.7275 - val_loss: 0.5560 - val_accuracy: 0.7200\n",
      "Epoch 55/100\n",
      "213/213 [==============================] - 1s 5ms/step - loss: 0.5515 - accuracy: 0.7060 - val_loss: 0.4746 - val_accuracy: 0.7425\n",
      "Epoch 56/100\n",
      "213/213 [==============================] - 1s 5ms/step - loss: 0.5461 - accuracy: 0.7009 - val_loss: 0.4885 - val_accuracy: 0.7583\n",
      "Epoch 57/100\n",
      "213/213 [==============================] - 2s 7ms/step - loss: 0.5524 - accuracy: 0.7294 - val_loss: 0.5077 - val_accuracy: 0.7442\n"
     ]
    },
    {
     "name": "stdout",
     "output_type": "stream",
     "text": [
      "Epoch 58/100\n",
      "213/213 [==============================] - 2s 8ms/step - loss: 0.5472 - accuracy: 0.7425 - val_loss: 0.5570 - val_accuracy: 0.7375\n",
      "Epoch 59/100\n",
      "213/213 [==============================] - 1s 7ms/step - loss: 0.5558 - accuracy: 0.7275 - val_loss: 0.4514 - val_accuracy: 0.7967\n",
      "Epoch 60/100\n",
      "213/213 [==============================] - 1s 6ms/step - loss: 0.5422 - accuracy: 0.7365 - val_loss: 0.5219 - val_accuracy: 0.7508\n",
      "Epoch 61/100\n",
      "213/213 [==============================] - 2s 9ms/step - loss: 0.5552 - accuracy: 0.7326 - val_loss: 0.5227 - val_accuracy: 0.7550\n",
      "Epoch 62/100\n",
      "213/213 [==============================] - 2s 11ms/step - loss: 0.5597 - accuracy: 0.7184 - val_loss: 0.5063 - val_accuracy: 0.7642\n",
      "Epoch 63/100\n",
      "213/213 [==============================] - 1s 7ms/step - loss: 0.5434 - accuracy: 0.7475 - val_loss: 0.5233 - val_accuracy: 0.7883\n",
      "Epoch 64/100\n",
      "213/213 [==============================] - 2s 11ms/step - loss: 0.5447 - accuracy: 0.7194 - val_loss: 0.4665 - val_accuracy: 0.7550\n",
      "Epoch 65/100\n",
      "213/213 [==============================] - 3s 13ms/step - loss: 0.5440 - accuracy: 0.7431 - val_loss: 0.4710 - val_accuracy: 0.8267\n",
      "Epoch 66/100\n",
      "213/213 [==============================] - 2s 9ms/step - loss: 0.5422 - accuracy: 0.7378 - val_loss: 0.5082 - val_accuracy: 0.7283\n",
      "Epoch 67/100\n",
      "213/213 [==============================] - 2s 8ms/step - loss: 0.5464 - accuracy: 0.7074 - val_loss: 0.4560 - val_accuracy: 0.7533\n",
      "Epoch 68/100\n",
      "213/213 [==============================] - 2s 10ms/step - loss: 0.5470 - accuracy: 0.7179 - val_loss: 0.4837 - val_accuracy: 0.7350\n",
      "Epoch 69/100\n",
      "213/213 [==============================] - 2s 9ms/step - loss: 0.5403 - accuracy: 0.7404 - val_loss: 0.4712 - val_accuracy: 0.7683\n",
      "Epoch 70/100\n",
      "213/213 [==============================] - 1s 6ms/step - loss: 0.5349 - accuracy: 0.7371 - val_loss: 0.4968 - val_accuracy: 0.7550\n",
      "Epoch 71/100\n",
      "213/213 [==============================] - 1s 6ms/step - loss: 0.5471 - accuracy: 0.7182 - val_loss: 0.4888 - val_accuracy: 0.7500\n",
      "Epoch 72/100\n",
      "213/213 [==============================] - 1s 6ms/step - loss: 0.5401 - accuracy: 0.7238 - val_loss: 0.4583 - val_accuracy: 0.7900\n",
      "Epoch 73/100\n",
      "213/213 [==============================] - 2s 9ms/step - loss: 0.5438 - accuracy: 0.7449 - val_loss: 0.5080 - val_accuracy: 0.7900\n",
      "Epoch 74/100\n",
      "213/213 [==============================] - 1s 6ms/step - loss: 0.5473 - accuracy: 0.7362 - val_loss: 0.5269 - val_accuracy: 0.7900\n",
      "Epoch 75/100\n",
      "213/213 [==============================] - 1s 6ms/step - loss: 0.5421 - accuracy: 0.7347 - val_loss: 0.5098 - val_accuracy: 0.7250\n",
      "Epoch 76/100\n",
      "213/213 [==============================] - 2s 7ms/step - loss: 0.5413 - accuracy: 0.7203 - val_loss: 0.4929 - val_accuracy: 0.7417\n",
      "Epoch 77/100\n",
      "213/213 [==============================] - 2s 10ms/step - loss: 0.5415 - accuracy: 0.7416 - val_loss: 0.5291 - val_accuracy: 0.7267\n",
      "Epoch 78/100\n",
      "213/213 [==============================] - 2s 7ms/step - loss: 0.5480 - accuracy: 0.7185 - val_loss: 0.4893 - val_accuracy: 0.7608\n",
      "Epoch 79/100\n",
      "213/213 [==============================] - 2s 9ms/step - loss: 0.5423 - accuracy: 0.7278 - val_loss: 0.4644 - val_accuracy: 0.7617\n",
      "Epoch 80/100\n",
      "213/213 [==============================] - 1s 7ms/step - loss: 0.5399 - accuracy: 0.7203 - val_loss: 0.5132 - val_accuracy: 0.7533\n",
      "Epoch 81/100\n",
      "213/213 [==============================] - 2s 10ms/step - loss: 0.5389 - accuracy: 0.7410 - val_loss: 0.4668 - val_accuracy: 0.7850\n",
      "Epoch 82/100\n",
      "213/213 [==============================] - 1s 7ms/step - loss: 0.5419 - accuracy: 0.7488 - val_loss: 0.4929 - val_accuracy: 0.7483\n",
      "Epoch 83/100\n",
      "213/213 [==============================] - 2s 9ms/step - loss: 0.5421 - accuracy: 0.7424 - val_loss: 0.4876 - val_accuracy: 0.7658\n",
      "Epoch 84/100\n",
      "213/213 [==============================] - 1s 7ms/step - loss: 0.5355 - accuracy: 0.7368 - val_loss: 0.4786 - val_accuracy: 0.7867\n",
      "Epoch 85/100\n",
      "213/213 [==============================] - 2s 10ms/step - loss: 0.5438 - accuracy: 0.7475 - val_loss: 0.4534 - val_accuracy: 0.8050\n",
      "Epoch 86/100\n",
      "213/213 [==============================] - 1s 7ms/step - loss: 0.5326 - accuracy: 0.7482 - val_loss: 0.4792 - val_accuracy: 0.7517\n",
      "Epoch 87/100\n",
      "213/213 [==============================] - 2s 8ms/step - loss: 0.5366 - accuracy: 0.7468 - val_loss: 0.4897 - val_accuracy: 0.7908\n",
      "Epoch 88/100\n",
      "213/213 [==============================] - 1s 7ms/step - loss: 0.5404 - accuracy: 0.7381 - val_loss: 0.4801 - val_accuracy: 0.7658\n",
      "Epoch 89/100\n",
      "213/213 [==============================] - 2s 10ms/step - loss: 0.5361 - accuracy: 0.7499 - val_loss: 0.4774 - val_accuracy: 0.8133\n",
      "Epoch 90/100\n",
      "213/213 [==============================] - 2s 8ms/step - loss: 0.5396 - accuracy: 0.7507 - val_loss: 0.4696 - val_accuracy: 0.8250\n",
      "Epoch 91/100\n",
      "213/213 [==============================] - 2s 7ms/step - loss: 0.5353 - accuracy: 0.7397 - val_loss: 0.4526 - val_accuracy: 0.7817\n",
      "Epoch 92/100\n",
      "213/213 [==============================] - 2s 8ms/step - loss: 0.5318 - accuracy: 0.7350 - val_loss: 0.4936 - val_accuracy: 0.7708\n",
      "Epoch 93/100\n",
      "213/213 [==============================] - 2s 9ms/step - loss: 0.5386 - accuracy: 0.7326 - val_loss: 0.4530 - val_accuracy: 0.8117\n",
      "Epoch 94/100\n",
      "213/213 [==============================] - 2s 9ms/step - loss: 0.5350 - accuracy: 0.7418 - val_loss: 0.4651 - val_accuracy: 0.7875\n",
      "Epoch 95/100\n",
      "213/213 [==============================] - 1s 6ms/step - loss: 0.5402 - accuracy: 0.7481 - val_loss: 0.4375 - val_accuracy: 0.7958\n",
      "Epoch 96/100\n",
      "213/213 [==============================] - 2s 9ms/step - loss: 0.5407 - accuracy: 0.7463 - val_loss: 0.4425 - val_accuracy: 0.7858\n",
      "Epoch 97/100\n",
      "213/213 [==============================] - 2s 8ms/step - loss: 0.5423 - accuracy: 0.7403 - val_loss: 0.4317 - val_accuracy: 0.8167\n",
      "Epoch 98/100\n",
      "213/213 [==============================] - 2s 8ms/step - loss: 0.5365 - accuracy: 0.7413 - val_loss: 0.4678 - val_accuracy: 0.7950\n",
      "Epoch 99/100\n",
      "213/213 [==============================] - 1s 6ms/step - loss: 0.5377 - accuracy: 0.7446 - val_loss: 0.4488 - val_accuracy: 0.7875\n",
      "Epoch 100/100\n",
      "213/213 [==============================] - 2s 10ms/step - loss: 0.5414 - accuracy: 0.7329 - val_loss: 0.5109 - val_accuracy: 0.7700\n"
     ]
    },
    {
     "data": {
      "text/plain": [
       "<keras.src.callbacks.History at 0x27e61df5b80>"
      ]
     },
     "execution_count": 55,
     "metadata": {},
     "output_type": "execute_result"
    }
   ],
   "source": [
    "model_dl.fit(\n",
    "    x=X_train, y=y_train, validation_split=0.15, batch_size=32, class_weight=class_weights, epochs=100, verbose=1\n",
    ")"
   ]
  },
  {
   "cell_type": "code",
   "execution_count": 56,
   "metadata": {},
   "outputs": [
    {
     "data": {
      "text/html": [
       "<div>\n",
       "<style scoped>\n",
       "    .dataframe tbody tr th:only-of-type {\n",
       "        vertical-align: middle;\n",
       "    }\n",
       "\n",
       "    .dataframe tbody tr th {\n",
       "        vertical-align: top;\n",
       "    }\n",
       "\n",
       "    .dataframe thead th {\n",
       "        text-align: right;\n",
       "    }\n",
       "</style>\n",
       "<table border=\"1\" class=\"dataframe\">\n",
       "  <thead>\n",
       "    <tr style=\"text-align: right;\">\n",
       "      <th></th>\n",
       "      <th>loss</th>\n",
       "      <th>accuracy</th>\n",
       "      <th>val_loss</th>\n",
       "      <th>val_accuracy</th>\n",
       "    </tr>\n",
       "  </thead>\n",
       "  <tbody>\n",
       "    <tr>\n",
       "      <th>0</th>\n",
       "      <td>0.684415</td>\n",
       "      <td>0.508824</td>\n",
       "      <td>0.731451</td>\n",
       "      <td>0.323333</td>\n",
       "    </tr>\n",
       "    <tr>\n",
       "      <th>1</th>\n",
       "      <td>0.651972</td>\n",
       "      <td>0.520588</td>\n",
       "      <td>0.591826</td>\n",
       "      <td>0.659167</td>\n",
       "    </tr>\n",
       "    <tr>\n",
       "      <th>2</th>\n",
       "      <td>0.630481</td>\n",
       "      <td>0.633529</td>\n",
       "      <td>0.575462</td>\n",
       "      <td>0.699167</td>\n",
       "    </tr>\n",
       "    <tr>\n",
       "      <th>3</th>\n",
       "      <td>0.617087</td>\n",
       "      <td>0.666176</td>\n",
       "      <td>0.595273</td>\n",
       "      <td>0.691667</td>\n",
       "    </tr>\n",
       "    <tr>\n",
       "      <th>4</th>\n",
       "      <td>0.610206</td>\n",
       "      <td>0.696618</td>\n",
       "      <td>0.555875</td>\n",
       "      <td>0.716667</td>\n",
       "    </tr>\n",
       "  </tbody>\n",
       "</table>\n",
       "</div>"
      ],
      "text/plain": [
       "       loss  accuracy  val_loss  val_accuracy\n",
       "0  0.684415  0.508824  0.731451      0.323333\n",
       "1  0.651972  0.520588  0.591826      0.659167\n",
       "2  0.630481  0.633529  0.575462      0.699167\n",
       "3  0.617087  0.666176  0.595273      0.691667\n",
       "4  0.610206  0.696618  0.555875      0.716667"
      ]
     },
     "execution_count": 56,
     "metadata": {},
     "output_type": "execute_result"
    }
   ],
   "source": [
    "loss_df = pd.DataFrame(model_dl.history.history)\n",
    "loss_df.head()"
   ]
  },
  {
   "cell_type": "code",
   "execution_count": 57,
   "metadata": {},
   "outputs": [
    {
     "data": {
      "image/png": "[encoded data removed]",
      "text/plain": [
       "<Figure size 432x288 with 1 Axes>"
      ]
     },
     "metadata": {
      "needs_background": "light"
     },
     "output_type": "display_data"
    }
   ],
   "source": [
    "loss_df.plot()\n",
    "plt.show()"
   ]
  },
  {
   "cell_type": "code",
   "execution_count": 58,
   "metadata": {},
   "outputs": [
    {
     "data": {
      "text/plain": [
       "[0.5261231660842896, 0.75]"
      ]
     },
     "execution_count": 58,
     "metadata": {},
     "output_type": "execute_result"
    }
   ],
   "source": [
    "model_dl.evaluate(X_test, y_test, verbose=0)"
   ]
  },
  {
   "cell_type": "code",
   "execution_count": 59,
   "metadata": {},
   "outputs": [
    {
     "name": "stdout",
     "output_type": "stream",
     "text": [
      "loss:  0.5261231660842896\n",
      "accuracy:  0.75\n"
     ]
    }
   ],
   "source": [
    "loss, accuracy = model_dl.evaluate(X_test, y_test, verbose=0)\n",
    "print(\"loss: \", loss)\n",
    "print(\"accuracy: \", accuracy)"
   ]
  },
  {
   "cell_type": "code",
   "execution_count": 60,
   "metadata": {},
   "outputs": [
    {
     "name": "stdout",
     "output_type": "stream",
     "text": [
      "63/63 [==============================] - 1s 5ms/step\n",
      "[[1172  421]\n",
      " [  79  328]]\n",
      "              precision    recall  f1-score   support\n",
      "\n",
      "           0       0.94      0.74      0.82      1593\n",
      "           1       0.44      0.81      0.57       407\n",
      "\n",
      "    accuracy                           0.75      2000\n",
      "   macro avg       0.69      0.77      0.70      2000\n",
      "weighted avg       0.84      0.75      0.77      2000\n",
      "\n"
     ]
    }
   ],
   "source": [
    "y_pred = model_dl.predict(X_test) > 0.5\n",
    "print(confusion_matrix(y_test, y_pred))\n",
    "print(classification_report(y_test, y_pred))"
   ]
  },
  {
   "cell_type": "code",
   "execution_count": 61,
   "metadata": {},
   "outputs": [
    {
     "name": "stdout",
     "output_type": "stream",
     "text": [
      "63/63 [==============================] - 0s 4ms/step\n"
     ]
    },
    {
     "data": {
      "text/plain": [
       "<sklearn.metrics._plot.roc_curve.RocCurveDisplay at 0x27e66fc07f0>"
      ]
     },
     "execution_count": 61,
     "metadata": {},
     "output_type": "execute_result"
    },
    {
     "data": {
      "image/png": "[encoded data removed]",
      "text/plain": [
       "<Figure size 432x288 with 1 Axes>"
      ]
     },
     "metadata": {
      "needs_background": "light"
     },
     "output_type": "display_data"
    }
   ],
   "source": [
    "y_pred_proba = model_dl.predict(X_test)\n",
    "RocCurveDisplay.from_predictions(y_test, y_pred_proba)"
   ]
  },
  {
   "cell_type": "markdown",
   "metadata": {
    "id": "_11XdmIf3kwo"
   },
   "source": [
    "### Add Early Stop"
   ]
  },
  {
   "cell_type": "markdown",
   "metadata": {
    "id": "On3Xs9dx3kwo"
   },
   "source": [
    "#### Monitor the \"val_loss\" as metric"
   ]
  },
  {
   "cell_type": "code",
   "execution_count": 62,
   "metadata": {
    "id": "0PY2oKjY3kwp"
   },
   "outputs": [],
   "source": [
    "from tensorflow.keras.callbacks import EarlyStopping"
   ]
  },
  {
   "cell_type": "code",
   "execution_count": 63,
   "metadata": {},
   "outputs": [],
   "source": [
    "model_es = Sequential()\n",
    "\n",
    "model_es.add(Dense(7, activation=\"relu\", input_dim=X_train.shape[1]))\n",
    "model_es.add(Dropout(0.2))\n",
    "model_es.add(Dense(7, activation=\"relu\"))\n",
    "model_es.add(Dropout(0.2))\n",
    "model_es.add(Dense(7, activation=\"relu\"))\n",
    "model_es.add(Dropout(0.2))\n",
    "model_es.add(Dense(7, activation=\"relu\"))\n",
    "model_es.add(Dropout(0.2))\n",
    "model_es.add(Dense(7, activation=\"relu\"))\n",
    "model_es.add(Dropout(0.2))\n",
    "model_es.add(Dense(7, activation=\"relu\"))\n",
    "model_es.add(Dropout(0.2))\n",
    "model_es.add(Dense(1, activation=\"sigmoid\"))\n",
    "\n",
    "opt= opt = Adam(learning_rate=0.005)\n",
    "\n",
    "model_es.compile(optimizer=opt, loss=\"binary_crossentropy\", metrics=[\"accuracy\"])"
   ]
  },
  {
   "cell_type": "code",
   "execution_count": 64,
   "metadata": {},
   "outputs": [],
   "source": [
    "early_stop = EarlyStopping(\n",
    "    monitor=\"val_loss\", mode=\"min\", verbose=1, patience=15, restore_best_weights=True\n",
    ")"
   ]
  },
  {
   "cell_type": "code",
   "execution_count": 65,
   "metadata": {},
   "outputs": [
    {
     "name": "stdout",
     "output_type": "stream",
     "text": [
      "Epoch 1/100\n",
      "213/213 [==============================] - 7s 9ms/step - loss: 0.6959 - accuracy: 0.4432 - val_loss: 0.7012 - val_accuracy: 0.4933\n",
      "Epoch 2/100\n",
      "213/213 [==============================] - 2s 10ms/step - loss: 0.6716 - accuracy: 0.6187 - val_loss: 0.6145 - val_accuracy: 0.7317\n",
      "Epoch 3/100\n",
      "213/213 [==============================] - 2s 9ms/step - loss: 0.6091 - accuracy: 0.7304 - val_loss: 0.5535 - val_accuracy: 0.7842\n",
      "Epoch 4/100\n",
      "213/213 [==============================] - 1s 7ms/step - loss: 0.5999 - accuracy: 0.7481 - val_loss: 0.5978 - val_accuracy: 0.6900\n",
      "Epoch 5/100\n",
      "213/213 [==============================] - 2s 9ms/step - loss: 0.5833 - accuracy: 0.7494 - val_loss: 0.5405 - val_accuracy: 0.7200\n",
      "Epoch 6/100\n",
      "213/213 [==============================] - 2s 10ms/step - loss: 0.5758 - accuracy: 0.7471 - val_loss: 0.5556 - val_accuracy: 0.7192\n",
      "Epoch 7/100\n",
      "213/213 [==============================] - 2s 8ms/step - loss: 0.5898 - accuracy: 0.7318 - val_loss: 0.5079 - val_accuracy: 0.7325\n",
      "Epoch 8/100\n",
      "213/213 [==============================] - 2s 8ms/step - loss: 0.5752 - accuracy: 0.7429 - val_loss: 0.4853 - val_accuracy: 0.7717\n",
      "Epoch 9/100\n",
      "213/213 [==============================] - 2s 11ms/step - loss: 0.5795 - accuracy: 0.7366 - val_loss: 0.5043 - val_accuracy: 0.7475\n",
      "Epoch 10/100\n",
      "213/213 [==============================] - 2s 10ms/step - loss: 0.5746 - accuracy: 0.7331 - val_loss: 0.4977 - val_accuracy: 0.7450\n",
      "Epoch 11/100\n",
      "213/213 [==============================] - 1s 6ms/step - loss: 0.5665 - accuracy: 0.7393 - val_loss: 0.5069 - val_accuracy: 0.7000\n",
      "Epoch 12/100\n",
      "213/213 [==============================] - 2s 10ms/step - loss: 0.5740 - accuracy: 0.7228 - val_loss: 0.4992 - val_accuracy: 0.7367\n",
      "Epoch 13/100\n",
      "213/213 [==============================] - 2s 10ms/step - loss: 0.5648 - accuracy: 0.7310 - val_loss: 0.5115 - val_accuracy: 0.7083\n",
      "Epoch 14/100\n",
      "213/213 [==============================] - 2s 8ms/step - loss: 0.5624 - accuracy: 0.7434 - val_loss: 0.5215 - val_accuracy: 0.7300\n",
      "Epoch 15/100\n",
      "213/213 [==============================] - 2s 8ms/step - loss: 0.5641 - accuracy: 0.7507 - val_loss: 0.5114 - val_accuracy: 0.7033\n",
      "Epoch 16/100\n",
      "213/213 [==============================] - 2s 10ms/step - loss: 0.5606 - accuracy: 0.7334 - val_loss: 0.5005 - val_accuracy: 0.7158\n",
      "Epoch 17/100\n",
      "213/213 [==============================] - 2s 10ms/step - loss: 0.5586 - accuracy: 0.7332 - val_loss: 0.5108 - val_accuracy: 0.7425\n",
      "Epoch 18/100\n",
      "213/213 [==============================] - 2s 8ms/step - loss: 0.5533 - accuracy: 0.7379 - val_loss: 0.4724 - val_accuracy: 0.7458\n",
      "Epoch 19/100\n",
      "213/213 [==============================] - 2s 9ms/step - loss: 0.5609 - accuracy: 0.7315 - val_loss: 0.4845 - val_accuracy: 0.7592\n",
      "Epoch 20/100\n",
      "213/213 [==============================] - 2s 10ms/step - loss: 0.5633 - accuracy: 0.7543 - val_loss: 0.5105 - val_accuracy: 0.7558\n",
      "Epoch 21/100\n",
      "213/213 [==============================] - 2s 7ms/step - loss: 0.5532 - accuracy: 0.7588 - val_loss: 0.5055 - val_accuracy: 0.7533\n",
      "Epoch 22/100\n",
      "213/213 [==============================] - 2s 9ms/step - loss: 0.5528 - accuracy: 0.7257 - val_loss: 0.5050 - val_accuracy: 0.7092\n",
      "Epoch 23/100\n",
      "213/213 [==============================] - 2s 9ms/step - loss: 0.5599 - accuracy: 0.7375 - val_loss: 0.5173 - val_accuracy: 0.7442\n",
      "Epoch 24/100\n",
      "213/213 [==============================] - 2s 10ms/step - loss: 0.5498 - accuracy: 0.7409 - val_loss: 0.4980 - val_accuracy: 0.7533\n",
      "Epoch 25/100\n",
      "213/213 [==============================] - 2s 8ms/step - loss: 0.5595 - accuracy: 0.7428 - val_loss: 0.5037 - val_accuracy: 0.7633\n",
      "Epoch 26/100\n",
      "213/213 [==============================] - 2s 9ms/step - loss: 0.5650 - accuracy: 0.7476 - val_loss: 0.5075 - val_accuracy: 0.7533\n",
      "Epoch 27/100\n",
      "213/213 [==============================] - 2s 9ms/step - loss: 0.5519 - accuracy: 0.7238 - val_loss: 0.5126 - val_accuracy: 0.6917\n",
      "Epoch 28/100\n",
      "213/213 [==============================] - 2s 8ms/step - loss: 0.5572 - accuracy: 0.7431 - val_loss: 0.4653 - val_accuracy: 0.7650\n",
      "Epoch 29/100\n",
      "213/213 [==============================] - 2s 9ms/step - loss: 0.5589 - accuracy: 0.7413 - val_loss: 0.5475 - val_accuracy: 0.6842\n",
      "Epoch 30/100\n",
      "213/213 [==============================] - 2s 9ms/step - loss: 0.5599 - accuracy: 0.7428 - val_loss: 0.4830 - val_accuracy: 0.7625\n",
      "Epoch 31/100\n",
      "213/213 [==============================] - 2s 10ms/step - loss: 0.5563 - accuracy: 0.7465 - val_loss: 0.5007 - val_accuracy: 0.7600\n",
      "Epoch 32/100\n",
      "213/213 [==============================] - 2s 9ms/step - loss: 0.5533 - accuracy: 0.7782 - val_loss: 0.4873 - val_accuracy: 0.7850\n",
      "Epoch 33/100\n",
      "213/213 [==============================] - 2s 9ms/step - loss: 0.5548 - accuracy: 0.7451 - val_loss: 0.4855 - val_accuracy: 0.7442\n",
      "Epoch 34/100\n",
      "213/213 [==============================] - 2s 10ms/step - loss: 0.5477 - accuracy: 0.7547 - val_loss: 0.4683 - val_accuracy: 0.7658\n",
      "Epoch 35/100\n",
      "213/213 [==============================] - 2s 9ms/step - loss: 0.5600 - accuracy: 0.7546 - val_loss: 0.5198 - val_accuracy: 0.7217\n",
      "Epoch 36/100\n",
      "213/213 [==============================] - 2s 9ms/step - loss: 0.5503 - accuracy: 0.7559 - val_loss: 0.5354 - val_accuracy: 0.7250\n",
      "Epoch 37/100\n",
      "213/213 [==============================] - 2s 10ms/step - loss: 0.5480 - accuracy: 0.7535 - val_loss: 0.5017 - val_accuracy: 0.7675\n",
      "Epoch 38/100\n",
      "213/213 [==============================] - 2s 8ms/step - loss: 0.5575 - accuracy: 0.7553 - val_loss: 0.4982 - val_accuracy: 0.7408\n",
      "Epoch 39/100\n",
      "213/213 [==============================] - 3s 12ms/step - loss: 0.5458 - accuracy: 0.7653 - val_loss: 0.5012 - val_accuracy: 0.7783\n",
      "Epoch 40/100\n",
      "213/213 [==============================] - 2s 11ms/step - loss: 0.5516 - accuracy: 0.7588 - val_loss: 0.5218 - val_accuracy: 0.7383\n",
      "Epoch 41/100\n",
      "213/213 [==============================] - 2s 9ms/step - loss: 0.5569 - accuracy: 0.7590 - val_loss: 0.4915 - val_accuracy: 0.7758\n",
      "Epoch 42/100\n",
      "213/213 [==============================] - 2s 10ms/step - loss: 0.5510 - accuracy: 0.7593 - val_loss: 0.5080 - val_accuracy: 0.7283\n",
      "Epoch 43/100\n",
      "210/213 [============================>.] - ETA: 0s - loss: 0.5521 - accuracy: 0.7362Restoring model weights from the end of the best epoch: 28.\n",
      "213/213 [==============================] - 2s 11ms/step - loss: 0.5529 - accuracy: 0.7353 - val_loss: 0.5327 - val_accuracy: 0.7092\n",
      "Epoch 43: early stopping\n"
     ]
    },
    {
     "data": {
      "text/plain": [
       "<keras.src.callbacks.History at 0x27e66f853a0>"
      ]
     },
     "execution_count": 65,
     "metadata": {},
     "output_type": "execute_result"
    }
   ],
   "source": [
    "model_es.fit(\n",
    "    x=X_train, y=y_train, validation_split=0.15, batch_size=32, class_weight=class_weights, epochs=100, verbose=1, \n",
    "    callbacks=[early_stop])"
   ]
  },
  {
   "cell_type": "code",
   "execution_count": 66,
   "metadata": {},
   "outputs": [
    {
     "data": {
      "text/html": [
       "<div>\n",
       "<style scoped>\n",
       "    .dataframe tbody tr th:only-of-type {\n",
       "        vertical-align: middle;\n",
       "    }\n",
       "\n",
       "    .dataframe tbody tr th {\n",
       "        vertical-align: top;\n",
       "    }\n",
       "\n",
       "    .dataframe thead th {\n",
       "        text-align: right;\n",
       "    }\n",
       "</style>\n",
       "<table border=\"1\" class=\"dataframe\">\n",
       "  <thead>\n",
       "    <tr style=\"text-align: right;\">\n",
       "      <th></th>\n",
       "      <th>loss</th>\n",
       "      <th>accuracy</th>\n",
       "      <th>val_loss</th>\n",
       "      <th>val_accuracy</th>\n",
       "    </tr>\n",
       "  </thead>\n",
       "  <tbody>\n",
       "    <tr>\n",
       "      <th>0</th>\n",
       "      <td>0.695903</td>\n",
       "      <td>0.443235</td>\n",
       "      <td>0.701245</td>\n",
       "      <td>0.493333</td>\n",
       "    </tr>\n",
       "    <tr>\n",
       "      <th>1</th>\n",
       "      <td>0.671605</td>\n",
       "      <td>0.618676</td>\n",
       "      <td>0.614501</td>\n",
       "      <td>0.731667</td>\n",
       "    </tr>\n",
       "    <tr>\n",
       "      <th>2</th>\n",
       "      <td>0.609130</td>\n",
       "      <td>0.730441</td>\n",
       "      <td>0.553523</td>\n",
       "      <td>0.784167</td>\n",
       "    </tr>\n",
       "    <tr>\n",
       "      <th>3</th>\n",
       "      <td>0.599936</td>\n",
       "      <td>0.748088</td>\n",
       "      <td>0.597763</td>\n",
       "      <td>0.690000</td>\n",
       "    </tr>\n",
       "    <tr>\n",
       "      <th>4</th>\n",
       "      <td>0.583289</td>\n",
       "      <td>0.749412</td>\n",
       "      <td>0.540504</td>\n",
       "      <td>0.720000</td>\n",
       "    </tr>\n",
       "  </tbody>\n",
       "</table>\n",
       "</div>"
      ],
      "text/plain": [
       "       loss  accuracy  val_loss  val_accuracy\n",
       "0  0.695903  0.443235  0.701245      0.493333\n",
       "1  0.671605  0.618676  0.614501      0.731667\n",
       "2  0.609130  0.730441  0.553523      0.784167\n",
       "3  0.599936  0.748088  0.597763      0.690000\n",
       "4  0.583289  0.749412  0.540504      0.720000"
      ]
     },
     "execution_count": 66,
     "metadata": {},
     "output_type": "execute_result"
    }
   ],
   "source": [
    "loss_df = pd.DataFrame(model_es.history.history)\n",
    "loss_df.head()"
   ]
  },
  {
   "cell_type": "code",
   "execution_count": 67,
   "metadata": {},
   "outputs": [
    {
     "data": {
      "image/png": "[encoded data removed]",
      "text/plain": [
       "<Figure size 432x288 with 1 Axes>"
      ]
     },
     "metadata": {
      "needs_background": "light"
     },
     "output_type": "display_data"
    }
   ],
   "source": [
    "loss_df.plot()\n",
    "plt.show()"
   ]
  },
  {
   "cell_type": "code",
   "execution_count": 68,
   "metadata": {},
   "outputs": [
    {
     "data": {
      "text/plain": [
       "[0.4666596055030823, 0.7605000138282776]"
      ]
     },
     "execution_count": 68,
     "metadata": {},
     "output_type": "execute_result"
    }
   ],
   "source": [
    "model_es.evaluate(X_test, y_test, verbose=0)"
   ]
  },
  {
   "cell_type": "code",
   "execution_count": 69,
   "metadata": {},
   "outputs": [
    {
     "name": "stdout",
     "output_type": "stream",
     "text": [
      "loss:  0.4666596055030823\n",
      "accuracy:  0.7605000138282776\n"
     ]
    }
   ],
   "source": [
    "loss, accuracy = model_es.evaluate(X_test, y_test, verbose=0)\n",
    "print(\"loss: \", loss)\n",
    "print(\"accuracy: \", accuracy)"
   ]
  },
  {
   "cell_type": "code",
   "execution_count": 70,
   "metadata": {},
   "outputs": [
    {
     "name": "stdout",
     "output_type": "stream",
     "text": [
      "63/63 [==============================] - 1s 6ms/step\n",
      "[[1206  387]\n",
      " [  92  315]]\n",
      "              precision    recall  f1-score   support\n",
      "\n",
      "           0       0.93      0.76      0.83      1593\n",
      "           1       0.45      0.77      0.57       407\n",
      "\n",
      "    accuracy                           0.76      2000\n",
      "   macro avg       0.69      0.77      0.70      2000\n",
      "weighted avg       0.83      0.76      0.78      2000\n",
      "\n"
     ]
    }
   ],
   "source": [
    "y_pred = model_es.predict(X_test) > 0.5\n",
    "print(confusion_matrix(y_test, y_pred))\n",
    "print(classification_report(y_test, y_pred))"
   ]
  },
  {
   "cell_type": "code",
   "execution_count": 71,
   "metadata": {},
   "outputs": [
    {
     "name": "stdout",
     "output_type": "stream",
     "text": [
      "63/63 [==============================] - 0s 4ms/step\n"
     ]
    },
    {
     "data": {
      "text/plain": [
       "<sklearn.metrics._plot.roc_curve.RocCurveDisplay at 0x27e693736d0>"
      ]
     },
     "execution_count": 71,
     "metadata": {},
     "output_type": "execute_result"
    },
    {
     "data": {
      "image/png": "[encoded data removed]",
      "text/plain": [
       "<Figure size 432x288 with 1 Axes>"
      ]
     },
     "metadata": {
      "needs_background": "light"
     },
     "output_type": "display_data"
    }
   ],
   "source": [
    "y_pred_proba = model_es.predict(X_test)\n",
    "RocCurveDisplay.from_predictions(y_test, y_pred_proba)"
   ]
  },
  {
   "cell_type": "markdown",
   "metadata": {
    "id": "u_kdtet23kwp"
   },
   "source": [
    "#### Monitor the \"val_recall\" as metric"
   ]
  },
  {
   "cell_type": "code",
   "execution_count": 72,
   "metadata": {
    "id": "Xxi-Fo1w3kwp"
   },
   "outputs": [],
   "source": [
    "model_esr = Sequential()\n",
    "\n",
    "model_esr.add(Dense(7, activation=\"relu\", input_dim=X_train.shape[1]))\n",
    "model_esr.add(Dropout(0.2))\n",
    "model_esr.add(Dense(7, activation=\"relu\"))\n",
    "model_esr.add(Dropout(0.2))\n",
    "model_esr.add(Dense(7, activation=\"relu\"))\n",
    "model_esr.add(Dropout(0.2))\n",
    "model_esr.add(Dense(7, activation=\"relu\"))\n",
    "model_esr.add(Dropout(0.2))\n",
    "model_esr.add(Dense(7, activation=\"relu\"))\n",
    "model_esr.add(Dropout(0.2))\n",
    "model_esr.add(Dense(7, activation=\"relu\"))\n",
    "model_esr.add(Dropout(0.2))\n",
    "model_esr.add(Dense(1, activation=\"sigmoid\"))\n",
    "\n",
    "opt= opt = Adam(learning_rate=0.005)\n",
    "\n",
    "model_esr.compile(optimizer=opt, loss=\"binary_crossentropy\", metrics=[\"Recall\"])"
   ]
  },
  {
   "cell_type": "code",
   "execution_count": 73,
   "metadata": {},
   "outputs": [],
   "source": [
    "early_stop = EarlyStopping(\n",
    "    monitor=\"val_recall\", mode=\"min\", verbose=1, patience=15, restore_best_weights=True\n",
    ")"
   ]
  },
  {
   "cell_type": "code",
   "execution_count": 74,
   "metadata": {},
   "outputs": [
    {
     "name": "stdout",
     "output_type": "stream",
     "text": [
      "Epoch 1/100\n",
      "213/213 [==============================] - 9s 14ms/step - loss: 0.6935 - recall: 0.7840 - val_loss: 0.6714 - val_recall: 0.8147\n",
      "Epoch 2/100\n",
      "213/213 [==============================] - 1s 6ms/step - loss: 0.6600 - recall: 0.7876 - val_loss: 0.6188 - val_recall: 0.7931\n",
      "Epoch 3/100\n",
      "213/213 [==============================] - 2s 8ms/step - loss: 0.6459 - recall: 0.8062 - val_loss: 0.5964 - val_recall: 0.7500\n",
      "Epoch 4/100\n",
      "213/213 [==============================] - 2s 9ms/step - loss: 0.6342 - recall: 0.7768 - val_loss: 0.6675 - val_recall: 0.7845\n",
      "Epoch 5/100\n",
      "213/213 [==============================] - 3s 13ms/step - loss: 0.6109 - recall: 0.7196 - val_loss: 0.6187 - val_recall: 0.7414\n",
      "Epoch 6/100\n",
      "213/213 [==============================] - 2s 8ms/step - loss: 0.6079 - recall: 0.6960 - val_loss: 0.6064 - val_recall: 0.7802\n",
      "Epoch 7/100\n",
      "213/213 [==============================] - 2s 7ms/step - loss: 0.5952 - recall: 0.7003 - val_loss: 0.5733 - val_recall: 0.7802\n",
      "Epoch 8/100\n",
      "213/213 [==============================] - 2s 8ms/step - loss: 0.5883 - recall: 0.6953 - val_loss: 0.4983 - val_recall: 0.6293\n",
      "Epoch 9/100\n",
      "213/213 [==============================] - 2s 11ms/step - loss: 0.5903 - recall: 0.6981 - val_loss: 0.6649 - val_recall: 0.8362\n",
      "Epoch 10/100\n",
      "213/213 [==============================] - 1s 7ms/step - loss: 0.5801 - recall: 0.6967 - val_loss: 0.5696 - val_recall: 0.7586\n",
      "Epoch 11/100\n",
      "213/213 [==============================] - 2s 7ms/step - loss: 0.5719 - recall: 0.6888 - val_loss: 0.5717 - val_recall: 0.7802\n",
      "Epoch 12/100\n",
      "213/213 [==============================] - 1s 6ms/step - loss: 0.5727 - recall: 0.6996 - val_loss: 0.5869 - val_recall: 0.8103\n",
      "Epoch 13/100\n",
      "213/213 [==============================] - 1s 6ms/step - loss: 0.5653 - recall: 0.7010 - val_loss: 0.5483 - val_recall: 0.6638\n",
      "Epoch 14/100\n",
      "213/213 [==============================] - 1s 6ms/step - loss: 0.5764 - recall: 0.6059 - val_loss: 0.5842 - val_recall: 0.7586\n",
      "Epoch 15/100\n",
      "213/213 [==============================] - 2s 8ms/step - loss: 0.5782 - recall: 0.6094 - val_loss: 0.5761 - val_recall: 0.6767\n",
      "Epoch 16/100\n",
      "213/213 [==============================] - 2s 11ms/step - loss: 0.5748 - recall: 0.5908 - val_loss: 0.5375 - val_recall: 0.5905\n",
      "Epoch 17/100\n",
      "213/213 [==============================] - 2s 9ms/step - loss: 0.5650 - recall: 0.6102 - val_loss: 0.5979 - val_recall: 0.7500\n",
      "Epoch 18/100\n",
      "213/213 [==============================] - 1s 4ms/step - loss: 0.5654 - recall: 0.6288 - val_loss: 0.5533 - val_recall: 0.6552\n",
      "Epoch 19/100\n",
      "213/213 [==============================] - 2s 8ms/step - loss: 0.5571 - recall: 0.6152 - val_loss: 0.5410 - val_recall: 0.7328\n",
      "Epoch 20/100\n",
      "213/213 [==============================] - 2s 8ms/step - loss: 0.5655 - recall: 0.6423 - val_loss: 0.5272 - val_recall: 0.6940\n",
      "Epoch 21/100\n",
      "213/213 [==============================] - 2s 7ms/step - loss: 0.5538 - recall: 0.6595 - val_loss: 0.6389 - val_recall: 0.8276\n",
      "Epoch 22/100\n",
      "213/213 [==============================] - 1s 5ms/step - loss: 0.5578 - recall: 0.6237 - val_loss: 0.5374 - val_recall: 0.6509\n",
      "Epoch 23/100\n",
      "213/213 [==============================] - 1s 5ms/step - loss: 0.5547 - recall: 0.6166 - val_loss: 0.5223 - val_recall: 0.7500\n",
      "Epoch 24/100\n",
      "213/213 [==============================] - 2s 9ms/step - loss: 0.5579 - recall: 0.6202 - val_loss: 0.5545 - val_recall: 0.7069\n",
      "Epoch 25/100\n",
      "213/213 [==============================] - 3s 12ms/step - loss: 0.5584 - recall: 0.6059 - val_loss: 0.4889 - val_recall: 0.6724\n",
      "Epoch 26/100\n",
      "213/213 [==============================] - 2s 10ms/step - loss: 0.5543 - recall: 0.6259 - val_loss: 0.5804 - val_recall: 0.7888\n",
      "Epoch 27/100\n",
      "213/213 [==============================] - 1s 7ms/step - loss: 0.5616 - recall: 0.5901 - val_loss: 0.5242 - val_recall: 0.6940\n",
      "Epoch 28/100\n",
      "213/213 [==============================] - 1s 6ms/step - loss: 0.5595 - recall: 0.6316 - val_loss: 0.5424 - val_recall: 0.7328\n",
      "Epoch 29/100\n",
      "213/213 [==============================] - 1s 6ms/step - loss: 0.5589 - recall: 0.6216 - val_loss: 0.6000 - val_recall: 0.7543\n",
      "Epoch 30/100\n",
      "213/213 [==============================] - 1s 5ms/step - loss: 0.5480 - recall: 0.6416 - val_loss: 0.5237 - val_recall: 0.7543\n",
      "Epoch 31/100\n",
      "206/213 [============================>.] - ETA: 0s - loss: 0.5465 - recall: 0.6743Restoring model weights from the end of the best epoch: 16.\n",
      "213/213 [==============================] - 1s 5ms/step - loss: 0.5450 - recall: 0.6760 - val_loss: 0.4705 - val_recall: 0.7500\n",
      "Epoch 31: early stopping\n"
     ]
    },
    {
     "data": {
      "text/plain": [
       "<keras.src.callbacks.History at 0x27e6934c040>"
      ]
     },
     "execution_count": 74,
     "metadata": {},
     "output_type": "execute_result"
    }
   ],
   "source": [
    "model_esr.fit(\n",
    "    x=X_train, y=y_train, validation_split=0.15, batch_size=32, class_weight=class_weights, epochs=100, verbose=1, \n",
    "    callbacks=[early_stop])"
   ]
  },
  {
   "cell_type": "code",
   "execution_count": 75,
   "metadata": {},
   "outputs": [
    {
     "data": {
      "text/html": [
       "<div>\n",
       "<style scoped>\n",
       "    .dataframe tbody tr th:only-of-type {\n",
       "        vertical-align: middle;\n",
       "    }\n",
       "\n",
       "    .dataframe tbody tr th {\n",
       "        vertical-align: top;\n",
       "    }\n",
       "\n",
       "    .dataframe thead th {\n",
       "        text-align: right;\n",
       "    }\n",
       "</style>\n",
       "<table border=\"1\" class=\"dataframe\">\n",
       "  <thead>\n",
       "    <tr style=\"text-align: right;\">\n",
       "      <th></th>\n",
       "      <th>loss</th>\n",
       "      <th>recall</th>\n",
       "      <th>val_loss</th>\n",
       "      <th>val_recall</th>\n",
       "    </tr>\n",
       "  </thead>\n",
       "  <tbody>\n",
       "    <tr>\n",
       "      <th>0</th>\n",
       "      <td>0.693451</td>\n",
       "      <td>0.783977</td>\n",
       "      <td>0.671442</td>\n",
       "      <td>0.814655</td>\n",
       "    </tr>\n",
       "    <tr>\n",
       "      <th>1</th>\n",
       "      <td>0.659970</td>\n",
       "      <td>0.787554</td>\n",
       "      <td>0.618794</td>\n",
       "      <td>0.793103</td>\n",
       "    </tr>\n",
       "    <tr>\n",
       "      <th>2</th>\n",
       "      <td>0.645902</td>\n",
       "      <td>0.806152</td>\n",
       "      <td>0.596447</td>\n",
       "      <td>0.750000</td>\n",
       "    </tr>\n",
       "    <tr>\n",
       "      <th>3</th>\n",
       "      <td>0.634211</td>\n",
       "      <td>0.776824</td>\n",
       "      <td>0.667455</td>\n",
       "      <td>0.784483</td>\n",
       "    </tr>\n",
       "    <tr>\n",
       "      <th>4</th>\n",
       "      <td>0.610859</td>\n",
       "      <td>0.719599</td>\n",
       "      <td>0.618675</td>\n",
       "      <td>0.741379</td>\n",
       "    </tr>\n",
       "  </tbody>\n",
       "</table>\n",
       "</div>"
      ],
      "text/plain": [
       "       loss    recall  val_loss  val_recall\n",
       "0  0.693451  0.783977  0.671442    0.814655\n",
       "1  0.659970  0.787554  0.618794    0.793103\n",
       "2  0.645902  0.806152  0.596447    0.750000\n",
       "3  0.634211  0.776824  0.667455    0.784483\n",
       "4  0.610859  0.719599  0.618675    0.741379"
      ]
     },
     "execution_count": 75,
     "metadata": {},
     "output_type": "execute_result"
    }
   ],
   "source": [
    "loss_df = pd.DataFrame(model_esr.history.history)\n",
    "loss_df.head()"
   ]
  },
  {
   "cell_type": "code",
   "execution_count": 76,
   "metadata": {},
   "outputs": [
    {
     "data": {
      "image/png": "[encoded data removed]",
      "text/plain": [
       "<Figure size 432x288 with 1 Axes>"
      ]
     },
     "metadata": {
      "needs_background": "light"
     },
     "output_type": "display_data"
    }
   ],
   "source": [
    "loss_df.plot()\n",
    "plt.show()"
   ]
  },
  {
   "cell_type": "code",
   "execution_count": 77,
   "metadata": {},
   "outputs": [
    {
     "data": {
      "text/plain": [
       "[0.5377788543701172, 0.6093366146087646]"
      ]
     },
     "execution_count": 77,
     "metadata": {},
     "output_type": "execute_result"
    }
   ],
   "source": [
    "model_esr.evaluate(X_test, y_test, verbose=0)"
   ]
  },
  {
   "cell_type": "code",
   "execution_count": 78,
   "metadata": {},
   "outputs": [
    {
     "name": "stdout",
     "output_type": "stream",
     "text": [
      "loss:  0.5377788543701172\n",
      "recall:  0.6093366146087646\n"
     ]
    }
   ],
   "source": [
    "loss, recall = model_esr.evaluate(X_test, y_test, verbose=0)\n",
    "print(\"loss: \", loss)\n",
    "print(\"recall: \", recall)"
   ]
  },
  {
   "cell_type": "code",
   "execution_count": 79,
   "metadata": {},
   "outputs": [
    {
     "name": "stdout",
     "output_type": "stream",
     "text": [
      "63/63 [==============================] - 0s 2ms/step\n",
      "[[1437  156]\n",
      " [ 159  248]]\n",
      "              precision    recall  f1-score   support\n",
      "\n",
      "           0       0.90      0.90      0.90      1593\n",
      "           1       0.61      0.61      0.61       407\n",
      "\n",
      "    accuracy                           0.84      2000\n",
      "   macro avg       0.76      0.76      0.76      2000\n",
      "weighted avg       0.84      0.84      0.84      2000\n",
      "\n"
     ]
    }
   ],
   "source": [
    "y_pred = model_esr.predict(X_test) > 0.5\n",
    "print(confusion_matrix(y_test, y_pred))\n",
    "print(classification_report(y_test, y_pred))"
   ]
  },
  {
   "cell_type": "code",
   "execution_count": 80,
   "metadata": {},
   "outputs": [
    {
     "name": "stdout",
     "output_type": "stream",
     "text": [
      "63/63 [==============================] - 0s 2ms/step\n"
     ]
    },
    {
     "data": {
      "text/plain": [
       "<sklearn.metrics._plot.roc_curve.RocCurveDisplay at 0x27e6b751700>"
      ]
     },
     "execution_count": 80,
     "metadata": {},
     "output_type": "execute_result"
    },
    {
     "data": {
      "image/png": "[encoded data removed]",
      "text/plain": [
       "<Figure size 432x288 with 1 Axes>"
      ]
     },
     "metadata": {
      "needs_background": "light"
     },
     "output_type": "display_data"
    }
   ],
   "source": [
    "y_pred_proba = model_esr.predict(X_test)\n",
    "RocCurveDisplay.from_predictions(y_test, y_pred_proba)"
   ]
  },
  {
   "cell_type": "markdown",
   "metadata": {
    "id": "Qw_-rXAg3kwp"
   },
   "source": [
    "## Optuna"
   ]
  },
  {
   "cell_type": "code",
   "execution_count": 81,
   "metadata": {
    "id": "qYDC_-_n3kwp"
   },
   "outputs": [
    {
     "name": "stdout",
     "output_type": "stream",
     "text": [
      "Requirement already satisfied: optuna in c:\\users\\saraa\\anaconda3\\lib\\site-packages (3.4.0)\n",
      "Requirement already satisfied: PyYAML in c:\\users\\saraa\\anaconda3\\lib\\site-packages (from optuna) (6.0)\n",
      "Requirement already satisfied: alembic>=1.5.0 in c:\\users\\saraa\\anaconda3\\lib\\site-packages (from optuna) (1.12.1)\n",
      "Requirement already satisfied: colorlog in c:\\users\\saraa\\anaconda3\\lib\\site-packages (from optuna) (6.7.0)\n",
      "Requirement already satisfied: sqlalchemy>=1.3.0 in c:\\users\\saraa\\anaconda3\\lib\\site-packages (from optuna) (1.4.32)\n",
      "Requirement already satisfied: tqdm in c:\\users\\saraa\\anaconda3\\lib\\site-packages (from optuna) (4.64.0)\n",
      "Requirement already satisfied: numpy in c:\\users\\saraa\\anaconda3\\lib\\site-packages (from optuna) (1.26.1)\n",
      "Requirement already satisfied: packaging>=20.0 in c:\\users\\saraa\\anaconda3\\lib\\site-packages (from optuna) (21.3)\n",
      "Requirement already satisfied: typing-extensions>=4 in c:\\users\\saraa\\anaconda3\\lib\\site-packages (from alembic>=1.5.0->optuna) (4.8.0)\n",
      "Requirement already satisfied: Mako in c:\\users\\saraa\\anaconda3\\lib\\site-packages (from alembic>=1.5.0->optuna) (1.2.4)\n",
      "Requirement already satisfied: pyparsing!=3.0.5,>=2.0.2 in c:\\users\\saraa\\anaconda3\\lib\\site-packages (from packaging>=20.0->optuna) (3.0.4)\n",
      "Requirement already satisfied: greenlet!=0.4.17 in c:\\users\\saraa\\anaconda3\\lib\\site-packages (from sqlalchemy>=1.3.0->optuna) (1.1.1)\n",
      "Requirement already satisfied: colorama in c:\\users\\saraa\\anaconda3\\lib\\site-packages (from colorlog->optuna) (0.4.4)\n",
      "Requirement already satisfied: MarkupSafe>=0.9.2 in c:\\users\\saraa\\anaconda3\\lib\\site-packages (from Mako->alembic>=1.5.0->optuna) (2.0.1)\n"
     ]
    }
   ],
   "source": [
    "!pip install optuna"
   ]
  },
  {
   "cell_type": "code",
   "execution_count": 82,
   "metadata": {},
   "outputs": [],
   "source": [
    "from tensorflow.keras.optimizers import Adam, Adadelta, RMSprop, Nadam\n",
    "import optuna"
   ]
  },
  {
   "cell_type": "code",
   "execution_count": 83,
   "metadata": {},
   "outputs": [],
   "source": [
    "early_stop = EarlyStopping(\n",
    "    monitor=\"val_loss\", mode=\"min\", verbose=1, patience=15, restore_best_weights=True\n",
    ")"
   ]
  },
  {
   "cell_type": "code",
   "execution_count": 84,
   "metadata": {},
   "outputs": [],
   "source": [
    "trial_metric = \"accuracy\"\n",
    "batch_size = 64\n",
    "\n",
    "\n",
    "def create_model(trial):\n",
    "    # Some hyperparameters we want to optimize\n",
    "    n_units1 = trial.suggest_int(\"n_units1\", 8, 128)\n",
    "    n_units2 = trial.suggest_int(\"n_units2\", 8, 128)\n",
    "    optimizer = trial.suggest_categorical(\"optimizer\", [Adam, Adadelta, RMSprop, Nadam])\n",
    "    learning_rate = trial.suggest_loguniform(\"learning_rate\", 1e-5, 1.3e-1)\n",
    "\n",
    "    model_op = Sequential()\n",
    "    model_op.add(Dense(n_units1, input_dim=X_train.shape[1], activation=\"relu\"))\n",
    "    model_op.add(Dense(n_units2, activation=\"relu\"))\n",
    "    model_op.add(Dense(1, activation=\"sigmoid\"))\n",
    "    model_op.compile(\n",
    "        loss=\"binary_crossentropy\",\n",
    "        optimizer=optimizer(learning_rate=learning_rate),\n",
    "        metrics=[trial_metric],\n",
    "    )\n",
    "    return model_op\n",
    "\n",
    "\n",
    "def objective(trial):\n",
    "    model_op = create_model(trial)\n",
    "    w0 = trial.suggest_loguniform(\"w0\", 0.01, 5)\n",
    "    w1 = trial.suggest_loguniform(\"w1\", 0.01, 5)\n",
    "    model_op.fit(\n",
    "        X_train,\n",
    "        y_train,\n",
    "        validation_data=(X_test, y_test),\n",
    "        batch_size=batch_size,\n",
    "        epochs=100,\n",
    "        callbacks=[early_stop],\n",
    "        class_weight={0: w0, 1: w1},\n",
    "        verbose=0,\n",
    "    )\n",
    "    score = model_op.evaluate(X_test, y_test, verbose=0)[1]\n",
    "    return score"
   ]
  },
  {
   "cell_type": "code",
   "execution_count": 85,
   "metadata": {},
   "outputs": [
    {
     "name": "stderr",
     "output_type": "stream",
     "text": [
      "[I 2023-10-30 13:40:19,529] A new study created in memory with name: no-name-ef717392-0548-4fad-a3e9-0e850304e485\n"
     ]
    },
    {
     "name": "stdout",
     "output_type": "stream",
     "text": [
      "Restoring model weights from the end of the best epoch: 28.\n",
      "Epoch 43: early stopping\n"
     ]
    },
    {
     "name": "stderr",
     "output_type": "stream",
     "text": [
      "[I 2023-10-30 13:40:44,346] Trial 0 finished with value: 0.8259999752044678 and parameters: {'n_units1': 112, 'n_units2': 96, 'optimizer': <class 'keras.src.optimizers.nadam.Nadam'>, 'learning_rate': 0.00018414894213404217, 'w0': 0.08898342444316795, 'w1': 0.01121756288455471}. Best is trial 0 with value: 0.8259999752044678.\n"
     ]
    },
    {
     "name": "stdout",
     "output_type": "stream",
     "text": [
      "Restoring model weights from the end of the best epoch: 21.\n",
      "Epoch 36: early stopping\n"
     ]
    },
    {
     "name": "stderr",
     "output_type": "stream",
     "text": [
      "[I 2023-10-30 13:41:15,868] Trial 1 finished with value: 0.8180000185966492 and parameters: {'n_units1': 33, 'n_units2': 45, 'optimizer': <class 'keras.src.optimizers.nadam.Nadam'>, 'learning_rate': 0.04678783023238464, 'w0': 0.9020661713426913, 'w1': 0.024669882480508977}. Best is trial 0 with value: 0.8259999752044678.\n"
     ]
    },
    {
     "name": "stdout",
     "output_type": "stream",
     "text": [
      "Restoring model weights from the end of the best epoch: 1.\n",
      "Epoch 16: early stopping\n"
     ]
    },
    {
     "name": "stderr",
     "output_type": "stream",
     "text": [
      "[I 2023-10-30 13:41:29,591] Trial 2 finished with value: 0.796500027179718 and parameters: {'n_units1': 80, 'n_units2': 54, 'optimizer': <class 'keras.src.optimizers.adam.Adam'>, 'learning_rate': 5.6225053708308706e-05, 'w0': 0.23854892372249523, 'w1': 0.036430665052443655}. Best is trial 0 with value: 0.8259999752044678.\n"
     ]
    },
    {
     "name": "stdout",
     "output_type": "stream",
     "text": [
      "Restoring model weights from the end of the best epoch: 5.\n",
      "Epoch 20: early stopping\n"
     ]
    },
    {
     "name": "stderr",
     "output_type": "stream",
     "text": [
      "[I 2023-10-30 13:41:50,653] Trial 3 finished with value: 0.859000027179718 and parameters: {'n_units1': 73, 'n_units2': 68, 'optimizer': <class 'keras.src.optimizers.adam.Adam'>, 'learning_rate': 0.007253433691614336, 'w0': 0.10553400215256968, 'w1': 0.05753595066708376}. Best is trial 3 with value: 0.859000027179718.\n"
     ]
    },
    {
     "name": "stdout",
     "output_type": "stream",
     "text": [
      "Restoring model weights from the end of the best epoch: 29.\n",
      "Epoch 44: early stopping\n"
     ]
    },
    {
     "name": "stderr",
     "output_type": "stream",
     "text": [
      "[I 2023-10-30 13:42:23,413] Trial 4 finished with value: 0.796500027179718 and parameters: {'n_units1': 14, 'n_units2': 8, 'optimizer': <class 'keras.src.optimizers.rmsprop.RMSprop'>, 'learning_rate': 1.5928360063910735e-05, 'w0': 0.07444455412133863, 'w1': 0.012109892553110624}. Best is trial 3 with value: 0.859000027179718.\n"
     ]
    },
    {
     "name": "stdout",
     "output_type": "stream",
     "text": [
      "Restoring model weights from the end of the best epoch: 17.\n",
      "Epoch 32: early stopping\n"
     ]
    },
    {
     "name": "stderr",
     "output_type": "stream",
     "text": [
      "[I 2023-10-30 13:43:07,330] Trial 5 finished with value: 0.8514999747276306 and parameters: {'n_units1': 21, 'n_units2': 72, 'optimizer': <class 'keras.src.optimizers.nadam.Nadam'>, 'learning_rate': 0.004381551554948478, 'w0': 0.46957671847420546, 'w1': 0.12458335508502152}. Best is trial 3 with value: 0.859000027179718.\n"
     ]
    },
    {
     "name": "stdout",
     "output_type": "stream",
     "text": [
      "Restoring model weights from the end of the best epoch: 1.\n",
      "Epoch 16: early stopping\n"
     ]
    },
    {
     "name": "stderr",
     "output_type": "stream",
     "text": [
      "[I 2023-10-30 13:43:24,828] Trial 6 finished with value: 0.3125 and parameters: {'n_units1': 21, 'n_units2': 29, 'optimizer': <class 'keras.src.optimizers.nadam.Nadam'>, 'learning_rate': 2.201771993666597e-05, 'w0': 0.01102061747641542, 'w1': 1.9861822725062135}. Best is trial 3 with value: 0.859000027179718.\n"
     ]
    },
    {
     "name": "stdout",
     "output_type": "stream",
     "text": [
      "Restoring model weights from the end of the best epoch: 1.\n",
      "Epoch 16: early stopping\n"
     ]
    },
    {
     "name": "stderr",
     "output_type": "stream",
     "text": [
      "[I 2023-10-30 13:43:40,495] Trial 7 finished with value: 0.28850001096725464 and parameters: {'n_units1': 121, 'n_units2': 41, 'optimizer': <class 'keras.src.optimizers.rmsprop.RMSprop'>, 'learning_rate': 0.028107614973875733, 'w0': 0.01598234191192184, 'w1': 0.9557699043012945}. Best is trial 3 with value: 0.859000027179718.\n"
     ]
    },
    {
     "name": "stdout",
     "output_type": "stream",
     "text": [
      "Restoring model weights from the end of the best epoch: 17.\n",
      "Epoch 32: early stopping\n"
     ]
    },
    {
     "name": "stderr",
     "output_type": "stream",
     "text": [
      "[I 2023-10-30 13:44:26,024] Trial 8 finished with value: 0.6209999918937683 and parameters: {'n_units1': 93, 'n_units2': 18, 'optimizer': <class 'keras.src.optimizers.nadam.Nadam'>, 'learning_rate': 0.06084743756500581, 'w0': 0.202369014651232, 'w1': 3.377566842978971}. Best is trial 3 with value: 0.859000027179718.\n"
     ]
    },
    {
     "name": "stdout",
     "output_type": "stream",
     "text": [
      "Restoring model weights from the end of the best epoch: 8.\n",
      "Epoch 23: early stopping\n"
     ]
    },
    {
     "name": "stderr",
     "output_type": "stream",
     "text": [
      "[I 2023-10-30 13:44:39,295] Trial 9 finished with value: 0.7944999933242798 and parameters: {'n_units1': 84, 'n_units2': 40, 'optimizer': <class 'keras.src.optimizers.adadelta.Adadelta'>, 'learning_rate': 0.00860710824116337, 'w0': 3.184210447937782, 'w1': 0.028127431862126757}. Best is trial 3 with value: 0.859000027179718.\n"
     ]
    },
    {
     "data": {
      "text/plain": [
       "{'n_units1': 73,\n",
       " 'n_units2': 68,\n",
       " 'optimizer': keras.src.optimizers.adam.Adam,\n",
       " 'learning_rate': 0.007253433691614336,\n",
       " 'w0': 0.10553400215256968,\n",
       " 'w1': 0.05753595066708376}"
      ]
     },
     "execution_count": 85,
     "metadata": {},
     "output_type": "execute_result"
    }
   ],
   "source": [
    "study = optuna.create_study(direction=\"maximize\")\n",
    "study.optimize(objective, n_trials=10)\n",
    "study.best_params"
   ]
  },
  {
   "cell_type": "code",
   "execution_count": 86,
   "metadata": {},
   "outputs": [
    {
     "name": "stdout",
     "output_type": "stream",
     "text": [
      "Epoch 1/100\n",
      "14/14 [==============================] - 2s 33ms/step - loss: 0.5509 - accuracy: 0.7418 - val_loss: 0.4359 - val_accuracy: 0.8192\n",
      "Epoch 2/100\n",
      "14/14 [==============================] - 0s 11ms/step - loss: 0.4374 - accuracy: 0.8068 - val_loss: 0.4139 - val_accuracy: 0.8308\n",
      "Epoch 3/100\n",
      "14/14 [==============================] - 0s 11ms/step - loss: 0.4163 - accuracy: 0.8182 - val_loss: 0.4026 - val_accuracy: 0.8483\n",
      "Epoch 4/100\n",
      "14/14 [==============================] - 0s 12ms/step - loss: 0.3991 - accuracy: 0.8325 - val_loss: 0.3724 - val_accuracy: 0.8508\n",
      "Epoch 5/100\n",
      "14/14 [==============================] - 0s 12ms/step - loss: 0.3756 - accuracy: 0.8428 - val_loss: 0.3470 - val_accuracy: 0.8608\n",
      "Epoch 6/100\n",
      "14/14 [==============================] - 0s 12ms/step - loss: 0.3567 - accuracy: 0.8531 - val_loss: 0.3300 - val_accuracy: 0.8633\n",
      "Epoch 7/100\n",
      "14/14 [==============================] - 0s 12ms/step - loss: 0.3473 - accuracy: 0.8571 - val_loss: 0.3201 - val_accuracy: 0.8692\n",
      "Epoch 8/100\n",
      "14/14 [==============================] - 0s 13ms/step - loss: 0.3415 - accuracy: 0.8621 - val_loss: 0.3182 - val_accuracy: 0.8667\n",
      "Epoch 9/100\n",
      "14/14 [==============================] - 0s 13ms/step - loss: 0.3390 - accuracy: 0.8585 - val_loss: 0.3176 - val_accuracy: 0.8650\n",
      "Epoch 10/100\n",
      "14/14 [==============================] - 0s 13ms/step - loss: 0.3341 - accuracy: 0.8582 - val_loss: 0.3148 - val_accuracy: 0.8700\n",
      "Epoch 11/100\n",
      "14/14 [==============================] - 0s 12ms/step - loss: 0.3320 - accuracy: 0.8634 - val_loss: 0.3147 - val_accuracy: 0.8625\n",
      "Epoch 12/100\n",
      "14/14 [==============================] - 0s 17ms/step - loss: 0.3276 - accuracy: 0.8632 - val_loss: 0.3141 - val_accuracy: 0.8700\n",
      "Epoch 13/100\n",
      "14/14 [==============================] - 0s 18ms/step - loss: 0.3256 - accuracy: 0.8665 - val_loss: 0.3187 - val_accuracy: 0.8708\n",
      "Epoch 14/100\n",
      "14/14 [==============================] - 0s 17ms/step - loss: 0.3255 - accuracy: 0.8649 - val_loss: 0.3205 - val_accuracy: 0.8708\n",
      "Epoch 15/100\n",
      "14/14 [==============================] - 0s 17ms/step - loss: 0.3226 - accuracy: 0.8654 - val_loss: 0.3185 - val_accuracy: 0.8700\n",
      "Epoch 16/100\n",
      "14/14 [==============================] - 0s 18ms/step - loss: 0.3183 - accuracy: 0.8662 - val_loss: 0.3191 - val_accuracy: 0.8667\n",
      "Epoch 17/100\n",
      "14/14 [==============================] - 0s 26ms/step - loss: 0.3177 - accuracy: 0.8691 - val_loss: 0.3221 - val_accuracy: 0.8733\n",
      "Epoch 18/100\n",
      "14/14 [==============================] - 0s 20ms/step - loss: 0.3179 - accuracy: 0.8697 - val_loss: 0.3258 - val_accuracy: 0.8675\n",
      "Epoch 19/100\n",
      "14/14 [==============================] - 0s 18ms/step - loss: 0.3148 - accuracy: 0.8693 - val_loss: 0.3204 - val_accuracy: 0.8633\n",
      "Epoch 20/100\n",
      "14/14 [==============================] - 0s 19ms/step - loss: 0.3108 - accuracy: 0.8715 - val_loss: 0.3230 - val_accuracy: 0.8600\n",
      "Epoch 21/100\n",
      "14/14 [==============================] - 0s 21ms/step - loss: 0.3068 - accuracy: 0.8722 - val_loss: 0.3278 - val_accuracy: 0.8717\n",
      "Epoch 22/100\n",
      "14/14 [==============================] - 0s 21ms/step - loss: 0.3044 - accuracy: 0.8732 - val_loss: 0.3268 - val_accuracy: 0.8683\n",
      "Epoch 23/100\n",
      "14/14 [==============================] - 0s 18ms/step - loss: 0.3033 - accuracy: 0.8762 - val_loss: 0.3282 - val_accuracy: 0.8750\n",
      "Epoch 24/100\n",
      "14/14 [==============================] - 0s 20ms/step - loss: 0.3027 - accuracy: 0.8759 - val_loss: 0.3224 - val_accuracy: 0.8725\n",
      "Epoch 25/100\n",
      "14/14 [==============================] - 0s 21ms/step - loss: 0.2994 - accuracy: 0.8757 - val_loss: 0.3340 - val_accuracy: 0.8550\n",
      "Epoch 26/100\n",
      "14/14 [==============================] - 0s 20ms/step - loss: 0.3019 - accuracy: 0.8743 - val_loss: 0.3347 - val_accuracy: 0.8675\n",
      "Epoch 27/100\n",
      "12/14 [========================>.....] - ETA: 0s - loss: 0.2970 - accuracy: 0.8760Restoring model weights from the end of the best epoch: 12.\n",
      "14/14 [==============================] - 0s 19ms/step - loss: 0.2962 - accuracy: 0.8765 - val_loss: 0.3339 - val_accuracy: 0.8633\n",
      "Epoch 27: early stopping\n"
     ]
    },
    {
     "data": {
      "text/plain": [
       "<keras.src.callbacks.History at 0x27e75034dc0>"
      ]
     },
     "execution_count": 86,
     "metadata": {},
     "output_type": "execute_result"
    }
   ],
   "source": [
    "# build model with optuna parameters\n",
    "unit1, unit2, optimizer, lr, w0, w1 = (\n",
    "    study.best_params[\"n_units1\"],\n",
    "    study.best_params[\"n_units2\"],\n",
    "    study.best_params[\"optimizer\"],\n",
    "    study.best_params[\"learning_rate\"],\n",
    "    study.best_params[\"w0\"],\n",
    "    study.best_params[\"w1\"],\n",
    ")\n",
    "\n",
    "model_op = Sequential()\n",
    "model_op.add(Dense(unit1, activation=\"relu\"))\n",
    "model_op.add(Dense(unit2, activation=\"relu\"))\n",
    "model_op.add(Dense(1, activation=\"sigmoid\"))\n",
    "opt = optimizer(learning_rate=lr)\n",
    "model_op.compile(optimizer=opt, loss=\"binary_crossentropy\", metrics=[\"accuracy\"])\n",
    "\n",
    "# train model\n",
    "model_op.fit(\n",
    "    X_train,\n",
    "    y_train,\n",
    "    validation_split=0.15,\n",
    "    batch_size=512,\n",
    "    epochs=100,\n",
    "    callbacks=[early_stop],\n",
    "    verbose=1,\n",
    ")"
   ]
  },
  {
   "cell_type": "markdown",
   "metadata": {
    "id": "yPGZmFrb3kwp"
   },
   "source": [
    "### Evaluate The Model\n",
    "\n",
    "- Plot the model history to observe the changing of metrics\n",
    "- Make prediction to see \"confusion matrix\" and \"classification report\"\n",
    "- Check ROC (Receiver Operating Curve) and AUC (Area Under Curve) for the model"
   ]
  },
  {
   "cell_type": "code",
   "execution_count": 87,
   "metadata": {
    "id": "ONp4E5qP3kwp"
   },
   "outputs": [],
   "source": [
    "history = model_op.history.history"
   ]
  },
  {
   "cell_type": "code",
   "execution_count": 88,
   "metadata": {},
   "outputs": [
    {
     "data": {
      "text/html": [
       "<div>\n",
       "<style scoped>\n",
       "    .dataframe tbody tr th:only-of-type {\n",
       "        vertical-align: middle;\n",
       "    }\n",
       "\n",
       "    .dataframe tbody tr th {\n",
       "        vertical-align: top;\n",
       "    }\n",
       "\n",
       "    .dataframe thead th {\n",
       "        text-align: right;\n",
       "    }\n",
       "</style>\n",
       "<table border=\"1\" class=\"dataframe\">\n",
       "  <thead>\n",
       "    <tr style=\"text-align: right;\">\n",
       "      <th></th>\n",
       "      <th>loss</th>\n",
       "      <th>accuracy</th>\n",
       "      <th>val_loss</th>\n",
       "      <th>val_accuracy</th>\n",
       "    </tr>\n",
       "  </thead>\n",
       "  <tbody>\n",
       "    <tr>\n",
       "      <th>0</th>\n",
       "      <td>0.550888</td>\n",
       "      <td>0.741765</td>\n",
       "      <td>0.435867</td>\n",
       "      <td>0.819167</td>\n",
       "    </tr>\n",
       "    <tr>\n",
       "      <th>1</th>\n",
       "      <td>0.437385</td>\n",
       "      <td>0.806765</td>\n",
       "      <td>0.413869</td>\n",
       "      <td>0.830833</td>\n",
       "    </tr>\n",
       "    <tr>\n",
       "      <th>2</th>\n",
       "      <td>0.416342</td>\n",
       "      <td>0.818235</td>\n",
       "      <td>0.402603</td>\n",
       "      <td>0.848333</td>\n",
       "    </tr>\n",
       "    <tr>\n",
       "      <th>3</th>\n",
       "      <td>0.399123</td>\n",
       "      <td>0.832500</td>\n",
       "      <td>0.372374</td>\n",
       "      <td>0.850833</td>\n",
       "    </tr>\n",
       "    <tr>\n",
       "      <th>4</th>\n",
       "      <td>0.375559</td>\n",
       "      <td>0.842794</td>\n",
       "      <td>0.346954</td>\n",
       "      <td>0.860833</td>\n",
       "    </tr>\n",
       "  </tbody>\n",
       "</table>\n",
       "</div>"
      ],
      "text/plain": [
       "       loss  accuracy  val_loss  val_accuracy\n",
       "0  0.550888  0.741765  0.435867      0.819167\n",
       "1  0.437385  0.806765  0.413869      0.830833\n",
       "2  0.416342  0.818235  0.402603      0.848333\n",
       "3  0.399123  0.832500  0.372374      0.850833\n",
       "4  0.375559  0.842794  0.346954      0.860833"
      ]
     },
     "execution_count": 88,
     "metadata": {},
     "output_type": "execute_result"
    }
   ],
   "source": [
    "loss_df = pd.DataFrame(model_op.history.history)\n",
    "loss_df.head()"
   ]
  },
  {
   "cell_type": "code",
   "execution_count": 89,
   "metadata": {},
   "outputs": [
    {
     "data": {
      "image/png": "[encoded data removed]",
      "text/plain": [
       "<Figure size 432x288 with 1 Axes>"
      ]
     },
     "metadata": {
      "needs_background": "light"
     },
     "output_type": "display_data"
    }
   ],
   "source": [
    "loss_df.plot()\n",
    "plt.show()"
   ]
  },
  {
   "cell_type": "code",
   "execution_count": 90,
   "metadata": {},
   "outputs": [
    {
     "data": {
      "text/plain": [
       "[0.3355422616004944, 0.8659999966621399]"
      ]
     },
     "execution_count": 90,
     "metadata": {},
     "output_type": "execute_result"
    }
   ],
   "source": [
    "model_op.evaluate(X_test, y_test, verbose=0)"
   ]
  },
  {
   "cell_type": "code",
   "execution_count": 91,
   "metadata": {},
   "outputs": [
    {
     "name": "stdout",
     "output_type": "stream",
     "text": [
      "loss:  0.3355422616004944\n",
      "accuracy:  0.8659999966621399\n"
     ]
    }
   ],
   "source": [
    "loss, accuracy = model_op.evaluate(X_test, y_test, verbose=0)\n",
    "print(\"loss: \", loss)\n",
    "print(\"accuracy: \", accuracy)"
   ]
  },
  {
   "cell_type": "code",
   "execution_count": 92,
   "metadata": {},
   "outputs": [
    {
     "name": "stdout",
     "output_type": "stream",
     "text": [
      "63/63 [==============================] - 0s 3ms/step\n",
      "[[1538   55]\n",
      " [ 213  194]]\n",
      "              precision    recall  f1-score   support\n",
      "\n",
      "           0       0.88      0.97      0.92      1593\n",
      "           1       0.78      0.48      0.59       407\n",
      "\n",
      "    accuracy                           0.87      2000\n",
      "   macro avg       0.83      0.72      0.76      2000\n",
      "weighted avg       0.86      0.87      0.85      2000\n",
      "\n"
     ]
    }
   ],
   "source": [
    "y_pred = model_op.predict(X_test) > 0.5\n",
    "print(confusion_matrix(y_test, y_pred))\n",
    "print(classification_report(y_test, y_pred))"
   ]
  },
  {
   "cell_type": "code",
   "execution_count": 93,
   "metadata": {},
   "outputs": [
    {
     "name": "stdout",
     "output_type": "stream",
     "text": [
      "63/63 [==============================] - 0s 3ms/step\n"
     ]
    },
    {
     "data": {
      "text/plain": [
       "<sklearn.metrics._plot.roc_curve.RocCurveDisplay at 0x27e762286d0>"
      ]
     },
     "execution_count": 93,
     "metadata": {},
     "output_type": "execute_result"
    },
    {
     "data": {
      "image/png": "[encoded data removed]",
      "text/plain": [
       "<Figure size 432x288 with 1 Axes>"
      ]
     },
     "metadata": {
      "needs_background": "light"
     },
     "output_type": "display_data"
    }
   ],
   "source": [
    "y_pred_proba = model_op.predict(X_test)\n",
    "RocCurveDisplay.from_predictions(y_test, y_pred_proba)"
   ]
  },
  {
   "cell_type": "markdown",
   "metadata": {
    "id": "1Vn3tJ1H3kwp"
   },
   "source": [
    "# Final Model and Model Deployment"
   ]
  },
  {
   "cell_type": "code",
   "execution_count": 94,
   "metadata": {},
   "outputs": [],
   "source": [
    "from tensorflow.keras.models import load_model\n",
    "import pickle"
   ]
  },
  {
   "cell_type": "code",
   "execution_count": 95,
   "metadata": {
    "id": "Bd8211FF3kwp"
   },
   "outputs": [],
   "source": [
    "model_op.save(\"model_churned.h5\") # i used model with optuna as a final model"
   ]
  },
  {
   "cell_type": "code",
   "execution_count": 96,
   "metadata": {},
   "outputs": [],
   "source": [
    "pickle.dump(scaler, open(\"scaler_churned\", \"wb\"))"
   ]
  },
  {
   "cell_type": "code",
   "execution_count": 97,
   "metadata": {},
   "outputs": [],
   "source": [
    "model_churned = load_model(\"model_churned.h5\")\n",
    "scaler_churned = pickle.load(open(\"scaler_churned\", \"rb\"))"
   ]
  },
  {
   "cell_type": "markdown",
   "metadata": {
    "id": "Cq10ovAX6daY"
   },
   "source": [
    "## Prediction"
   ]
  },
  {
   "cell_type": "code",
   "execution_count": 98,
   "metadata": {
    "id": "HpcgNak73kwq"
   },
   "outputs": [
    {
     "data": {
      "text/html": [
       "<div>\n",
       "<style scoped>\n",
       "    .dataframe tbody tr th:only-of-type {\n",
       "        vertical-align: middle;\n",
       "    }\n",
       "\n",
       "    .dataframe tbody tr th {\n",
       "        vertical-align: top;\n",
       "    }\n",
       "\n",
       "    .dataframe thead th {\n",
       "        text-align: right;\n",
       "    }\n",
       "</style>\n",
       "<table border=\"1\" class=\"dataframe\">\n",
       "  <thead>\n",
       "    <tr style=\"text-align: right;\">\n",
       "      <th></th>\n",
       "      <th>CreditScore</th>\n",
       "      <th>Age</th>\n",
       "      <th>Tenure</th>\n",
       "      <th>Balance</th>\n",
       "      <th>NumOfProducts</th>\n",
       "      <th>HasCrCard</th>\n",
       "      <th>IsActiveMember</th>\n",
       "      <th>EstimatedSalary</th>\n",
       "      <th>Geography_France</th>\n",
       "      <th>Geography_Germany</th>\n",
       "      <th>Geography_Spain</th>\n",
       "      <th>Gender_Female</th>\n",
       "      <th>Gender_Male</th>\n",
       "    </tr>\n",
       "  </thead>\n",
       "  <tbody>\n",
       "    <tr>\n",
       "      <th>2</th>\n",
       "      <td>502</td>\n",
       "      <td>42</td>\n",
       "      <td>8</td>\n",
       "      <td>159660.8</td>\n",
       "      <td>3</td>\n",
       "      <td>1</td>\n",
       "      <td>0</td>\n",
       "      <td>113931.57</td>\n",
       "      <td>1</td>\n",
       "      <td>0</td>\n",
       "      <td>0</td>\n",
       "      <td>1</td>\n",
       "      <td>0</td>\n",
       "    </tr>\n",
       "  </tbody>\n",
       "</table>\n",
       "</div>"
      ],
      "text/plain": [
       "   CreditScore  Age  Tenure   Balance  NumOfProducts  HasCrCard  \\\n",
       "2          502   42       8  159660.8              3          1   \n",
       "\n",
       "   IsActiveMember  EstimatedSalary  Geography_France  Geography_Germany  \\\n",
       "2               0        113931.57                 1                  0   \n",
       "\n",
       "   Geography_Spain  Gender_Female  Gender_Male  \n",
       "2                0              1            0  "
      ]
     },
     "execution_count": 98,
     "metadata": {},
     "output_type": "execute_result"
    }
   ],
   "source": [
    "single_customer = df.drop(\"Exited\", axis=1).iloc[2:3, :]\n",
    "single_customer"
   ]
  },
  {
   "cell_type": "code",
   "execution_count": 99,
   "metadata": {},
   "outputs": [
    {
     "data": {
      "text/plain": [
       "array([[-1.54003409,  0.29007331,  1.02995403,  1.33679057,  2.52791721,\n",
       "         0.64104192, -1.030206  ,  0.24769542,  1.00175153, -0.57831252,\n",
       "        -0.57773517,  1.10191942, -1.10191942]])"
      ]
     },
     "execution_count": 99,
     "metadata": {},
     "output_type": "execute_result"
    }
   ],
   "source": [
    "single_customer = scaler_churned.transform(single_customer)\n",
    "single_customer"
   ]
  },
  {
   "cell_type": "code",
   "execution_count": 100,
   "metadata": {},
   "outputs": [
    {
     "name": "stdout",
     "output_type": "stream",
     "text": [
      "1/1 [==============================] - 0s 142ms/step\n"
     ]
    },
    {
     "data": {
      "text/plain": [
       "array([[1]])"
      ]
     },
     "execution_count": 100,
     "metadata": {},
     "output_type": "execute_result"
    }
   ],
   "source": [
    "(model_churned.predict(single_customer) > 0.5).astype(\"int32\")"
   ]
  },
  {
   "cell_type": "code",
   "execution_count": 101,
   "metadata": {},
   "outputs": [
    {
     "data": {
      "text/plain": [
       "1"
      ]
     },
     "execution_count": 101,
     "metadata": {},
     "output_type": "execute_result"
    }
   ],
   "source": [
    "df[\"Exited\"].iloc[2]"
   ]
  },
  {
   "cell_type": "markdown",
   "metadata": {
    "id": "-5wLG7_93kwq"
   },
   "source": [
    "___\n",
    "\n",
    "<p style=\"text-align: center;\"><img src=\"https://docs.google.com/uc?id=1lY0Uj5R04yMY3-ZppPWxqCr5pvBLYPnV\" class=\"img-fluid\" alt=\"CLRSWY\"></p>\n",
    "\n",
    "___"
   ]
  }
 ],
 "metadata": {
  "colab": {
   "provenance": []
  },
  "kernelspec": {
   "display_name": "Python 3 (ipykernel)",
   "language": "python",
   "name": "python3"
  },
  "language_info": {
   "codemirror_mode": {
    "name": "ipython",
    "version": 3
   },
   "file_extension": ".py",
   "mimetype": "text/x-python",
   "name": "python",
   "nbconvert_exporter": "python",
   "pygments_lexer": "ipython3",
   "version": "3.9.12"
  },
  "toc": {
   "base_numbering": 1,
   "nav_menu": {},
   "number_sections": false,
   "sideBar": true,
   "skip_h1_title": false,
   "title_cell": "Table of Contents",
   "title_sidebar": "Contents",
   "toc_cell": false,
   "toc_position": {},
   "toc_section_display": true,
   "toc_window_display": true
  }
 },
 "nbformat": 4,
 "nbformat_minor": 1
}
